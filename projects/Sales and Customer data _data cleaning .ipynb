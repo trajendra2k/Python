{
 "cells": [
  {
   "cell_type": "markdown",
   "id": "81f17745",
   "metadata": {},
   "source": [
    "# ASSIGNMENT BUILDING & CREATING ISSUES FOR STUDENTS"
   ]
  },
  {
   "cell_type": "code",
   "execution_count": 2,
   "id": "d4c0be5c",
   "metadata": {
    "scrolled": true
   },
   "outputs": [],
   "source": [
    "import pandas as pd\n",
    "import numpy as np\n",
    "import seaborn as sns\n",
    "import matplotlib.pyplot as plt\n",
    "\n",
    "pd.options.display.max_columns = 100\n",
    "pd.options.display.max_rows = 200\n",
    "\n",
    "pd.set_option('display.float_format', lambda x: '%.3f' % x)\n",
    "\n",
    "\n",
    "# Read the CSV file\n",
    "sales_df = pd.read_csv(\"Sales_Data.csv\")\n",
    "\n",
    "customer_df = pd.read_csv(\"Customer_Info.csv\")\n",
    "\n",
    "\n"
   ]
  },
  {
   "cell_type": "markdown",
   "id": "d5e7b4af",
   "metadata": {},
   "source": [
    "<hr>"
   ]
  },
  {
   "cell_type": "markdown",
   "id": "cf3dd4be",
   "metadata": {},
   "source": [
    "# Working with the Sales Data"
   ]
  },
  {
   "cell_type": "markdown",
   "id": "c23d96d5",
   "metadata": {},
   "source": [
    "## 01 Data Ingestion, Initial EDA and Cleaning"
   ]
  },
  {
   "cell_type": "code",
   "execution_count": 4,
   "id": "d9a6ce71",
   "metadata": {
    "scrolled": false
   },
   "outputs": [
    {
     "name": "stdout",
     "output_type": "stream",
     "text": [
      "Shape of the Sales_Data dataframe: (2841, 14)\n",
      "   ORDER_NUMBER ORDER_DATE  LINE_ITEM_NUMBER  QUANTITY_ORDERED  PRICE_EACH  \\\n",
      "0         10107 2018-02-24                 2           108.000     300.240   \n",
      "1         10329 2019-11-15                 1           139.000     300.240   \n",
      "2         10107 2018-02-24                 5           120.000     286.120   \n",
      "\n",
      "      SALES   STATUS PRODUCT_CATEGORY  HAS_MSRP PRODUCT_CODE DEAL_SIZE  \\\n",
      "0 22947.880  Shipped          Poultry         1     S10_1678     Small   \n",
      "1 29545.290  Shipped          Poultry         1     S10_1678    Medium   \n",
      "2 22067.150  Shipped          Poultry         1     S10_2016    Medium   \n",
      "\n",
      "  CUSTOMER_NAME  CUSTOMER_ID CUSTOMER_STATUS  \n",
      "0        COSTCO        81313          Active  \n",
      "1        COSTCO        81313          Active  \n",
      "2        COSTCO        81313          Active  \n"
     ]
    }
   ],
   "source": [
    "\n",
    "# 5 points\n",
    "#   Read the csv Sales_Data.csv creating a dataframe called \"sales_df\"\n",
    "sales_df = pd.read_csv(\"Sales_Data.csv\")\n",
    "\n",
    "#   Use the parse_dates argument to parse any datetime columns\n",
    "sales_df = pd.read_csv('sales_data.csv', parse_dates=['Order_Date'])\n",
    "\n",
    "# Convert the \"Order_Date\" column to a datetime type\n",
    "sales_df['Order_Date'] = pd.to_datetime(sales_df['Order_Date'])\n",
    "\n",
    "# Converting the column headers to uppercase using list comprehension\n",
    "sales_df.columns = [col.upper() for col in sales_df.columns]\n",
    "\n",
    "# Printing the shape of the Sales_Data dataframe\n",
    "print(\"Shape of the Sales_Data dataframe:\", sales_df.shape)\n",
    "#   Show the first 3 rows of the dataframe\n",
    "print(sales_df.head(3))\n",
    "\n",
    "\n",
    "\n",
    "\n",
    "\n"
   ]
  },
  {
   "cell_type": "code",
   "execution_count": 5,
   "id": "94dce699",
   "metadata": {},
   "outputs": [
    {
     "name": "stdout",
     "output_type": "stream",
     "text": [
      "True\n"
     ]
    }
   ],
   "source": [
    "# In this cell, run duplicated() and any() to determine if the dataframe (sales_df) has any duplicates in sales_df\n",
    "# 1 point\n",
    "# check for duplicates in sales_df\n",
    "duplicates_exist = sales_df.duplicated().any()\n",
    "\n",
    "# print the result\n",
    "print(duplicates_exist)\n"
   ]
  },
  {
   "cell_type": "code",
   "execution_count": 6,
   "id": "9bc98b91",
   "metadata": {},
   "outputs": [
    {
     "name": "stdout",
     "output_type": "stream",
     "text": [
      "5\n"
     ]
    }
   ],
   "source": [
    "# In this cell, run duplicated() and sum() to report the number of duplicates in sales_df\n",
    "# 1 point\n",
    "# count the number of duplicates in sales_df\n",
    "\n",
    "num_duplicates = sales_df.duplicated().sum()\n",
    "\n",
    "# print the result\n",
    "print(num_duplicates)\n"
   ]
  },
  {
   "cell_type": "code",
   "execution_count": 7,
   "id": "03242059",
   "metadata": {},
   "outputs": [
    {
     "name": "stdout",
     "output_type": "stream",
     "text": [
      "Shape of original dataframe:  (2841, 14)\n",
      "Shape of deduplicated dataframe:  (2836, 14)\n"
     ]
    }
   ],
   "source": [
    "\n",
    "# 4 points\n",
    "\n",
    "# print the shape of sales_df\n",
    "print(\"Shape of original dataframe: \", sales_df.shape)\n",
    "\n",
    "# drop duplicates in place\n",
    "sales_df.drop_duplicates(inplace=True)\n",
    "\n",
    "# print the new shape of the dataframe\n",
    "print(\"Shape of deduplicated dataframe: \", sales_df.shape)\n",
    "\n"
   ]
  },
  {
   "cell_type": "code",
   "execution_count": 8,
   "id": "0d5fc1ba",
   "metadata": {},
   "outputs": [
    {
     "name": "stdout",
     "output_type": "stream",
     "text": [
      "   ORDER_NUMBER ORDER_DATE  LINE_ITEM_NUMBER  QUANTITY_ORDERED  PRICE_EACH  \\\n",
      "0         10100 2018-01-06                 1           140.000     244.290   \n",
      "1         10100 2018-01-06                 2           134.000     285.490   \n",
      "2         10100 2018-01-06                 3           124.000     308.060   \n",
      "3         10100 2018-01-06                 4           145.000     313.270   \n",
      "4         10101 2018-01-09                 1           109.000     337.600   \n",
      "\n",
      "      SALES   STATUS      PRODUCT_CATEGORY  HAS_MSRP PRODUCT_CODE DEAL_SIZE  \\\n",
      "0 16881.290  Shipped  Fresh Produce Fruits         1     S24_3969     Small   \n",
      "1 22631.610  Shipped  Fresh Produce Fruits         1     S18_2248    Medium   \n",
      "2 25638.610  Shipped  Fresh Produce Fruits         1     S18_1749    Medium   \n",
      "3 28396.380  Shipped  Fresh Produce Fruits         1     S18_4409     Small   \n",
      "4 23357.820  Shipped  Fresh Produce Fruits         1     S18_2795    Medium   \n",
      "\n",
      "  CUSTOMER_NAME  CUSTOMER_ID CUSTOMER_STATUS  \n",
      "0       WALMART        82219          Active  \n",
      "1       WALMART        82219          Active  \n",
      "2       WALMART        82219          Active  \n",
      "3       WALMART        82219          Active  \n",
      "4       WALMART        79760          Active  \n"
     ]
    }
   ],
   "source": [
    "# In this cell, overwrite the current sales_df by sorting the dataset by Order Date and Line Item Number\n",
    "# Reset the index setting the drop argument to True \n",
    "# Show the head of the dataframe\n",
    "# 6 points\n",
    "\n",
    "sales_df.sort_values(by=['ORDER_DATE','LINE_ITEM_NUMBER'],inplace=True)\n",
    "\n",
    "\n",
    "# reset the index\n",
    "sales_df.reset_index(drop=True, inplace=True)\n",
    "\n",
    "# show the head of the dataframe\n",
    "print(sales_df.head())\n",
    "\n"
   ]
  },
  {
   "cell_type": "code",
   "execution_count": 9,
   "id": "5fb63b81",
   "metadata": {},
   "outputs": [
    {
     "name": "stdout",
     "output_type": "stream",
     "text": [
      "<class 'pandas.core.frame.DataFrame'>\n",
      "RangeIndex: 2836 entries, 0 to 2835\n",
      "Data columns (total 14 columns):\n",
      " #   Column            Non-Null Count  Dtype         \n",
      "---  ------            --------------  -----         \n",
      " 0   ORDER_NUMBER      2836 non-null   int64         \n",
      " 1   ORDER_DATE        2836 non-null   datetime64[ns]\n",
      " 2   LINE_ITEM_NUMBER  2836 non-null   int64         \n",
      " 3   QUANTITY_ORDERED  2833 non-null   float64       \n",
      " 4   PRICE_EACH        2833 non-null   float64       \n",
      " 5   SALES             2833 non-null   float64       \n",
      " 6   STATUS            2836 non-null   object        \n",
      " 7   PRODUCT_CATEGORY  2833 non-null   object        \n",
      " 8   HAS_MSRP          2836 non-null   int64         \n",
      " 9   PRODUCT_CODE      2833 non-null   object        \n",
      " 10  DEAL_SIZE         2836 non-null   object        \n",
      " 11  CUSTOMER_NAME     2836 non-null   object        \n",
      " 12  CUSTOMER_ID       2836 non-null   int64         \n",
      " 13  CUSTOMER_STATUS   2836 non-null   object        \n",
      "dtypes: datetime64[ns](1), float64(3), int64(4), object(6)\n",
      "memory usage: 310.3+ KB\n"
     ]
    }
   ],
   "source": [
    "# In this cell, output the data types of sales_df using info()\n",
    "# 1 point\n",
    "sales_df.info()\n"
   ]
  },
  {
   "cell_type": "code",
   "execution_count": 10,
   "id": "5d7370fc",
   "metadata": {},
   "outputs": [
    {
     "data": {
      "text/html": [
       "<div>\n",
       "<style scoped>\n",
       "    .dataframe tbody tr th:only-of-type {\n",
       "        vertical-align: middle;\n",
       "    }\n",
       "\n",
       "    .dataframe tbody tr th {\n",
       "        vertical-align: top;\n",
       "    }\n",
       "\n",
       "    .dataframe thead th {\n",
       "        text-align: right;\n",
       "    }\n",
       "</style>\n",
       "<table border=\"1\" class=\"dataframe\">\n",
       "  <thead>\n",
       "    <tr style=\"text-align: right;\">\n",
       "      <th></th>\n",
       "      <th>ORDER_NUMBER</th>\n",
       "      <th>LINE_ITEM_NUMBER</th>\n",
       "      <th>QUANTITY_ORDERED</th>\n",
       "      <th>PRICE_EACH</th>\n",
       "      <th>SALES</th>\n",
       "      <th>HAS_MSRP</th>\n",
       "      <th>CUSTOMER_ID</th>\n",
       "    </tr>\n",
       "  </thead>\n",
       "  <tbody>\n",
       "    <tr>\n",
       "      <th>count</th>\n",
       "      <td>2836.000</td>\n",
       "      <td>2836.000</td>\n",
       "      <td>2833.000</td>\n",
       "      <td>2833.000</td>\n",
       "      <td>2833.000</td>\n",
       "      <td>2836.000</td>\n",
       "      <td>2836.000</td>\n",
       "    </tr>\n",
       "    <tr>\n",
       "      <th>mean</th>\n",
       "      <td>10258.587</td>\n",
       "      <td>348262.580</td>\n",
       "      <td>135.147</td>\n",
       "      <td>638.278</td>\n",
       "      <td>24896.979</td>\n",
       "      <td>1.000</td>\n",
       "      <td>68032.389</td>\n",
       "    </tr>\n",
       "    <tr>\n",
       "      <th>std</th>\n",
       "      <td>92.045</td>\n",
       "      <td>18546068.180</td>\n",
       "      <td>17.238</td>\n",
       "      <td>18782.479</td>\n",
       "      <td>4632.037</td>\n",
       "      <td>0.000</td>\n",
       "      <td>20686.774</td>\n",
       "    </tr>\n",
       "    <tr>\n",
       "      <th>min</th>\n",
       "      <td>10100.000</td>\n",
       "      <td>1.000</td>\n",
       "      <td>86.000</td>\n",
       "      <td>207.000</td>\n",
       "      <td>12366.600</td>\n",
       "      <td>1.000</td>\n",
       "      <td>32332.000</td>\n",
       "    </tr>\n",
       "    <tr>\n",
       "      <th>25%</th>\n",
       "      <td>10180.000</td>\n",
       "      <td>3.000</td>\n",
       "      <td>123.000</td>\n",
       "      <td>262.070</td>\n",
       "      <td>21698.520</td>\n",
       "      <td>1.000</td>\n",
       "      <td>38396.000</td>\n",
       "    </tr>\n",
       "    <tr>\n",
       "      <th>50%</th>\n",
       "      <td>10262.000</td>\n",
       "      <td>6.000</td>\n",
       "      <td>135.000</td>\n",
       "      <td>287.440</td>\n",
       "      <td>24733.700</td>\n",
       "      <td>1.000</td>\n",
       "      <td>79895.000</td>\n",
       "    </tr>\n",
       "    <tr>\n",
       "      <th>75%</th>\n",
       "      <td>10333.000</td>\n",
       "      <td>9.000</td>\n",
       "      <td>148.000</td>\n",
       "      <td>311.110</td>\n",
       "      <td>28040.970</td>\n",
       "      <td>1.000</td>\n",
       "      <td>82219.000</td>\n",
       "    </tr>\n",
       "    <tr>\n",
       "      <th>max</th>\n",
       "      <td>10425.000</td>\n",
       "      <td>987654321.000</td>\n",
       "      <td>218.000</td>\n",
       "      <td>999999.000</td>\n",
       "      <td>43910.080</td>\n",
       "      <td>1.000</td>\n",
       "      <td>87731.000</td>\n",
       "    </tr>\n",
       "  </tbody>\n",
       "</table>\n",
       "</div>"
      ],
      "text/plain": [
       "       ORDER_NUMBER  LINE_ITEM_NUMBER  QUANTITY_ORDERED  PRICE_EACH     SALES  \\\n",
       "count      2836.000          2836.000          2833.000    2833.000  2833.000   \n",
       "mean      10258.587        348262.580           135.147     638.278 24896.979   \n",
       "std          92.045      18546068.180            17.238   18782.479  4632.037   \n",
       "min       10100.000             1.000            86.000     207.000 12366.600   \n",
       "25%       10180.000             3.000           123.000     262.070 21698.520   \n",
       "50%       10262.000             6.000           135.000     287.440 24733.700   \n",
       "75%       10333.000             9.000           148.000     311.110 28040.970   \n",
       "max       10425.000     987654321.000           218.000  999999.000 43910.080   \n",
       "\n",
       "       HAS_MSRP  CUSTOMER_ID  \n",
       "count  2836.000     2836.000  \n",
       "mean      1.000    68032.389  \n",
       "std       0.000    20686.774  \n",
       "min       1.000    32332.000  \n",
       "25%       1.000    38396.000  \n",
       "50%       1.000    79895.000  \n",
       "75%       1.000    82219.000  \n",
       "max       1.000    87731.000  "
      ]
     },
     "execution_count": 10,
     "metadata": {},
     "output_type": "execute_result"
    }
   ],
   "source": [
    "# In this cell, show the output on sales_df of describe()\n",
    "# 1 point\n",
    "\n",
    "sales_df.describe()"
   ]
  },
  {
   "cell_type": "markdown",
   "id": "91ef048a",
   "metadata": {},
   "source": [
    "## 02 Additional EDA and Data Cleaning"
   ]
  },
  {
   "cell_type": "code",
   "execution_count": 11,
   "id": "b3fbd169",
   "metadata": {},
   "outputs": [
    {
     "name": "stdout",
     "output_type": "stream",
     "text": [
      "      ORDER_NUMBER ORDER_DATE  LINE_ITEM_NUMBER  QUANTITY_ORDERED  PRICE_EACH  \\\n",
      "2143         10334 2019-11-19                 4           145.000  999999.000   \n",
      "\n",
      "         SALES   STATUS PRODUCT_CATEGORY  HAS_MSRP PRODUCT_CODE DEAL_SIZE  \\\n",
      "2143 32142.270  Shipped             Pork         1     S18_4600    Medium   \n",
      "\n",
      "     CUSTOMER_NAME  CUSTOMER_ID CUSTOMER_STATUS  \n",
      "2143       WALMART        38396          Active  \n"
     ]
    }
   ],
   "source": [
    "# In this cell, filter the dataframe to the max value for Price Each identified in the output of describe() above\n",
    "# 2 pointsmax_price_each = sales_df['PRICE_EACH'].max()\n",
    "max_price_each = sales_df['PRICE_EACH'].max()\n",
    "filtered_df = sales_df[sales_df['PRICE_EACH'] == max_price_each]\n",
    "print(filtered_df)\n",
    "\n",
    "\n",
    "\n"
   ]
  },
  {
   "cell_type": "code",
   "execution_count": 12,
   "id": "e13bac93",
   "metadata": {},
   "outputs": [
    {
     "name": "stdout",
     "output_type": "stream",
     "text": [
      "      ORDER_NUMBER ORDER_DATE  LINE_ITEM_NUMBER  QUANTITY_ORDERED  PRICE_EACH  \\\n",
      "1644         10283 2019-08-20         987654321           119.000     253.180   \n",
      "\n",
      "         SALES   STATUS PRODUCT_CATEGORY  HAS_MSRP PRODUCT_CODE DEAL_SIZE  \\\n",
      "1644 20398.390  Shipped            Dairy         1     S18_3029     Small   \n",
      "\n",
      "     CUSTOMER_NAME  CUSTOMER_ID CUSTOMER_STATUS  \n",
      "1644       WALMART        79895          Active  \n"
     ]
    }
   ],
   "source": [
    "# In this cell, filter the dataframe to the max value for Line Item Number identified in the output of describe() above\n",
    "# 1 point\n",
    "\n",
    "max_item_number = sales_df['LINE_ITEM_NUMBER'].max()\n",
    "print(sales_df[sales_df['LINE_ITEM_NUMBER'] == max_item_number])\n",
    "\n"
   ]
  },
  {
   "cell_type": "code",
   "execution_count": 13,
   "id": "a654e8e2",
   "metadata": {
    "scrolled": true
   },
   "outputs": [
    {
     "name": "stdout",
     "output_type": "stream",
     "text": [
      "      ORDER_NUMBER ORDER_DATE  LINE_ITEM_NUMBER  QUANTITY_ORDERED  PRICE_EACH  \\\n",
      "1618         10283 2019-08-20                 1           161.000     278.680   \n",
      "1620         10283 2019-08-20                 2           106.000     261.460   \n",
      "1622         10283 2019-08-20                 3           155.000     301.530   \n",
      "1625         10283 2019-08-20                 5           126.000     318.650   \n",
      "1627         10283 2019-08-20                 6           112.000     310.790   \n",
      "1629         10283 2019-08-20                 7           156.000     251.110   \n",
      "1631         10283 2019-08-20                 8           155.000     299.080   \n",
      "1633         10283 2019-08-20                 9           168.000     247.130   \n",
      "1635         10283 2019-08-20                10           142.000     262.690   \n",
      "1637         10283 2019-08-20                11           160.000     292.050   \n",
      "1639         10283 2019-08-20                12           123.000     240.650   \n",
      "1641         10283 2019-08-20                13           125.000     339.280   \n",
      "1643         10283 2019-08-20                14           132.000     258.060   \n",
      "1644         10283 2019-08-20         987654321           119.000     253.180   \n",
      "\n",
      "         SALES   STATUS          PRODUCT_CATEGORY  HAS_MSRP PRODUCT_CODE  \\\n",
      "1618 26192.010  Shipped                      Beef         1     S72_1253   \n",
      "1620 18274.440  Shipped                     Dairy         1    S700_2047   \n",
      "1622 29755.460  Shipped      Fresh Produce Fruits         1     S18_3856   \n",
      "1625 25129.330  Shipped      Fresh Produce Fruits         1     S24_3816   \n",
      "1627 23959.480  Shipped  Fresh Produce Vegetables         1     S10_4757   \n",
      "1629 25871.090  Shipped                     Dairy         1    S700_2610   \n",
      "1631 31195.410  Shipped      Fresh Produce Fruits         1     S24_3151   \n",
      "1633 24649.830  Shipped                     Dairy         1    S700_1138   \n",
      "1635 25414.650  Shipped                     Dairy         1    S700_3505   \n",
      "1637 33403.700  Shipped                     Dairy         1    S700_3962   \n",
      "1639 17408.030  Shipped                     Dairy         1     S72_3212   \n",
      "1641 27578.130  Shipped                     Dairy         1     S24_2011   \n",
      "1643 23084.640  Shipped      Fresh Produce Fruits         1     S18_4522   \n",
      "1644 20398.390  Shipped                     Dairy         1     S18_3029   \n",
      "\n",
      "     DEAL_SIZE CUSTOMER_NAME  CUSTOMER_ID CUSTOMER_STATUS  \n",
      "1618     Small       WALMART        79895          Active  \n",
      "1620     Small       WALMART        79895          Active  \n",
      "1622    Medium       WALMART        79895          Active  \n",
      "1625     Small       WALMART        79895          Active  \n",
      "1627     Small       WALMART        79895          Active  \n",
      "1629    Medium       WALMART        79895          Active  \n",
      "1631    Medium       WALMART        79895          Active  \n",
      "1633    Medium       WALMART        79895          Active  \n",
      "1635     Small       WALMART        79895          Active  \n",
      "1637    Medium       WALMART        79895          Active  \n",
      "1639     Small       WALMART        79895          Active  \n",
      "1641    Medium       WALMART        79895          Active  \n",
      "1643    Medium       WALMART        79895          Active  \n",
      "1644     Small       WALMART        79895          Active  \n"
     ]
    },
    {
     "data": {
      "text/html": [
       "<div>\n",
       "<style scoped>\n",
       "    .dataframe tbody tr th:only-of-type {\n",
       "        vertical-align: middle;\n",
       "    }\n",
       "\n",
       "    .dataframe tbody tr th {\n",
       "        vertical-align: top;\n",
       "    }\n",
       "\n",
       "    .dataframe thead th {\n",
       "        text-align: right;\n",
       "    }\n",
       "</style>\n",
       "<table border=\"1\" class=\"dataframe\">\n",
       "  <thead>\n",
       "    <tr style=\"text-align: right;\">\n",
       "      <th></th>\n",
       "      <th>ORDER_NUMBER</th>\n",
       "      <th>ORDER_DATE</th>\n",
       "      <th>LINE_ITEM_NUMBER</th>\n",
       "      <th>QUANTITY_ORDERED</th>\n",
       "      <th>PRICE_EACH</th>\n",
       "      <th>SALES</th>\n",
       "      <th>STATUS</th>\n",
       "      <th>PRODUCT_CATEGORY</th>\n",
       "      <th>HAS_MSRP</th>\n",
       "      <th>PRODUCT_CODE</th>\n",
       "      <th>DEAL_SIZE</th>\n",
       "      <th>CUSTOMER_NAME</th>\n",
       "      <th>CUSTOMER_ID</th>\n",
       "      <th>CUSTOMER_STATUS</th>\n",
       "    </tr>\n",
       "  </thead>\n",
       "  <tbody>\n",
       "    <tr>\n",
       "      <th>1618</th>\n",
       "      <td>10283</td>\n",
       "      <td>2019-08-20</td>\n",
       "      <td>1</td>\n",
       "      <td>161.000</td>\n",
       "      <td>278.680</td>\n",
       "      <td>26192.010</td>\n",
       "      <td>Shipped</td>\n",
       "      <td>Beef</td>\n",
       "      <td>1</td>\n",
       "      <td>S72_1253</td>\n",
       "      <td>Small</td>\n",
       "      <td>WALMART</td>\n",
       "      <td>79895</td>\n",
       "      <td>Active</td>\n",
       "    </tr>\n",
       "    <tr>\n",
       "      <th>1620</th>\n",
       "      <td>10283</td>\n",
       "      <td>2019-08-20</td>\n",
       "      <td>2</td>\n",
       "      <td>106.000</td>\n",
       "      <td>261.460</td>\n",
       "      <td>18274.440</td>\n",
       "      <td>Shipped</td>\n",
       "      <td>Dairy</td>\n",
       "      <td>1</td>\n",
       "      <td>S700_2047</td>\n",
       "      <td>Small</td>\n",
       "      <td>WALMART</td>\n",
       "      <td>79895</td>\n",
       "      <td>Active</td>\n",
       "    </tr>\n",
       "    <tr>\n",
       "      <th>1622</th>\n",
       "      <td>10283</td>\n",
       "      <td>2019-08-20</td>\n",
       "      <td>3</td>\n",
       "      <td>155.000</td>\n",
       "      <td>301.530</td>\n",
       "      <td>29755.460</td>\n",
       "      <td>Shipped</td>\n",
       "      <td>Fresh Produce Fruits</td>\n",
       "      <td>1</td>\n",
       "      <td>S18_3856</td>\n",
       "      <td>Medium</td>\n",
       "      <td>WALMART</td>\n",
       "      <td>79895</td>\n",
       "      <td>Active</td>\n",
       "    </tr>\n",
       "    <tr>\n",
       "      <th>1625</th>\n",
       "      <td>10283</td>\n",
       "      <td>2019-08-20</td>\n",
       "      <td>5</td>\n",
       "      <td>126.000</td>\n",
       "      <td>318.650</td>\n",
       "      <td>25129.330</td>\n",
       "      <td>Shipped</td>\n",
       "      <td>Fresh Produce Fruits</td>\n",
       "      <td>1</td>\n",
       "      <td>S24_3816</td>\n",
       "      <td>Small</td>\n",
       "      <td>WALMART</td>\n",
       "      <td>79895</td>\n",
       "      <td>Active</td>\n",
       "    </tr>\n",
       "    <tr>\n",
       "      <th>1627</th>\n",
       "      <td>10283</td>\n",
       "      <td>2019-08-20</td>\n",
       "      <td>6</td>\n",
       "      <td>112.000</td>\n",
       "      <td>310.790</td>\n",
       "      <td>23959.480</td>\n",
       "      <td>Shipped</td>\n",
       "      <td>Fresh Produce Vegetables</td>\n",
       "      <td>1</td>\n",
       "      <td>S10_4757</td>\n",
       "      <td>Small</td>\n",
       "      <td>WALMART</td>\n",
       "      <td>79895</td>\n",
       "      <td>Active</td>\n",
       "    </tr>\n",
       "    <tr>\n",
       "      <th>1629</th>\n",
       "      <td>10283</td>\n",
       "      <td>2019-08-20</td>\n",
       "      <td>7</td>\n",
       "      <td>156.000</td>\n",
       "      <td>251.110</td>\n",
       "      <td>25871.090</td>\n",
       "      <td>Shipped</td>\n",
       "      <td>Dairy</td>\n",
       "      <td>1</td>\n",
       "      <td>S700_2610</td>\n",
       "      <td>Medium</td>\n",
       "      <td>WALMART</td>\n",
       "      <td>79895</td>\n",
       "      <td>Active</td>\n",
       "    </tr>\n",
       "    <tr>\n",
       "      <th>1631</th>\n",
       "      <td>10283</td>\n",
       "      <td>2019-08-20</td>\n",
       "      <td>8</td>\n",
       "      <td>155.000</td>\n",
       "      <td>299.080</td>\n",
       "      <td>31195.410</td>\n",
       "      <td>Shipped</td>\n",
       "      <td>Fresh Produce Fruits</td>\n",
       "      <td>1</td>\n",
       "      <td>S24_3151</td>\n",
       "      <td>Medium</td>\n",
       "      <td>WALMART</td>\n",
       "      <td>79895</td>\n",
       "      <td>Active</td>\n",
       "    </tr>\n",
       "    <tr>\n",
       "      <th>1633</th>\n",
       "      <td>10283</td>\n",
       "      <td>2019-08-20</td>\n",
       "      <td>9</td>\n",
       "      <td>168.000</td>\n",
       "      <td>247.130</td>\n",
       "      <td>24649.830</td>\n",
       "      <td>Shipped</td>\n",
       "      <td>Dairy</td>\n",
       "      <td>1</td>\n",
       "      <td>S700_1138</td>\n",
       "      <td>Medium</td>\n",
       "      <td>WALMART</td>\n",
       "      <td>79895</td>\n",
       "      <td>Active</td>\n",
       "    </tr>\n",
       "    <tr>\n",
       "      <th>1635</th>\n",
       "      <td>10283</td>\n",
       "      <td>2019-08-20</td>\n",
       "      <td>10</td>\n",
       "      <td>142.000</td>\n",
       "      <td>262.690</td>\n",
       "      <td>25414.650</td>\n",
       "      <td>Shipped</td>\n",
       "      <td>Dairy</td>\n",
       "      <td>1</td>\n",
       "      <td>S700_3505</td>\n",
       "      <td>Small</td>\n",
       "      <td>WALMART</td>\n",
       "      <td>79895</td>\n",
       "      <td>Active</td>\n",
       "    </tr>\n",
       "    <tr>\n",
       "      <th>1637</th>\n",
       "      <td>10283</td>\n",
       "      <td>2019-08-20</td>\n",
       "      <td>11</td>\n",
       "      <td>160.000</td>\n",
       "      <td>292.050</td>\n",
       "      <td>33403.700</td>\n",
       "      <td>Shipped</td>\n",
       "      <td>Dairy</td>\n",
       "      <td>1</td>\n",
       "      <td>S700_3962</td>\n",
       "      <td>Medium</td>\n",
       "      <td>WALMART</td>\n",
       "      <td>79895</td>\n",
       "      <td>Active</td>\n",
       "    </tr>\n",
       "    <tr>\n",
       "      <th>1639</th>\n",
       "      <td>10283</td>\n",
       "      <td>2019-08-20</td>\n",
       "      <td>12</td>\n",
       "      <td>123.000</td>\n",
       "      <td>240.650</td>\n",
       "      <td>17408.030</td>\n",
       "      <td>Shipped</td>\n",
       "      <td>Dairy</td>\n",
       "      <td>1</td>\n",
       "      <td>S72_3212</td>\n",
       "      <td>Small</td>\n",
       "      <td>WALMART</td>\n",
       "      <td>79895</td>\n",
       "      <td>Active</td>\n",
       "    </tr>\n",
       "    <tr>\n",
       "      <th>1641</th>\n",
       "      <td>10283</td>\n",
       "      <td>2019-08-20</td>\n",
       "      <td>13</td>\n",
       "      <td>125.000</td>\n",
       "      <td>339.280</td>\n",
       "      <td>27578.130</td>\n",
       "      <td>Shipped</td>\n",
       "      <td>Dairy</td>\n",
       "      <td>1</td>\n",
       "      <td>S24_2011</td>\n",
       "      <td>Medium</td>\n",
       "      <td>WALMART</td>\n",
       "      <td>79895</td>\n",
       "      <td>Active</td>\n",
       "    </tr>\n",
       "    <tr>\n",
       "      <th>1643</th>\n",
       "      <td>10283</td>\n",
       "      <td>2019-08-20</td>\n",
       "      <td>14</td>\n",
       "      <td>132.000</td>\n",
       "      <td>258.060</td>\n",
       "      <td>23084.640</td>\n",
       "      <td>Shipped</td>\n",
       "      <td>Fresh Produce Fruits</td>\n",
       "      <td>1</td>\n",
       "      <td>S18_4522</td>\n",
       "      <td>Medium</td>\n",
       "      <td>WALMART</td>\n",
       "      <td>79895</td>\n",
       "      <td>Active</td>\n",
       "    </tr>\n",
       "    <tr>\n",
       "      <th>1644</th>\n",
       "      <td>10283</td>\n",
       "      <td>2019-08-20</td>\n",
       "      <td>987654321</td>\n",
       "      <td>119.000</td>\n",
       "      <td>253.180</td>\n",
       "      <td>20398.390</td>\n",
       "      <td>Shipped</td>\n",
       "      <td>Dairy</td>\n",
       "      <td>1</td>\n",
       "      <td>S18_3029</td>\n",
       "      <td>Small</td>\n",
       "      <td>WALMART</td>\n",
       "      <td>79895</td>\n",
       "      <td>Active</td>\n",
       "    </tr>\n",
       "  </tbody>\n",
       "</table>\n",
       "</div>"
      ],
      "text/plain": [
       "      ORDER_NUMBER ORDER_DATE  LINE_ITEM_NUMBER  QUANTITY_ORDERED  PRICE_EACH  \\\n",
       "1618         10283 2019-08-20                 1           161.000     278.680   \n",
       "1620         10283 2019-08-20                 2           106.000     261.460   \n",
       "1622         10283 2019-08-20                 3           155.000     301.530   \n",
       "1625         10283 2019-08-20                 5           126.000     318.650   \n",
       "1627         10283 2019-08-20                 6           112.000     310.790   \n",
       "1629         10283 2019-08-20                 7           156.000     251.110   \n",
       "1631         10283 2019-08-20                 8           155.000     299.080   \n",
       "1633         10283 2019-08-20                 9           168.000     247.130   \n",
       "1635         10283 2019-08-20                10           142.000     262.690   \n",
       "1637         10283 2019-08-20                11           160.000     292.050   \n",
       "1639         10283 2019-08-20                12           123.000     240.650   \n",
       "1641         10283 2019-08-20                13           125.000     339.280   \n",
       "1643         10283 2019-08-20                14           132.000     258.060   \n",
       "1644         10283 2019-08-20         987654321           119.000     253.180   \n",
       "\n",
       "         SALES   STATUS          PRODUCT_CATEGORY  HAS_MSRP PRODUCT_CODE  \\\n",
       "1618 26192.010  Shipped                      Beef         1     S72_1253   \n",
       "1620 18274.440  Shipped                     Dairy         1    S700_2047   \n",
       "1622 29755.460  Shipped      Fresh Produce Fruits         1     S18_3856   \n",
       "1625 25129.330  Shipped      Fresh Produce Fruits         1     S24_3816   \n",
       "1627 23959.480  Shipped  Fresh Produce Vegetables         1     S10_4757   \n",
       "1629 25871.090  Shipped                     Dairy         1    S700_2610   \n",
       "1631 31195.410  Shipped      Fresh Produce Fruits         1     S24_3151   \n",
       "1633 24649.830  Shipped                     Dairy         1    S700_1138   \n",
       "1635 25414.650  Shipped                     Dairy         1    S700_3505   \n",
       "1637 33403.700  Shipped                     Dairy         1    S700_3962   \n",
       "1639 17408.030  Shipped                     Dairy         1     S72_3212   \n",
       "1641 27578.130  Shipped                     Dairy         1     S24_2011   \n",
       "1643 23084.640  Shipped      Fresh Produce Fruits         1     S18_4522   \n",
       "1644 20398.390  Shipped                     Dairy         1     S18_3029   \n",
       "\n",
       "     DEAL_SIZE CUSTOMER_NAME  CUSTOMER_ID CUSTOMER_STATUS  \n",
       "1618     Small       WALMART        79895          Active  \n",
       "1620     Small       WALMART        79895          Active  \n",
       "1622    Medium       WALMART        79895          Active  \n",
       "1625     Small       WALMART        79895          Active  \n",
       "1627     Small       WALMART        79895          Active  \n",
       "1629    Medium       WALMART        79895          Active  \n",
       "1631    Medium       WALMART        79895          Active  \n",
       "1633    Medium       WALMART        79895          Active  \n",
       "1635     Small       WALMART        79895          Active  \n",
       "1637    Medium       WALMART        79895          Active  \n",
       "1639     Small       WALMART        79895          Active  \n",
       "1641    Medium       WALMART        79895          Active  \n",
       "1643    Medium       WALMART        79895          Active  \n",
       "1644     Small       WALMART        79895          Active  "
      ]
     },
     "execution_count": 13,
     "metadata": {},
     "output_type": "execute_result"
    }
   ],
   "source": [
    "# In this cell, filter the dataframe to the Order Number identified in the output above\n",
    "# Sort values by Line Item Number\n",
    "# Show the head of the first 30 rows\n",
    "# 3 points\n",
    "\n",
    "temp1=sales_df[sales_df['ORDER_NUMBER'] == 10283]\n",
    "print(temp1)\n",
    "temp2=temp1.sort_values(by=['LINE_ITEM_NUMBER'])\n",
    "temp2.head(30)"
   ]
  },
  {
   "cell_type": "code",
   "execution_count": 14,
   "id": "b76b8340",
   "metadata": {},
   "outputs": [
    {
     "name": "stdout",
     "output_type": "stream",
     "text": [
      "      ORDER_NUMBER ORDER_DATE  LINE_ITEM_NUMBER  QUANTITY_ORDERED  PRICE_EACH  \\\n",
      "1644         10283 2019-08-20         987654321           119.000     253.180   \n",
      "\n",
      "         SALES   STATUS PRODUCT_CATEGORY  HAS_MSRP PRODUCT_CODE DEAL_SIZE  \\\n",
      "1644 20398.390  Shipped            Dairy         1     S18_3029     Small   \n",
      "\n",
      "     CUSTOMER_NAME  CUSTOMER_ID CUSTOMER_STATUS  \n",
      "1644       WALMART        79895          Active  \n"
     ]
    }
   ],
   "source": [
    "# In this cell:\n",
    "#  Filter the dataframe to the Order Number identified in the output above and where the Line Item Number is equal to 987654321\n",
    "# 3 points\n",
    "\n",
    "\n",
    "temp3=sales_df[(sales_df['LINE_ITEM_NUMBER'] == 987654321)&(sales_df['ORDER_NUMBER'] == 10283)]\n",
    "\n",
    "print(temp3)\n",
    "\n",
    "\n",
    "\n",
    "\n",
    "\n"
   ]
  },
  {
   "cell_type": "code",
   "execution_count": 15,
   "id": "d1806062",
   "metadata": {},
   "outputs": [
    {
     "data": {
      "text/plain": [
       "ORDER_NUMBER        0\n",
       "ORDER_DATE          0\n",
       "LINE_ITEM_NUMBER    0\n",
       "QUANTITY_ORDERED    3\n",
       "PRICE_EACH          3\n",
       "SALES               3\n",
       "STATUS              0\n",
       "PRODUCT_CATEGORY    3\n",
       "HAS_MSRP            0\n",
       "PRODUCT_CODE        3\n",
       "DEAL_SIZE           0\n",
       "CUSTOMER_NAME       0\n",
       "CUSTOMER_ID         0\n",
       "CUSTOMER_STATUS     0\n",
       "dtype: int64"
      ]
     },
     "execution_count": 15,
     "metadata": {},
     "output_type": "execute_result"
    }
   ],
   "source": [
    "# In this cell, check for missing values using isnull() and sum()\n",
    "# 1 points\n",
    "# Check for missing values using isnull() and sum()\n",
    "sales_df.isnull().sum()\n",
    "\n",
    "\n"
   ]
  },
  {
   "cell_type": "code",
   "execution_count": 16,
   "id": "2b48e7fa",
   "metadata": {},
   "outputs": [
    {
     "name": "stdout",
     "output_type": "stream",
     "text": [
      "ORDER_NUMBER        0\n",
      "ORDER_DATE          0\n",
      "LINE_ITEM_NUMBER    0\n",
      "QUANTITY_ORDERED    0\n",
      "PRICE_EACH          0\n",
      "SALES               0\n",
      "STATUS              0\n",
      "PRODUCT_CATEGORY    0\n",
      "HAS_MSRP            0\n",
      "PRODUCT_CODE        0\n",
      "DEAL_SIZE           0\n",
      "CUSTOMER_NAME       0\n",
      "CUSTOMER_ID         0\n",
      "CUSTOMER_STATUS     0\n",
      "dtype: int64\n"
     ]
    }
   ],
   "source": [
    "# In this cell, drop all rows with missing values using dropna()\n",
    "# Set the axis to 0\n",
    "# Overwrite sales_df using inplace=True\n",
    "# Again, check for missing values using isnull() and sum() to confirm your changes\n",
    "# 2 points\n",
    "sales_df.dropna(axis=0, inplace=True)\n",
    "print(sales_df.isnull().sum())\n"
   ]
  },
  {
   "cell_type": "code",
   "execution_count": 26,
   "id": "57ee8657",
   "metadata": {},
   "outputs": [
    {
     "data": {
      "text/plain": [
       "<AxesSubplot:xlabel='SALES'>"
      ]
     },
     "execution_count": 26,
     "metadata": {},
     "output_type": "execute_result"
    },
    {
     "data": {
      "image/png": "[encoded data removed]",
      "text/plain": [
       "<Figure size 640x480 with 1 Axes>"
      ]
     },
     "metadata": {},
     "output_type": "display_data"
    }
   ],
   "source": [
    "# In this cell, create a box plot with Seaborn for the Sales column in sales_df\n",
    "# 1 point\n",
    "\n",
    "\n",
    "sns.boxplot(x=sales_df['SALES'])\n"
   ]
  },
  {
   "cell_type": "code",
   "execution_count": 34,
   "id": "4d20bc25",
   "metadata": {},
   "outputs": [],
   "source": [
    "sales_df2 = sales_df.copy()"
   ]
  },
  {
   "cell_type": "markdown",
   "id": "0500a6e1",
   "metadata": {},
   "source": [
    "<hr>"
   ]
  },
  {
   "cell_type": "markdown",
   "id": "7f3e5c53",
   "metadata": {},
   "source": [
    "# Working with the Customer Info Data"
   ]
  },
  {
   "cell_type": "markdown",
   "id": "4ba73a8c",
   "metadata": {},
   "source": [
    "## 01 Data Ingestion, Initial EDA and Cleaning"
   ]
  },
  {
   "cell_type": "code",
   "execution_count": 35,
   "id": "307ae055",
   "metadata": {},
   "outputs": [
    {
     "name": "stdout",
     "output_type": "stream",
     "text": [
      "(45, 8)\n",
      "   CUSTOMER_ID               CUSTOMER_ADDRESS  CUSTOMER_POSTAL_CODE  \\\n",
      "0        81313        897 Long Airport Avenue                 73301   \n",
      "1        36763             59 rue de l'Abbaye                 30033   \n",
      "2        35419  27 rue du Colonel Pierre Avia                 33480   \n",
      "\n",
      "  CUSTOMER_CITY CUSTOMER_STATE CUSTOMER_COUNTRY      CONTACT_NAME  \\\n",
      "0        Austin             TX              USA          Yu, Kwai   \n",
      "1       Atlanta             GA              USA     Henriot, Paul   \n",
      "2    Palm Beach             FL              USA  Da Cunha, Daniel   \n",
      "\n",
      "  CONTACT_PHONE  \n",
      "0  +10740359934  \n",
      "1  759-472-0266  \n",
      "2  +17238100489  \n"
     ]
    }
   ],
   "source": [
    "# In this cell, complete the following:\n",
    "#   Read the csv Customer_Info.csv creating a dataframe called \"customer_df\"\n",
    "#   Use str and upper() to convert the column headers to uppercase\n",
    "#   Print the shape of the dataframe\n",
    "#   Show the first 3 rows of the dataframe\n",
    "# 4 points\n",
    "\n",
    "# 5 points\n",
    "\n",
    "customer_df = pd.read_csv(\"Customer_Info.csv\")\n",
    "customer_df.columns=customer_df.columns.str.upper()\n",
    "print(customer_df.shape)\n",
    "print(customer_df.head(3))\n",
    "\n",
    "\n",
    "\n",
    "\n",
    "\n",
    "\n",
    "\n"
   ]
  },
  {
   "cell_type": "code",
   "execution_count": 36,
   "id": "dc49f7ab",
   "metadata": {},
   "outputs": [
    {
     "name": "stdout",
     "output_type": "stream",
     "text": [
      "True\n"
     ]
    }
   ],
   "source": [
    "# In this cell, run duplicated() and any() to determine if the dataframe (customer_df) has any duplicates\n",
    "# 1 point\n",
    "\n",
    "duplicates_exist = customer_df.duplicated().any()\n",
    "\n",
    "# print the result\n",
    "print(duplicates_exist)\n"
   ]
  },
  {
   "cell_type": "code",
   "execution_count": 37,
   "id": "b2410250",
   "metadata": {},
   "outputs": [
    {
     "name": "stdout",
     "output_type": "stream",
     "text": [
      "3\n"
     ]
    }
   ],
   "source": [
    "# In this cell, run duplicated() and sum() to report the number of duplicates in customer_df\n",
    "# 1 point\n",
    "\n",
    "\n",
    "num_duplicates = customer_df.duplicated().sum()\n",
    "\n",
    "# print the result\n",
    "print(num_duplicates)\n"
   ]
  },
  {
   "cell_type": "code",
   "execution_count": 38,
   "id": "9a31e7d1",
   "metadata": {},
   "outputs": [
    {
     "name": "stdout",
     "output_type": "stream",
     "text": [
      "Shape of original dataframe:  (45, 8)\n",
      "Shape of deduplicated dataframe:  (42, 8)\n"
     ]
    }
   ],
   "source": [
    "# In this cell, print the shape of customer_df\n",
    "# Drop duplicates in place using drop_duplicates()\n",
    "# Print the new shape of the dataframe\n",
    "# 4 points\n",
    "\n",
    "# 4 points\n",
    "\n",
    "print(\"Shape of original dataframe: \", customer_df.shape)\n",
    "\n",
    "customer_df.drop_duplicates(inplace=True)\n",
    "\n",
    "print(\"Shape of deduplicated dataframe: \", customer_df.shape)\n",
    "\n"
   ]
  },
  {
   "cell_type": "code",
   "execution_count": 39,
   "id": "83eb3a43",
   "metadata": {},
   "outputs": [
    {
     "name": "stdout",
     "output_type": "stream",
     "text": [
      "<class 'pandas.core.frame.DataFrame'>\n",
      "Int64Index: 42 entries, 0 to 41\n",
      "Data columns (total 8 columns):\n",
      " #   Column                Non-Null Count  Dtype \n",
      "---  ------                --------------  ----- \n",
      " 0   CUSTOMER_ID           42 non-null     int64 \n",
      " 1   CUSTOMER_ADDRESS      42 non-null     object\n",
      " 2   CUSTOMER_POSTAL_CODE  42 non-null     int64 \n",
      " 3   CUSTOMER_CITY         42 non-null     object\n",
      " 4   CUSTOMER_STATE        42 non-null     object\n",
      " 5   CUSTOMER_COUNTRY      42 non-null     object\n",
      " 6   CONTACT_NAME          42 non-null     object\n",
      " 7   CONTACT_PHONE         42 non-null     object\n",
      "dtypes: int64(2), object(6)\n",
      "memory usage: 3.0+ KB\n"
     ]
    }
   ],
   "source": [
    "# In this cell, output the data types of customer_df using info()\n",
    "# 1 point\n",
    "\n",
    "customer_df.info()\n"
   ]
  },
  {
   "cell_type": "markdown",
   "id": "5fc1bca8",
   "metadata": {},
   "source": [
    "## 02 Additional EDA and Data Cleaning"
   ]
  },
  {
   "cell_type": "code",
   "execution_count": 40,
   "id": "02a71593",
   "metadata": {},
   "outputs": [
    {
     "data": {
      "text/plain": [
       "CUSTOMER_ID             0\n",
       "CUSTOMER_ADDRESS        0\n",
       "CUSTOMER_POSTAL_CODE    0\n",
       "CUSTOMER_CITY           0\n",
       "CUSTOMER_STATE          0\n",
       "CUSTOMER_COUNTRY        0\n",
       "CONTACT_NAME            0\n",
       "CONTACT_PHONE           0\n",
       "dtype: int64"
      ]
     },
     "execution_count": 40,
     "metadata": {},
     "output_type": "execute_result"
    }
   ],
   "source": [
    "# In this cell, check for missing values using isnull() and sum() in customer_df\n",
    "# 1 point\n",
    "customer_df.isnull().sum()\n",
    "\n",
    "\n",
    "\n"
   ]
  },
  {
   "cell_type": "markdown",
   "id": "a47e8fa1",
   "metadata": {},
   "source": [
    "## 04 Additional Data Work"
   ]
  },
  {
   "cell_type": "code",
   "execution_count": 41,
   "id": "59af46e7",
   "metadata": {},
   "outputs": [
    {
     "name": "stdout",
     "output_type": "stream",
     "text": [
      "(2833, 21)\n",
      "   ORDER_NUMBER ORDER_DATE  LINE_ITEM_NUMBER  QUANTITY_ORDERED  PRICE_EACH  \\\n",
      "0         10100 2018-01-06                 1           140.000     244.290   \n",
      "1         10100 2018-01-06                 2           134.000     285.490   \n",
      "2         10100 2018-01-06                 3           124.000     308.060   \n",
      "3         10100 2018-01-06                 4           145.000     313.270   \n",
      "4         10101 2018-01-09                 1           109.000     337.600   \n",
      "\n",
      "      SALES   STATUS      PRODUCT_CATEGORY  HAS_MSRP PRODUCT_CODE DEAL_SIZE  \\\n",
      "0 16881.290  Shipped  Fresh Produce Fruits         1     S24_3969     Small   \n",
      "1 22631.610  Shipped  Fresh Produce Fruits         1     S18_2248    Medium   \n",
      "2 25638.610  Shipped  Fresh Produce Fruits         1     S18_1749    Medium   \n",
      "3 28396.380  Shipped  Fresh Produce Fruits         1     S18_4409     Small   \n",
      "4 23357.820  Shipped  Fresh Produce Fruits         1     S18_2795    Medium   \n",
      "\n",
      "  CUSTOMER_NAME  CUSTOMER_ID CUSTOMER_STATUS   CUSTOMER_ADDRESS  \\\n",
      "0       WALMART        82219          Active  9408 Furth Circle   \n",
      "1       WALMART        82219          Active  9408 Furth Circle   \n",
      "2       WALMART        82219          Active  9408 Furth Circle   \n",
      "3       WALMART        82219          Active  9408 Furth Circle   \n",
      "4       WALMART        79760          Active       1900 Oak St.   \n",
      "\n",
      "   CUSTOMER_POSTAL_CODE CUSTOMER_CITY CUSTOMER_STATE CUSTOMER_COUNTRY  \\\n",
      "0                 77001       Houston             TX              USA   \n",
      "1                 77001       Houston             TX              USA   \n",
      "2                 77001       Houston             TX              USA   \n",
      "3                 77001       Houston             TX              USA   \n",
      "4                 77550     Galveston             TX              USA   \n",
      "\n",
      "       CONTACT_NAME   CONTACT_PHONE  \n",
      "0      Hirano, Juri    +13302580017  \n",
      "1      Hirano, Juri    +13302580017  \n",
      "2      Hirano, Juri    +13302580017  \n",
      "3      Hirano, Juri    +13302580017  \n",
      "4  Tannamuri, Yoshi  (920)-506-7419  \n"
     ]
    }
   ],
   "source": [
    "# In this cell, merge sales_df2 and customer_df\n",
    "# The left dataframe will be sales_df2 and the right dataframe will be customer_df\n",
    "# Create a new dataframe as the result from the merge called sales_customer_df\n",
    "# Use merge() with a \"left\" join on the key of customer ID\n",
    "# Print the shape of sales_df2 and sales_customer_df after the merge\n",
    "# Print the head of sales_customer_df\n",
    "# 7 points\n",
    "sales_customer_df=pd.merge(sales_df2,customer_df,on='CUSTOMER_ID',how='left')\n",
    "\n",
    "print(sales_customer_df.shape)\n",
    "\n",
    "print(sales_customer_df.head())"
   ]
  },
  {
   "cell_type": "code",
   "execution_count": 42,
   "id": "f9124379",
   "metadata": {},
   "outputs": [
    {
     "name": "stdout",
     "output_type": "stream",
     "text": [
      "   ORDER_NUMBER ORDER_DATE  LINE_ITEM_NUMBER  QUANTITY_ORDERED  PRICE_EACH  \\\n",
      "0         10100 2018-01-06                 1           140.000     244.290   \n",
      "1         10100 2018-01-06                 2           134.000     285.490   \n",
      "2         10100 2018-01-06                 3           124.000     308.060   \n",
      "\n",
      "      SALES   STATUS      PRODUCT_CATEGORY  HAS_MSRP PRODUCT_CODE DEAL_SIZE  \\\n",
      "0 16881.290  Shipped  Fresh Produce Fruits         1     S24_3969     Small   \n",
      "1 22631.610  Shipped  Fresh Produce Fruits         1     S18_2248    Medium   \n",
      "2 25638.610  Shipped  Fresh Produce Fruits         1     S18_1749    Medium   \n",
      "\n",
      "  CUSTOMER_NAME  CUSTOMER_ID CUSTOMER_STATUS   CUSTOMER_ADDRESS  \\\n",
      "0       WALMART        82219          Active  9408 Furth Circle   \n",
      "1       WALMART        82219          Active  9408 Furth Circle   \n",
      "2       WALMART        82219          Active  9408 Furth Circle   \n",
      "\n",
      "   CUSTOMER_POSTAL_CODE CUSTOMER_CITY CUSTOMER_STATE CUSTOMER_COUNTRY  \\\n",
      "0                 77001       Houston             TX              USA   \n",
      "1                 77001       Houston             TX              USA   \n",
      "2                 77001       Houston             TX              USA   \n",
      "\n",
      "   CONTACT_NAME CONTACT_PHONE  ORDER_MONTH  ORDER_YEAR  \n",
      "0  Hirano, Juri  +13302580017            1        2018  \n",
      "1  Hirano, Juri  +13302580017            1        2018  \n",
      "2  Hirano, Juri  +13302580017            1        2018  \n"
     ]
    }
   ],
   "source": [
    "# In this cell, extract the month and day from Order Date, creating a new column for each in sales_customer_df\n",
    "# Use dt Create a month column called ORDER_MONTH using dt.month\n",
    "# Create a year column called ORDER_YEAR using dt.year\n",
    "# Print the first 3 rows of sales_customer_df\n",
    "# 5 points\n",
    "\n",
    "\n",
    "sales_customer_df['ORDER_MONTH'] = sales_customer_df['ORDER_DATE'].dt.month\n",
    "sales_customer_df['ORDER_YEAR'] = sales_customer_df['ORDER_DATE'].dt.year\n",
    "\n",
    "print(sales_customer_df.head(3))\n",
    "\n",
    "\n",
    "\n",
    "\n"
   ]
  },
  {
   "cell_type": "code",
   "execution_count": 43,
   "id": "8fcbe0bc",
   "metadata": {},
   "outputs": [
    {
     "name": "stdout",
     "output_type": "stream",
     "text": [
      "           PRODUCT_CATEGORY        SALES\n",
      "0                      Beef  7445917.170\n",
      "1                     Bread  1711599.050\n",
      "2                     Dairy  5560481.190\n",
      "3      Fresh Produce Fruits 14803237.690\n",
      "4  Fresh Produce Vegetables 24461782.140\n",
      "5                      Pork  8063516.060\n",
      "6                   Poultry  8486607.940\n"
     ]
    }
   ],
   "source": [
    "# In this cell, you will create a dataframe of the total sales by product category\n",
    "# Create a new dataframe called \"product_sales\"\n",
    "# Groupby PRODUCT CATEGORY\n",
    "# Set as_index to False\n",
    "# Aggregate by SALES taking the sum\n",
    "# Print the dataframe product_sales\n",
    "# 6 points\n",
    "\n",
    "product_sales=sales_customer_df.groupby('PRODUCT_CATEGORY',as_index=False).aggregate({'SALES':'sum'})\n",
    "\n",
    "print(product_sales)"
   ]
  },
  {
   "cell_type": "code",
   "execution_count": 44,
   "id": "ef02531d",
   "metadata": {},
   "outputs": [
    {
     "data": {
      "image/png": "[encoded data removed]",
      "text/plain": [
       "<Figure size 1200x600 with 1 Axes>"
      ]
     },
     "metadata": {},
     "output_type": "display_data"
    }
   ],
   "source": [
    "# In this cell, visualize the data created above\n",
    "# Using seaborn, create a barplot\n",
    "# Set x to PRODUCT CATEGORY\n",
    "# Set y to SALES\n",
    "# Title the graph \"Total Sales by Product Category\"\n",
    "# Set xticks to a rotation of 80\n",
    "# Set the ylabel to \"Sales US Dollars\"\n",
    "# 7 points\n",
    "\n",
    "plt.figure(figsize=(12, 6))\n",
    "sns.barplot(x='PRODUCT_CATEGORY', y='SALES', data=sales_customer_df)\n",
    "plt.title('Total Sales by Product Category')\n",
    "plt.xlabel('Product Category')\n",
    "plt.xticks(rotation=80)\n",
    "plt.ylabel('Sales US Dollars')\n",
    "plt.show()\n",
    "\n",
    "\n",
    "\n",
    "\n"
   ]
  }
 ],
 "metadata": {
  "kernelspec": {
   "display_name": "Python 3 (ipykernel)",
   "language": "python",
   "name": "python3"
  },
  "language_info": {
   "codemirror_mode": {
    "name": "ipython",
    "version": 3
   },
   "file_extension": ".py",
   "mimetype": "text/x-python",
   "name": "python",
   "nbconvert_exporter": "python",
   "pygments_lexer": "ipython3",
   "version": "3.9.13"
  }
 },
 "nbformat": 4,
 "nbformat_minor": 5
}
