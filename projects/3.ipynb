{
 "cells": [
  {
   "cell_type": "markdown",
   "id": "c22df4d6-9207-4732-8ddf-9d4a84fecb69",
   "metadata": {},
   "source": [
    "Homework 4: Feature Selection, bonus PCA.\n",
    "\n",
    "**INSTRUCTIONS**\n",
    "\n",
    "Every learner should submit his/her own homework solutions. However, you are allowed to discuss the homework with each other– but everyone must submit his/her own solution; you may not copy someone else’s solution.\n",
    "\n",
    "The homework consists of two parts:\n",
    "\n",
    "    1. Data from our lives\n",
    "    2. Variable selection\n",
    "\n",
    "Follow the prompts in the attached jupyter notebook. \n",
    "\n",
    "**We are using the same data as for the previous homework**. This homework starts by rebuilding the **df2** dataframe (where data are already cleaned, variables dropped, and dummy variables created).\n",
    "\n",
    "Add markdown cells to your analysis to include your solutions, comments, answers. Add as many cells as you need, for easy readability comment when possible. Hopefully this homework will help you develop skills, make you understand the flow of an EDA, get you ready for individual work.\n",
    "\n",
    "\n",
    "Submission: Send in an ipynb file of your work.\n",
    "\n",
    "Good luck!\n"
   ]
  },
  {
   "cell_type": "markdown",
   "id": "77a28ff9-2869-41c2-bd57-a90f2751d6ad",
   "metadata": {},
   "source": [
    "# 1. Data from our lives:"
   ]
  },
  {
   "cell_type": "markdown",
   "id": "3dd3b2cd",
   "metadata": {},
   "source": [
    "### Describe a situation or problem from your job, everyday life, current events, etc., for which a variable selection/feature reduction would be appropriate."
   ]
  },
  {
   "cell_type": "markdown",
   "id": "0eef2c7c",
   "metadata": {},
   "source": [
    "*Your Answer:*"
   ]
  },
  {
   "cell_type": "markdown",
   "id": "55f3c97c-21e3-45a6-a7b1-b1b46786fc5d",
   "metadata": {},
   "source": [
    "# 2. Variable selection"
   ]
  },
  {
   "cell_type": "markdown",
   "id": "8d97ce3e-aa71-463b-ba33-95b904c1e8c8",
   "metadata": {},
   "source": [
    "In our class so far we have covered three types of feature selection techniques. They were: \n",
    "\n",
    "1. Filter methods\n",
    "2. Wrapper methods\n",
    "3. Embedded methods\n",
    "\n",
    "Additionally, we have looked at a similar technique, Principle Component Analysis, that uses a mapping function to reduce the dimensionality of the data using mathematics (as opposed to selecting individual features)."
   ]
  },
  {
   "cell_type": "markdown",
   "id": "09dfde02-1bb2-427c-849d-f9a3a0fe1680",
   "metadata": {},
   "source": [
    "### 2.0. Set up df2 dataframe\n",
    "\n",
    "Import the dataset 'auto_imports1.csv' from our previous homework. Run the steps up to creating the **df2** dataframe (cleaning numbers, dropping variables with missing values, and creating dummy variables)."
   ]
  },
  {
   "cell_type": "code",
   "execution_count": 5,
   "id": "5381d4bb-e367-487c-b31b-b2387f8d8d2b",
   "metadata": {},
   "outputs": [],
   "source": [
    "from scipy import stats\n",
    "from sklearn.linear_model import LinearRegression\n",
    "from statsmodels.compat import lzip\n",
    "from statsmodels.formula.api import ols\n",
    "from statsmodels.stats.anova import anova_lm\n",
    "from statsmodels.stats.outliers_influence import variance_inflation_factor\n",
    "from sklearn.model_selection import train_test_split\n",
    "import matplotlib\n",
    "import matplotlib.pyplot as plt\n",
    "import numpy as np\n",
    "import pandas as pd\n",
    "import seaborn as sns\n",
    "import statsmodels.api as sm\n",
    "import sklearn.metrics as met\n",
    "%matplotlib inline"
   ]
  },
  {
   "cell_type": "code",
   "execution_count": 7,
   "id": "0be5ba02",
   "metadata": {},
   "outputs": [
    {
     "ename": "FileNotFoundError",
     "evalue": "[Errno 2] No such file or directory: 'auto_imports1(1).csv'",
     "output_type": "error",
     "traceback": [
      "\u001b[1;31m---------------------------------------------------------------------------\u001b[0m",
      "\u001b[1;31mFileNotFoundError\u001b[0m                         Traceback (most recent call last)",
      "Input \u001b[1;32mIn [7]\u001b[0m, in \u001b[0;36m<cell line: 1>\u001b[1;34m()\u001b[0m\n\u001b[1;32m----> 1\u001b[0m df \u001b[38;5;241m=\u001b[39m\u001b[43mpd\u001b[49m\u001b[38;5;241;43m.\u001b[39;49m\u001b[43mread_csv\u001b[49m\u001b[43m(\u001b[49m\u001b[38;5;124;43m'\u001b[39;49m\u001b[38;5;124;43mauto_imports1(1).csv\u001b[39;49m\u001b[38;5;124;43m'\u001b[39;49m\u001b[43m)\u001b[49m\n\u001b[0;32m      3\u001b[0m df\u001b[38;5;241m.\u001b[39mhead()\n",
      "File \u001b[1;32m~\\anaconda3\\lib\\site-packages\\pandas\\util\\_decorators.py:311\u001b[0m, in \u001b[0;36mdeprecate_nonkeyword_arguments.<locals>.decorate.<locals>.wrapper\u001b[1;34m(*args, **kwargs)\u001b[0m\n\u001b[0;32m    305\u001b[0m \u001b[38;5;28;01mif\u001b[39;00m \u001b[38;5;28mlen\u001b[39m(args) \u001b[38;5;241m>\u001b[39m num_allow_args:\n\u001b[0;32m    306\u001b[0m     warnings\u001b[38;5;241m.\u001b[39mwarn(\n\u001b[0;32m    307\u001b[0m         msg\u001b[38;5;241m.\u001b[39mformat(arguments\u001b[38;5;241m=\u001b[39marguments),\n\u001b[0;32m    308\u001b[0m         \u001b[38;5;167;01mFutureWarning\u001b[39;00m,\n\u001b[0;32m    309\u001b[0m         stacklevel\u001b[38;5;241m=\u001b[39mstacklevel,\n\u001b[0;32m    310\u001b[0m     )\n\u001b[1;32m--> 311\u001b[0m \u001b[38;5;28;01mreturn\u001b[39;00m func(\u001b[38;5;241m*\u001b[39margs, \u001b[38;5;241m*\u001b[39m\u001b[38;5;241m*\u001b[39mkwargs)\n",
      "File \u001b[1;32m~\\anaconda3\\lib\\site-packages\\pandas\\io\\parsers\\readers.py:680\u001b[0m, in \u001b[0;36mread_csv\u001b[1;34m(filepath_or_buffer, sep, delimiter, header, names, index_col, usecols, squeeze, prefix, mangle_dupe_cols, dtype, engine, converters, true_values, false_values, skipinitialspace, skiprows, skipfooter, nrows, na_values, keep_default_na, na_filter, verbose, skip_blank_lines, parse_dates, infer_datetime_format, keep_date_col, date_parser, dayfirst, cache_dates, iterator, chunksize, compression, thousands, decimal, lineterminator, quotechar, quoting, doublequote, escapechar, comment, encoding, encoding_errors, dialect, error_bad_lines, warn_bad_lines, on_bad_lines, delim_whitespace, low_memory, memory_map, float_precision, storage_options)\u001b[0m\n\u001b[0;32m    665\u001b[0m kwds_defaults \u001b[38;5;241m=\u001b[39m _refine_defaults_read(\n\u001b[0;32m    666\u001b[0m     dialect,\n\u001b[0;32m    667\u001b[0m     delimiter,\n\u001b[1;32m   (...)\u001b[0m\n\u001b[0;32m    676\u001b[0m     defaults\u001b[38;5;241m=\u001b[39m{\u001b[38;5;124m\"\u001b[39m\u001b[38;5;124mdelimiter\u001b[39m\u001b[38;5;124m\"\u001b[39m: \u001b[38;5;124m\"\u001b[39m\u001b[38;5;124m,\u001b[39m\u001b[38;5;124m\"\u001b[39m},\n\u001b[0;32m    677\u001b[0m )\n\u001b[0;32m    678\u001b[0m kwds\u001b[38;5;241m.\u001b[39mupdate(kwds_defaults)\n\u001b[1;32m--> 680\u001b[0m \u001b[38;5;28;01mreturn\u001b[39;00m \u001b[43m_read\u001b[49m\u001b[43m(\u001b[49m\u001b[43mfilepath_or_buffer\u001b[49m\u001b[43m,\u001b[49m\u001b[43m \u001b[49m\u001b[43mkwds\u001b[49m\u001b[43m)\u001b[49m\n",
      "File \u001b[1;32m~\\anaconda3\\lib\\site-packages\\pandas\\io\\parsers\\readers.py:575\u001b[0m, in \u001b[0;36m_read\u001b[1;34m(filepath_or_buffer, kwds)\u001b[0m\n\u001b[0;32m    572\u001b[0m _validate_names(kwds\u001b[38;5;241m.\u001b[39mget(\u001b[38;5;124m\"\u001b[39m\u001b[38;5;124mnames\u001b[39m\u001b[38;5;124m\"\u001b[39m, \u001b[38;5;28;01mNone\u001b[39;00m))\n\u001b[0;32m    574\u001b[0m \u001b[38;5;66;03m# Create the parser.\u001b[39;00m\n\u001b[1;32m--> 575\u001b[0m parser \u001b[38;5;241m=\u001b[39m TextFileReader(filepath_or_buffer, \u001b[38;5;241m*\u001b[39m\u001b[38;5;241m*\u001b[39mkwds)\n\u001b[0;32m    577\u001b[0m \u001b[38;5;28;01mif\u001b[39;00m chunksize \u001b[38;5;129;01mor\u001b[39;00m iterator:\n\u001b[0;32m    578\u001b[0m     \u001b[38;5;28;01mreturn\u001b[39;00m parser\n",
      "File \u001b[1;32m~\\anaconda3\\lib\\site-packages\\pandas\\io\\parsers\\readers.py:933\u001b[0m, in \u001b[0;36mTextFileReader.__init__\u001b[1;34m(self, f, engine, **kwds)\u001b[0m\n\u001b[0;32m    930\u001b[0m     \u001b[38;5;28mself\u001b[39m\u001b[38;5;241m.\u001b[39moptions[\u001b[38;5;124m\"\u001b[39m\u001b[38;5;124mhas_index_names\u001b[39m\u001b[38;5;124m\"\u001b[39m] \u001b[38;5;241m=\u001b[39m kwds[\u001b[38;5;124m\"\u001b[39m\u001b[38;5;124mhas_index_names\u001b[39m\u001b[38;5;124m\"\u001b[39m]\n\u001b[0;32m    932\u001b[0m \u001b[38;5;28mself\u001b[39m\u001b[38;5;241m.\u001b[39mhandles: IOHandles \u001b[38;5;241m|\u001b[39m \u001b[38;5;28;01mNone\u001b[39;00m \u001b[38;5;241m=\u001b[39m \u001b[38;5;28;01mNone\u001b[39;00m\n\u001b[1;32m--> 933\u001b[0m \u001b[38;5;28mself\u001b[39m\u001b[38;5;241m.\u001b[39m_engine \u001b[38;5;241m=\u001b[39m \u001b[38;5;28;43mself\u001b[39;49m\u001b[38;5;241;43m.\u001b[39;49m\u001b[43m_make_engine\u001b[49m\u001b[43m(\u001b[49m\u001b[43mf\u001b[49m\u001b[43m,\u001b[49m\u001b[43m \u001b[49m\u001b[38;5;28;43mself\u001b[39;49m\u001b[38;5;241;43m.\u001b[39;49m\u001b[43mengine\u001b[49m\u001b[43m)\u001b[49m\n",
      "File \u001b[1;32m~\\anaconda3\\lib\\site-packages\\pandas\\io\\parsers\\readers.py:1217\u001b[0m, in \u001b[0;36mTextFileReader._make_engine\u001b[1;34m(self, f, engine)\u001b[0m\n\u001b[0;32m   1213\u001b[0m     mode \u001b[38;5;241m=\u001b[39m \u001b[38;5;124m\"\u001b[39m\u001b[38;5;124mrb\u001b[39m\u001b[38;5;124m\"\u001b[39m\n\u001b[0;32m   1214\u001b[0m \u001b[38;5;66;03m# error: No overload variant of \"get_handle\" matches argument types\u001b[39;00m\n\u001b[0;32m   1215\u001b[0m \u001b[38;5;66;03m# \"Union[str, PathLike[str], ReadCsvBuffer[bytes], ReadCsvBuffer[str]]\"\u001b[39;00m\n\u001b[0;32m   1216\u001b[0m \u001b[38;5;66;03m# , \"str\", \"bool\", \"Any\", \"Any\", \"Any\", \"Any\", \"Any\"\u001b[39;00m\n\u001b[1;32m-> 1217\u001b[0m \u001b[38;5;28mself\u001b[39m\u001b[38;5;241m.\u001b[39mhandles \u001b[38;5;241m=\u001b[39m \u001b[43mget_handle\u001b[49m\u001b[43m(\u001b[49m\u001b[43m  \u001b[49m\u001b[38;5;66;43;03m# type: ignore[call-overload]\u001b[39;49;00m\n\u001b[0;32m   1218\u001b[0m \u001b[43m    \u001b[49m\u001b[43mf\u001b[49m\u001b[43m,\u001b[49m\n\u001b[0;32m   1219\u001b[0m \u001b[43m    \u001b[49m\u001b[43mmode\u001b[49m\u001b[43m,\u001b[49m\n\u001b[0;32m   1220\u001b[0m \u001b[43m    \u001b[49m\u001b[43mencoding\u001b[49m\u001b[38;5;241;43m=\u001b[39;49m\u001b[38;5;28;43mself\u001b[39;49m\u001b[38;5;241;43m.\u001b[39;49m\u001b[43moptions\u001b[49m\u001b[38;5;241;43m.\u001b[39;49m\u001b[43mget\u001b[49m\u001b[43m(\u001b[49m\u001b[38;5;124;43m\"\u001b[39;49m\u001b[38;5;124;43mencoding\u001b[39;49m\u001b[38;5;124;43m\"\u001b[39;49m\u001b[43m,\u001b[49m\u001b[43m \u001b[49m\u001b[38;5;28;43;01mNone\u001b[39;49;00m\u001b[43m)\u001b[49m\u001b[43m,\u001b[49m\n\u001b[0;32m   1221\u001b[0m \u001b[43m    \u001b[49m\u001b[43mcompression\u001b[49m\u001b[38;5;241;43m=\u001b[39;49m\u001b[38;5;28;43mself\u001b[39;49m\u001b[38;5;241;43m.\u001b[39;49m\u001b[43moptions\u001b[49m\u001b[38;5;241;43m.\u001b[39;49m\u001b[43mget\u001b[49m\u001b[43m(\u001b[49m\u001b[38;5;124;43m\"\u001b[39;49m\u001b[38;5;124;43mcompression\u001b[39;49m\u001b[38;5;124;43m\"\u001b[39;49m\u001b[43m,\u001b[49m\u001b[43m \u001b[49m\u001b[38;5;28;43;01mNone\u001b[39;49;00m\u001b[43m)\u001b[49m\u001b[43m,\u001b[49m\n\u001b[0;32m   1222\u001b[0m \u001b[43m    \u001b[49m\u001b[43mmemory_map\u001b[49m\u001b[38;5;241;43m=\u001b[39;49m\u001b[38;5;28;43mself\u001b[39;49m\u001b[38;5;241;43m.\u001b[39;49m\u001b[43moptions\u001b[49m\u001b[38;5;241;43m.\u001b[39;49m\u001b[43mget\u001b[49m\u001b[43m(\u001b[49m\u001b[38;5;124;43m\"\u001b[39;49m\u001b[38;5;124;43mmemory_map\u001b[39;49m\u001b[38;5;124;43m\"\u001b[39;49m\u001b[43m,\u001b[49m\u001b[43m \u001b[49m\u001b[38;5;28;43;01mFalse\u001b[39;49;00m\u001b[43m)\u001b[49m\u001b[43m,\u001b[49m\n\u001b[0;32m   1223\u001b[0m \u001b[43m    \u001b[49m\u001b[43mis_text\u001b[49m\u001b[38;5;241;43m=\u001b[39;49m\u001b[43mis_text\u001b[49m\u001b[43m,\u001b[49m\n\u001b[0;32m   1224\u001b[0m \u001b[43m    \u001b[49m\u001b[43merrors\u001b[49m\u001b[38;5;241;43m=\u001b[39;49m\u001b[38;5;28;43mself\u001b[39;49m\u001b[38;5;241;43m.\u001b[39;49m\u001b[43moptions\u001b[49m\u001b[38;5;241;43m.\u001b[39;49m\u001b[43mget\u001b[49m\u001b[43m(\u001b[49m\u001b[38;5;124;43m\"\u001b[39;49m\u001b[38;5;124;43mencoding_errors\u001b[39;49m\u001b[38;5;124;43m\"\u001b[39;49m\u001b[43m,\u001b[49m\u001b[43m \u001b[49m\u001b[38;5;124;43m\"\u001b[39;49m\u001b[38;5;124;43mstrict\u001b[39;49m\u001b[38;5;124;43m\"\u001b[39;49m\u001b[43m)\u001b[49m\u001b[43m,\u001b[49m\n\u001b[0;32m   1225\u001b[0m \u001b[43m    \u001b[49m\u001b[43mstorage_options\u001b[49m\u001b[38;5;241;43m=\u001b[39;49m\u001b[38;5;28;43mself\u001b[39;49m\u001b[38;5;241;43m.\u001b[39;49m\u001b[43moptions\u001b[49m\u001b[38;5;241;43m.\u001b[39;49m\u001b[43mget\u001b[49m\u001b[43m(\u001b[49m\u001b[38;5;124;43m\"\u001b[39;49m\u001b[38;5;124;43mstorage_options\u001b[39;49m\u001b[38;5;124;43m\"\u001b[39;49m\u001b[43m,\u001b[49m\u001b[43m \u001b[49m\u001b[38;5;28;43;01mNone\u001b[39;49;00m\u001b[43m)\u001b[49m\u001b[43m,\u001b[49m\n\u001b[0;32m   1226\u001b[0m \u001b[43m\u001b[49m\u001b[43m)\u001b[49m\n\u001b[0;32m   1227\u001b[0m \u001b[38;5;28;01massert\u001b[39;00m \u001b[38;5;28mself\u001b[39m\u001b[38;5;241m.\u001b[39mhandles \u001b[38;5;129;01mis\u001b[39;00m \u001b[38;5;129;01mnot\u001b[39;00m \u001b[38;5;28;01mNone\u001b[39;00m\n\u001b[0;32m   1228\u001b[0m f \u001b[38;5;241m=\u001b[39m \u001b[38;5;28mself\u001b[39m\u001b[38;5;241m.\u001b[39mhandles\u001b[38;5;241m.\u001b[39mhandle\n",
      "File \u001b[1;32m~\\anaconda3\\lib\\site-packages\\pandas\\io\\common.py:789\u001b[0m, in \u001b[0;36mget_handle\u001b[1;34m(path_or_buf, mode, encoding, compression, memory_map, is_text, errors, storage_options)\u001b[0m\n\u001b[0;32m    784\u001b[0m \u001b[38;5;28;01melif\u001b[39;00m \u001b[38;5;28misinstance\u001b[39m(handle, \u001b[38;5;28mstr\u001b[39m):\n\u001b[0;32m    785\u001b[0m     \u001b[38;5;66;03m# Check whether the filename is to be opened in binary mode.\u001b[39;00m\n\u001b[0;32m    786\u001b[0m     \u001b[38;5;66;03m# Binary mode does not support 'encoding' and 'newline'.\u001b[39;00m\n\u001b[0;32m    787\u001b[0m     \u001b[38;5;28;01mif\u001b[39;00m ioargs\u001b[38;5;241m.\u001b[39mencoding \u001b[38;5;129;01mand\u001b[39;00m \u001b[38;5;124m\"\u001b[39m\u001b[38;5;124mb\u001b[39m\u001b[38;5;124m\"\u001b[39m \u001b[38;5;129;01mnot\u001b[39;00m \u001b[38;5;129;01min\u001b[39;00m ioargs\u001b[38;5;241m.\u001b[39mmode:\n\u001b[0;32m    788\u001b[0m         \u001b[38;5;66;03m# Encoding\u001b[39;00m\n\u001b[1;32m--> 789\u001b[0m         handle \u001b[38;5;241m=\u001b[39m \u001b[38;5;28;43mopen\u001b[39;49m\u001b[43m(\u001b[49m\n\u001b[0;32m    790\u001b[0m \u001b[43m            \u001b[49m\u001b[43mhandle\u001b[49m\u001b[43m,\u001b[49m\n\u001b[0;32m    791\u001b[0m \u001b[43m            \u001b[49m\u001b[43mioargs\u001b[49m\u001b[38;5;241;43m.\u001b[39;49m\u001b[43mmode\u001b[49m\u001b[43m,\u001b[49m\n\u001b[0;32m    792\u001b[0m \u001b[43m            \u001b[49m\u001b[43mencoding\u001b[49m\u001b[38;5;241;43m=\u001b[39;49m\u001b[43mioargs\u001b[49m\u001b[38;5;241;43m.\u001b[39;49m\u001b[43mencoding\u001b[49m\u001b[43m,\u001b[49m\n\u001b[0;32m    793\u001b[0m \u001b[43m            \u001b[49m\u001b[43merrors\u001b[49m\u001b[38;5;241;43m=\u001b[39;49m\u001b[43merrors\u001b[49m\u001b[43m,\u001b[49m\n\u001b[0;32m    794\u001b[0m \u001b[43m            \u001b[49m\u001b[43mnewline\u001b[49m\u001b[38;5;241;43m=\u001b[39;49m\u001b[38;5;124;43m\"\u001b[39;49m\u001b[38;5;124;43m\"\u001b[39;49m\u001b[43m,\u001b[49m\n\u001b[0;32m    795\u001b[0m \u001b[43m        \u001b[49m\u001b[43m)\u001b[49m\n\u001b[0;32m    796\u001b[0m     \u001b[38;5;28;01melse\u001b[39;00m:\n\u001b[0;32m    797\u001b[0m         \u001b[38;5;66;03m# Binary mode\u001b[39;00m\n\u001b[0;32m    798\u001b[0m         handle \u001b[38;5;241m=\u001b[39m \u001b[38;5;28mopen\u001b[39m(handle, ioargs\u001b[38;5;241m.\u001b[39mmode)\n",
      "\u001b[1;31mFileNotFoundError\u001b[0m: [Errno 2] No such file or directory: 'auto_imports1(1).csv'"
     ]
    }
   ],
   "source": [
    "df =pd.read_csv('auto_imports1(1).csv')\n",
    "\n",
    "df.head()"
   ]
  },
  {
   "cell_type": "code",
   "execution_count": null,
   "id": "e0afd6b0",
   "metadata": {},
   "outputs": [],
   "source": [
    "df.info()"
   ]
  },
  {
   "cell_type": "code",
   "execution_count": null,
   "id": "982c69e5",
   "metadata": {},
   "outputs": [],
   "source": [
    "df.isin(['?']).any()"
   ]
  },
  {
   "cell_type": "code",
   "execution_count": null,
   "id": "12c3dd95",
   "metadata": {},
   "outputs": [],
   "source": [
    "df = df.replace(to_replace='?',value = None)"
   ]
  },
  {
   "cell_type": "code",
   "execution_count": 4,
   "id": "d6c7dede",
   "metadata": {},
   "outputs": [
    {
     "ename": "NameError",
     "evalue": "name 'df' is not defined",
     "output_type": "error",
     "traceback": [
      "\u001b[1;31m---------------------------------------------------------------------------\u001b[0m",
      "\u001b[1;31mNameError\u001b[0m                                 Traceback (most recent call last)",
      "Input \u001b[1;32mIn [4]\u001b[0m, in \u001b[0;36m<cell line: 1>\u001b[1;34m()\u001b[0m\n\u001b[1;32m----> 1\u001b[0m df[\u001b[38;5;124m'\u001b[39m\u001b[38;5;124mbore\u001b[39m\u001b[38;5;124m'\u001b[39m]\u001b[38;5;241m=\u001b[39m\u001b[43mdf\u001b[49m[\u001b[38;5;124m'\u001b[39m\u001b[38;5;124mbore\u001b[39m\u001b[38;5;124m'\u001b[39m]\u001b[38;5;241m.\u001b[39mastype(\u001b[38;5;28mfloat\u001b[39m)\n\u001b[0;32m      2\u001b[0m df[\u001b[38;5;124m'\u001b[39m\u001b[38;5;124mstroke\u001b[39m\u001b[38;5;124m'\u001b[39m]\u001b[38;5;241m=\u001b[39mdf[\u001b[38;5;124m'\u001b[39m\u001b[38;5;124mstroke\u001b[39m\u001b[38;5;124m'\u001b[39m]\u001b[38;5;241m.\u001b[39mastype(\u001b[38;5;28mfloat\u001b[39m)\n\u001b[0;32m      3\u001b[0m df[\u001b[38;5;124m'\u001b[39m\u001b[38;5;124mhorse_power\u001b[39m\u001b[38;5;124m'\u001b[39m]\u001b[38;5;241m=\u001b[39mdf[\u001b[38;5;124m'\u001b[39m\u001b[38;5;124mhorse_power\u001b[39m\u001b[38;5;124m'\u001b[39m]\u001b[38;5;241m.\u001b[39mastype(\u001b[38;5;28mfloat\u001b[39m)\n",
      "\u001b[1;31mNameError\u001b[0m: name 'df' is not defined"
     ]
    }
   ],
   "source": [
    "df['bore']=df['bore'].astype(float)\n",
    "df['stroke']=df['stroke'].astype(float)\n",
    "df['horse_power']=df['horse_power'].astype(float)\n",
    "df['peak_rpm']=df['peak_rpm'].astype(float)"
   ]
  },
  {
   "cell_type": "code",
   "execution_count": 68,
   "id": "b883d44a",
   "metadata": {},
   "outputs": [],
   "source": [
    "df2 = df.drop(['body','engine_type','cylinders'],axis=1)"
   ]
  },
  {
   "cell_type": "code",
   "execution_count": 69,
   "id": "668f0de8",
   "metadata": {},
   "outputs": [],
   "source": [
    "df2 = df2.dropna(axis = 0)"
   ]
  },
  {
   "cell_type": "code",
   "execution_count": 70,
   "id": "a1312dbc",
   "metadata": {},
   "outputs": [],
   "source": [
    "df2 = pd.get_dummies(df2,prefix = 'dummy',columns=['fuel_type'],drop_first=True)"
   ]
  },
  {
   "cell_type": "code",
   "execution_count": 71,
   "id": "5f6ae069",
   "metadata": {},
   "outputs": [
    {
     "data": {
      "text/plain": [
       "<AxesSubplot:>"
      ]
     },
     "execution_count": 71,
     "metadata": {},
     "output_type": "execute_result"
    },
    {
     "data": {
      "image/png": "[encoded data removed]",
      "text/plain": [
       "<Figure size 1600x1600 with 1 Axes>"
      ]
     },
     "metadata": {},
     "output_type": "display_data"
    }
   ],
   "source": [
    "df2.boxplot(fontsize='small',figsize=(16,16))"
   ]
  },
  {
   "cell_type": "code",
   "execution_count": 72,
   "id": "42121706",
   "metadata": {},
   "outputs": [],
   "source": [
    "cols = ['wheel_base','length','width','heights','curb_weight','engine_size','bore','stroke','comprassion','horse_power','peak_rpm','price','city_mpg','highway_mpg','dummy_gas']\n",
    "for x in cols:\n",
    "    q75,q25 = np.percentile(df2.loc[:,x],[75,25])\n",
    "    intr_qr = q75-q25\n",
    " \n",
    "    max = q75+(1.5*intr_qr)\n",
    "    min = q25-(1.5*intr_qr)\n",
    " \n",
    "    df2.loc[df2[x] < min,x] = np.nan\n",
    "    df2.loc[df2[x] > max,x] = np.nan"
   ]
  },
  {
   "cell_type": "code",
   "execution_count": 73,
   "id": "8193000a",
   "metadata": {
    "scrolled": true
   },
   "outputs": [
    {
     "data": {
      "text/plain": [
       "<AxesSubplot:>"
      ]
     },
     "execution_count": 73,
     "metadata": {},
     "output_type": "execute_result"
    },
    {
     "data": {
      "image/png": "[encoded data removed]",
      "text/plain": [
       "<Figure size 1600x1600 with 1 Axes>"
      ]
     },
     "metadata": {},
     "output_type": "display_data"
    }
   ],
   "source": [
    "df2.boxplot(fontsize='small',figsize=(16,16))"
   ]
  },
  {
   "cell_type": "code",
   "execution_count": 74,
   "id": "b9c1aa0b",
   "metadata": {},
   "outputs": [
    {
     "data": {
      "text/plain": [
       "wheel_base      3\n",
       "length          0\n",
       "width           7\n",
       "heights         0\n",
       "curb_weight     0\n",
       "engine_size     7\n",
       "bore            0\n",
       "stroke         18\n",
       "comprassion    27\n",
       "horse_power     5\n",
       "peak_rpm        2\n",
       "city_mpg        2\n",
       "highway_mpg     2\n",
       "price          14\n",
       "dummy_gas      20\n",
       "dtype: int64"
      ]
     },
     "execution_count": 74,
     "metadata": {},
     "output_type": "execute_result"
    }
   ],
   "source": [
    "df2.isna().sum()"
   ]
  },
  {
   "cell_type": "code",
   "execution_count": 75,
   "id": "5ce40b57",
   "metadata": {},
   "outputs": [],
   "source": [
    "df2 = df2.dropna(axis = 0)"
   ]
  },
  {
   "cell_type": "code",
   "execution_count": 76,
   "id": "a4afa16e",
   "metadata": {},
   "outputs": [
    {
     "data": {
      "text/plain": [
       "<AxesSubplot:>"
      ]
     },
     "execution_count": 76,
     "metadata": {},
     "output_type": "execute_result"
    },
    {
     "data": {
      "image/png": "[encoded data removed]",
      "text/plain": [
       "<Figure size 1600x1600 with 1 Axes>"
      ]
     },
     "metadata": {},
     "output_type": "display_data"
    }
   ],
   "source": [
    "df2.boxplot(fontsize='small',figsize=(16,16))"
   ]
  },
  {
   "cell_type": "code",
   "execution_count": 77,
   "id": "a8c9105a",
   "metadata": {},
   "outputs": [
    {
     "data": {
      "text/plain": [
       "wheel_base     0\n",
       "length         0\n",
       "width          0\n",
       "heights        0\n",
       "curb_weight    0\n",
       "engine_size    0\n",
       "bore           0\n",
       "stroke         0\n",
       "comprassion    0\n",
       "horse_power    0\n",
       "peak_rpm       0\n",
       "city_mpg       0\n",
       "highway_mpg    0\n",
       "price          0\n",
       "dummy_gas      0\n",
       "dtype: int64"
      ]
     },
     "execution_count": 77,
     "metadata": {},
     "output_type": "execute_result"
    }
   ],
   "source": [
    "df2.isna().sum()"
   ]
  },
  {
   "cell_type": "code",
   "execution_count": 1,
   "id": "4d73e1c0",
   "metadata": {},
   "outputs": [
    {
     "ename": "NameError",
     "evalue": "name 'df2' is not defined",
     "output_type": "error",
     "traceback": [
      "\u001b[1;31m---------------------------------------------------------------------------\u001b[0m",
      "\u001b[1;31mNameError\u001b[0m                                 Traceback (most recent call last)",
      "Input \u001b[1;32mIn [1]\u001b[0m, in \u001b[0;36m<cell line: 1>\u001b[1;34m()\u001b[0m\n\u001b[1;32m----> 1\u001b[0m a\u001b[38;5;241m=\u001b[39m \u001b[43mdf2\u001b[49m\u001b[38;5;241m.\u001b[39mdrop([\u001b[38;5;124m'\u001b[39m\u001b[38;5;124mprice\u001b[39m\u001b[38;5;124m'\u001b[39m],axis \u001b[38;5;241m=\u001b[39m\u001b[38;5;241m1\u001b[39m)\n\u001b[0;32m      2\u001b[0m b\u001b[38;5;241m=\u001b[39m df2[\u001b[38;5;124m'\u001b[39m\u001b[38;5;124mprice\u001b[39m\u001b[38;5;124m'\u001b[39m]\n",
      "\u001b[1;31mNameError\u001b[0m: name 'df2' is not defined"
     ]
    }
   ],
   "source": [
    "a= df2.drop(['price'],axis =1)\n",
    "b= df2['price']"
   ]
  },
  {
   "cell_type": "code",
   "execution_count": 79,
   "id": "c24065ed",
   "metadata": {},
   "outputs": [],
   "source": [
    "a0_train,a0_test,b0_train,b0_test = train_test_split(a,b,random_state=25)"
   ]
  },
  {
   "cell_type": "code",
   "execution_count": 80,
   "id": "1e10fcd9",
   "metadata": {},
   "outputs": [
    {
     "data": {
      "text/html": [
       "<style>#sk-container-id-4 {color: black;background-color: white;}#sk-container-id-4 pre{padding: 0;}#sk-container-id-4 div.sk-toggleable {background-color: white;}#sk-container-id-4 label.sk-toggleable__label {cursor: pointer;display: block;width: 100%;margin-bottom: 0;padding: 0.3em;box-sizing: border-box;text-align: center;}#sk-container-id-4 label.sk-toggleable__label-arrow:before {content: \"▸\";float: left;margin-right: 0.25em;color: #696969;}#sk-container-id-4 label.sk-toggleable__label-arrow:hover:before {color: black;}#sk-container-id-4 div.sk-estimator:hover label.sk-toggleable__label-arrow:before {color: black;}#sk-container-id-4 div.sk-toggleable__content {max-height: 0;max-width: 0;overflow: hidden;text-align: left;background-color: #f0f8ff;}#sk-container-id-4 div.sk-toggleable__content pre {margin: 0.2em;color: black;border-radius: 0.25em;background-color: #f0f8ff;}#sk-container-id-4 input.sk-toggleable__control:checked~div.sk-toggleable__content {max-height: 200px;max-width: 100%;overflow: auto;}#sk-container-id-4 input.sk-toggleable__control:checked~label.sk-toggleable__label-arrow:before {content: \"▾\";}#sk-container-id-4 div.sk-estimator input.sk-toggleable__control:checked~label.sk-toggleable__label {background-color: #d4ebff;}#sk-container-id-4 div.sk-label input.sk-toggleable__control:checked~label.sk-toggleable__label {background-color: #d4ebff;}#sk-container-id-4 input.sk-hidden--visually {border: 0;clip: rect(1px 1px 1px 1px);clip: rect(1px, 1px, 1px, 1px);height: 1px;margin: -1px;overflow: hidden;padding: 0;position: absolute;width: 1px;}#sk-container-id-4 div.sk-estimator {font-family: monospace;background-color: #f0f8ff;border: 1px dotted black;border-radius: 0.25em;box-sizing: border-box;margin-bottom: 0.5em;}#sk-container-id-4 div.sk-estimator:hover {background-color: #d4ebff;}#sk-container-id-4 div.sk-parallel-item::after {content: \"\";width: 100%;border-bottom: 1px solid gray;flex-grow: 1;}#sk-container-id-4 div.sk-label:hover label.sk-toggleable__label {background-color: #d4ebff;}#sk-container-id-4 div.sk-serial::before {content: \"\";position: absolute;border-left: 1px solid gray;box-sizing: border-box;top: 0;bottom: 0;left: 50%;z-index: 0;}#sk-container-id-4 div.sk-serial {display: flex;flex-direction: column;align-items: center;background-color: white;padding-right: 0.2em;padding-left: 0.2em;position: relative;}#sk-container-id-4 div.sk-item {position: relative;z-index: 1;}#sk-container-id-4 div.sk-parallel {display: flex;align-items: stretch;justify-content: center;background-color: white;position: relative;}#sk-container-id-4 div.sk-item::before, #sk-container-id-4 div.sk-parallel-item::before {content: \"\";position: absolute;border-left: 1px solid gray;box-sizing: border-box;top: 0;bottom: 0;left: 50%;z-index: -1;}#sk-container-id-4 div.sk-parallel-item {display: flex;flex-direction: column;z-index: 1;position: relative;background-color: white;}#sk-container-id-4 div.sk-parallel-item:first-child::after {align-self: flex-end;width: 50%;}#sk-container-id-4 div.sk-parallel-item:last-child::after {align-self: flex-start;width: 50%;}#sk-container-id-4 div.sk-parallel-item:only-child::after {width: 0;}#sk-container-id-4 div.sk-dashed-wrapped {border: 1px dashed gray;margin: 0 0.4em 0.5em 0.4em;box-sizing: border-box;padding-bottom: 0.4em;background-color: white;}#sk-container-id-4 div.sk-label label {font-family: monospace;font-weight: bold;display: inline-block;line-height: 1.2em;}#sk-container-id-4 div.sk-label-container {text-align: center;}#sk-container-id-4 div.sk-container {/* jupyter's `normalize.less` sets `[hidden] { display: none; }` but bootstrap.min.css set `[hidden] { display: none !important; }` so we also need the `!important` here to be able to override the default hidden behavior on the sphinx rendered scikit-learn.org. See: https://github.com/scikit-learn/scikit-learn/issues/21755 */display: inline-block !important;position: relative;}#sk-container-id-4 div.sk-text-repr-fallback {display: none;}</style><div id=\"sk-container-id-4\" class=\"sk-top-container\"><div class=\"sk-text-repr-fallback\"><pre>LinearRegression()</pre><b>In a Jupyter environment, please rerun this cell to show the HTML representation or trust the notebook. <br />On GitHub, the HTML representation is unable to render, please try loading this page with nbviewer.org.</b></div><div class=\"sk-container\" hidden><div class=\"sk-item\"><div class=\"sk-estimator sk-toggleable\"><input class=\"sk-toggleable__control sk-hidden--visually\" id=\"sk-estimator-id-4\" type=\"checkbox\" checked><label for=\"sk-estimator-id-4\" class=\"sk-toggleable__label sk-toggleable__label-arrow\">LinearRegression</label><div class=\"sk-toggleable__content\"><pre>LinearRegression()</pre></div></div></div></div></div>"
      ],
      "text/plain": [
       "LinearRegression()"
      ]
     },
     "execution_count": 80,
     "metadata": {},
     "output_type": "execute_result"
    }
   ],
   "source": [
    "model1 = LinearRegression()\n",
    "model1.fit(a0_train,b0_train)"
   ]
  },
  {
   "cell_type": "code",
   "execution_count": 81,
   "id": "4afa3459",
   "metadata": {},
   "outputs": [],
   "source": [
    "y0_predict = model1.predict(X0_test)"
   ]
  },
  {
   "cell_type": "code",
   "execution_count": 82,
   "id": "69c29692",
   "metadata": {},
   "outputs": [
    {
     "name": "stdout",
     "output_type": "stream",
     "text": [
      "Mean absolute error = 1555.42\n",
      "Mean squared error = 4009966.49\n",
      "Median absolute error = 1214.43\n",
      "variance score = 0.68\n",
      "R2 score = 0.68\n",
      "Adjusted R2 score = 0.7914136219324888\n",
      "Intercept: -8056.680937648285\n"
     ]
    }
   ],
   "source": [
    "print(\"Mean absolute error =\", round(met.mean_absolute_error(y0_test,y0_predict), 2)) \n",
    "print(\"Mean squared error =\", round(met.mean_squared_error(y0_test, y0_predict), 2)) \n",
    "print(\"Median absolute error =\", round(met.median_absolute_error(y0_test, y0_predict), 2)) \n",
    "print(\"variance score =\", round(met.explained_variance_score(y0_test,y0_predict), 2)) \n",
    "print(\"R2 score =\", round(met.r2_score(y0_test, y0_predict), 2))\n",
    "print(\"Adjusted R2 score =\",1 - (1-model1.score(X,y))*(len(y)-1)/(len(y)-X.shape[1]-1))\n",
    "print('Intercept:', model1.intercept_)"
   ]
  },
  {
   "cell_type": "code",
   "execution_count": 83,
   "id": "fd05018d",
   "metadata": {},
   "outputs": [],
   "source": [
    "MAE_0 =round(met.mean_absolute_error(y0_test,y0_predict), 2)\n",
    "MSE_0 = round(met.mean_squared_error(y0_test, y0_predict), 2)\n",
    "MeAE_0 = round(met.median_absolute_error(y0_test, y0_predict), 2)\n",
    "VS_0 =round(met.explained_variance_score(y0_test,y0_predict), 2)\n",
    "R2_0 = round(met.r2_score(y0_test, y0_predict), 2)\n",
    "AR2_0 = 1 - (1-model1.score(X,y))*(len(y)-1)/(len(y)-X.shape[1]-1)\n",
    "Inter_0 = model1.intercept_"
   ]
  },
  {
   "cell_type": "markdown",
   "id": "9a14978d-0a95-440a-b4e5-737ca5795a01",
   "metadata": {},
   "source": [
    "### 2.1. Filtered methods\n",
    "\n",
    "Choose one (you may do more, one is required) of the filtered methods to conduct variable selection. Report your findings."
   ]
  },
  {
   "cell_type": "markdown",
   "id": "7570ad74",
   "metadata": {},
   "source": [
    "### Correlation method"
   ]
  },
  {
   "cell_type": "code",
   "execution_count": 84,
   "id": "dcf75a5f",
   "metadata": {},
   "outputs": [
    {
     "data": {
      "text/plain": [
       "wheel_base     0.631330\n",
       "length         0.727881\n",
       "width          0.732616\n",
       "heights        0.217836\n",
       "curb_weight    0.833727\n",
       "engine_size    0.780830\n",
       "bore           0.679766\n",
       "stroke        -0.189659\n",
       "comprassion   -0.126152\n",
       "horse_power    0.809788\n",
       "peak_rpm      -0.101641\n",
       "city_mpg      -0.815778\n",
       "highway_mpg   -0.804041\n",
       "price          1.000000\n",
       "dummy_gas           NaN\n",
       "dtype: float64"
      ]
     },
     "execution_count": 84,
     "metadata": {},
     "output_type": "execute_result"
    }
   ],
   "source": [
    "q = df2.corrwith(df2[\"price\"])\n",
    "q"
   ]
  },
  {
   "cell_type": "code",
   "execution_count": 85,
   "id": "a02ef23b",
   "metadata": {},
   "outputs": [
    {
     "data": {
      "image/png": "[encoded data removed]",
      "text/plain": [
       "<Figure size 1200x1200 with 2 Axes>"
      ]
     },
     "metadata": {},
     "output_type": "display_data"
    }
   ],
   "source": [
    "fig, ax = plt.subplots(figsize=(12,12))\n",
    "sns.heatmap(df2.corr()[['price']].sort_values('price').tail(20),\n",
    " vmax=1, vmin=-1, cmap='YlGnBu', annot=True, ax=ax);"
   ]
  },
  {
   "cell_type": "code",
   "execution_count": 86,
   "id": "cd3b0445",
   "metadata": {},
   "outputs": [],
   "source": [
    "df3 = df2.drop([\"heights\",\"highway_mpg\",\"city_mpg\",\"peak_rpm\",\"comprassion\",\"stroke\",],axis=1)\n"
   ]
  },
  {
   "cell_type": "code",
   "execution_count": 87,
   "id": "c00d6610",
   "metadata": {},
   "outputs": [],
   "source": [
    "x2 = df3.drop(['price'],axis =1)\n",
    "y2 = df3['price']"
   ]
  },
  {
   "cell_type": "code",
   "execution_count": 88,
   "id": "9040daf0",
   "metadata": {
    "scrolled": true
   },
   "outputs": [
    {
     "name": "stdout",
     "output_type": "stream",
     "text": [
      "                            OLS Regression Results                            \n",
      "==============================================================================\n",
      "Dep. Variable:                  price   R-squared:                       0.754\n",
      "Model:                            OLS   Adj. R-squared:                  0.740\n",
      "Method:                 Least Squares   F-statistic:                     54.59\n",
      "Date:                Thu, 10 Nov 2022   Prob (F-statistic):           4.83e-35\n",
      "Time:                        01:11:18   Log-Likelihood:                -1215.9\n",
      "No. Observations:                 133   AIC:                             2448.\n",
      "Df Residuals:                     125   BIC:                             2471.\n",
      "Df Model:                           7                                         \n",
      "Covariance Type:            nonrobust                                         \n",
      "===============================================================================\n",
      "                  coef    std err          t      P>|t|      [0.025      0.975]\n",
      "-------------------------------------------------------------------------------\n",
      "wheel_base     81.9059     89.892      0.911      0.364     -96.001     259.813\n",
      "length        -22.7871     48.781     -0.467      0.641    -119.331      73.757\n",
      "width         146.3556    275.410      0.531      0.596    -398.715     691.426\n",
      "curb_weight     3.9235      1.473      2.664      0.009       1.009       6.838\n",
      "engine_size     9.1632     17.880      0.512      0.609     -26.224      44.550\n",
      "bore         2200.2902   1337.953      1.645      0.103    -447.684    4848.265\n",
      "horse_power    55.4011     14.783      3.748      0.000      26.144      84.658\n",
      "dummy_gas   -2.588e+04   1.35e+04     -1.916      0.058   -5.26e+04     852.608\n",
      "==============================================================================\n",
      "Omnibus:                       31.244   Durbin-Watson:                   0.830\n",
      "Prob(Omnibus):                  0.000   Jarque-Bera (JB):               55.752\n",
      "Skew:                           1.066   Prob(JB):                     7.83e-13\n",
      "Kurtosis:                       5.348   Cond. No.                     1.65e+05\n",
      "==============================================================================\n",
      "\n",
      "Notes:\n",
      "[1] Standard Errors assume that the covariance matrix of the errors is correctly specified.\n",
      "[2] The condition number is large, 1.65e+05. This might indicate that there are\n",
      "strong multicollinearity or other numerical problems.\n"
     ]
    }
   ],
   "source": [
    "ols = sm.OLS(y2, x2)\n",
    "model1_ols = ols.fit()\n",
    "print(model1_ols.summary())"
   ]
  },
  {
   "cell_type": "code",
   "execution_count": 89,
   "id": "f7527394",
   "metadata": {},
   "outputs": [],
   "source": [
    "X_train,X_test,y_train,y_test = train_test_split(x2,y2)"
   ]
  },
  {
   "cell_type": "code",
   "execution_count": 90,
   "id": "98daa64c",
   "metadata": {},
   "outputs": [
    {
     "data": {
      "text/html": [
       "<style>#sk-container-id-5 {color: black;background-color: white;}#sk-container-id-5 pre{padding: 0;}#sk-container-id-5 div.sk-toggleable {background-color: white;}#sk-container-id-5 label.sk-toggleable__label {cursor: pointer;display: block;width: 100%;margin-bottom: 0;padding: 0.3em;box-sizing: border-box;text-align: center;}#sk-container-id-5 label.sk-toggleable__label-arrow:before {content: \"▸\";float: left;margin-right: 0.25em;color: #696969;}#sk-container-id-5 label.sk-toggleable__label-arrow:hover:before {color: black;}#sk-container-id-5 div.sk-estimator:hover label.sk-toggleable__label-arrow:before {color: black;}#sk-container-id-5 div.sk-toggleable__content {max-height: 0;max-width: 0;overflow: hidden;text-align: left;background-color: #f0f8ff;}#sk-container-id-5 div.sk-toggleable__content pre {margin: 0.2em;color: black;border-radius: 0.25em;background-color: #f0f8ff;}#sk-container-id-5 input.sk-toggleable__control:checked~div.sk-toggleable__content {max-height: 200px;max-width: 100%;overflow: auto;}#sk-container-id-5 input.sk-toggleable__control:checked~label.sk-toggleable__label-arrow:before {content: \"▾\";}#sk-container-id-5 div.sk-estimator input.sk-toggleable__control:checked~label.sk-toggleable__label {background-color: #d4ebff;}#sk-container-id-5 div.sk-label input.sk-toggleable__control:checked~label.sk-toggleable__label {background-color: #d4ebff;}#sk-container-id-5 input.sk-hidden--visually {border: 0;clip: rect(1px 1px 1px 1px);clip: rect(1px, 1px, 1px, 1px);height: 1px;margin: -1px;overflow: hidden;padding: 0;position: absolute;width: 1px;}#sk-container-id-5 div.sk-estimator {font-family: monospace;background-color: #f0f8ff;border: 1px dotted black;border-radius: 0.25em;box-sizing: border-box;margin-bottom: 0.5em;}#sk-container-id-5 div.sk-estimator:hover {background-color: #d4ebff;}#sk-container-id-5 div.sk-parallel-item::after {content: \"\";width: 100%;border-bottom: 1px solid gray;flex-grow: 1;}#sk-container-id-5 div.sk-label:hover label.sk-toggleable__label {background-color: #d4ebff;}#sk-container-id-5 div.sk-serial::before {content: \"\";position: absolute;border-left: 1px solid gray;box-sizing: border-box;top: 0;bottom: 0;left: 50%;z-index: 0;}#sk-container-id-5 div.sk-serial {display: flex;flex-direction: column;align-items: center;background-color: white;padding-right: 0.2em;padding-left: 0.2em;position: relative;}#sk-container-id-5 div.sk-item {position: relative;z-index: 1;}#sk-container-id-5 div.sk-parallel {display: flex;align-items: stretch;justify-content: center;background-color: white;position: relative;}#sk-container-id-5 div.sk-item::before, #sk-container-id-5 div.sk-parallel-item::before {content: \"\";position: absolute;border-left: 1px solid gray;box-sizing: border-box;top: 0;bottom: 0;left: 50%;z-index: -1;}#sk-container-id-5 div.sk-parallel-item {display: flex;flex-direction: column;z-index: 1;position: relative;background-color: white;}#sk-container-id-5 div.sk-parallel-item:first-child::after {align-self: flex-end;width: 50%;}#sk-container-id-5 div.sk-parallel-item:last-child::after {align-self: flex-start;width: 50%;}#sk-container-id-5 div.sk-parallel-item:only-child::after {width: 0;}#sk-container-id-5 div.sk-dashed-wrapped {border: 1px dashed gray;margin: 0 0.4em 0.5em 0.4em;box-sizing: border-box;padding-bottom: 0.4em;background-color: white;}#sk-container-id-5 div.sk-label label {font-family: monospace;font-weight: bold;display: inline-block;line-height: 1.2em;}#sk-container-id-5 div.sk-label-container {text-align: center;}#sk-container-id-5 div.sk-container {/* jupyter's `normalize.less` sets `[hidden] { display: none; }` but bootstrap.min.css set `[hidden] { display: none !important; }` so we also need the `!important` here to be able to override the default hidden behavior on the sphinx rendered scikit-learn.org. See: https://github.com/scikit-learn/scikit-learn/issues/21755 */display: inline-block !important;position: relative;}#sk-container-id-5 div.sk-text-repr-fallback {display: none;}</style><div id=\"sk-container-id-5\" class=\"sk-top-container\"><div class=\"sk-text-repr-fallback\"><pre>LinearRegression()</pre><b>In a Jupyter environment, please rerun this cell to show the HTML representation or trust the notebook. <br />On GitHub, the HTML representation is unable to render, please try loading this page with nbviewer.org.</b></div><div class=\"sk-container\" hidden><div class=\"sk-item\"><div class=\"sk-estimator sk-toggleable\"><input class=\"sk-toggleable__control sk-hidden--visually\" id=\"sk-estimator-id-5\" type=\"checkbox\" checked><label for=\"sk-estimator-id-5\" class=\"sk-toggleable__label sk-toggleable__label-arrow\">LinearRegression</label><div class=\"sk-toggleable__content\"><pre>LinearRegression()</pre></div></div></div></div></div>"
      ],
      "text/plain": [
       "LinearRegression()"
      ]
     },
     "execution_count": 90,
     "metadata": {},
     "output_type": "execute_result"
    }
   ],
   "source": [
    "model2 = LinearRegression()\n",
    "model2.fit(X_train,y_train)"
   ]
  },
  {
   "cell_type": "code",
   "execution_count": 91,
   "id": "97315615",
   "metadata": {},
   "outputs": [],
   "source": [
    "y_predict2 =  model2.predict(X_test)"
   ]
  },
  {
   "cell_type": "code",
   "execution_count": 92,
   "id": "b0ea0c36",
   "metadata": {},
   "outputs": [
    {
     "name": "stdout",
     "output_type": "stream",
     "text": [
      "Mean absolute error = 1692.62\n",
      "Mean squared error = 5354904.73\n",
      "Median absolute error = 1323.95\n",
      "variance score = 0.71\n",
      "R2 score = 0.71\n",
      "Adjusted R2 score = 0.7318577729968924\n",
      "Intercept: -24006.634748276127\n"
     ]
    }
   ],
   "source": [
    "import sklearn.metrics as met\n",
    "print(\"Mean absolute error =\", round(met.mean_absolute_error(y_test,y_predict2), 2)) \n",
    "print(\"Mean squared error =\", round(met.mean_squared_error(y_test, y_predict2), 2)) \n",
    "print(\"Median absolute error =\", round(met.median_absolute_error(y_test, y_predict2), 2)) \n",
    "print(\"variance score =\", round(met.explained_variance_score(y_test,y_predict2), 2)) \n",
    "print(\"R2 score =\", round(met.r2_score(y_test, y_predict2), 2))\n",
    "print(\"Adjusted R2 score =\",1 - (1-model2.score(x2, y2))*(len(y2)-1)/(len(y2)-x2.shape[1]-1))\n",
    "print('Intercept:', model2.intercept_)"
   ]
  },
  {
   "cell_type": "code",
   "execution_count": 95,
   "id": "59539720",
   "metadata": {},
   "outputs": [],
   "source": [
    "MAE_1 = round(met.mean_absolute_error(y_test,y_predict2), 2)\n",
    "MSE_1 = round(met.mean_squared_error(y_test, y_predict2), 2)\n",
    "MeAE_1 = round(met.median_absolute_error(y_test, y_predict2), 2)\n",
    "VS_1 = round(met.explained_variance_score(y_test,y_predict2), 2)\n",
    "R2_1 = round(met.r2_score(y_test, y_predict2), 2)\n",
    "AR2_1 =1 - (1-model2.score(x2, y2))*(len(y2)-1)/(len(y2)-x2.shape[1]-1)\n",
    "Inter_1 = model2.intercept_"
   ]
  },
  {
   "cell_type": "code",
   "execution_count": null,
   "id": "7eaa5085",
   "metadata": {},
   "outputs": [],
   "source": []
  },
  {
   "cell_type": "code",
   "execution_count": 152,
   "id": "dfab08c4",
   "metadata": {},
   "outputs": [
    {
     "name": "stdout",
     "output_type": "stream",
     "text": [
      "(79, 13)\n",
      "1\n",
      "dummy_gas\n"
     ]
    }
   ],
   "source": [
    "from sklearn.feature_selection import VarianceThreshold\n",
    "constant_filter = VarianceThreshold(threshold=0)\n",
    "\n",
    "#Fit and transforming on train data\n",
    "data_constant = constant_filter.fit_transform(X_train)\n",
    "print(data_constant.shape)\n",
    "\n",
    "#Extracting all constant columns using get support function of our filter\n",
    "constant_columns = [column for column in X_train.columns\n",
    "                    if column not in X_train.columns[constant_filter.get_support()]]\n",
    "\n",
    "#No. of constant columns\n",
    "print(len(constant_columns))\n",
    "\n",
    "#Constant columns names:\n",
    "for column in constant_columns:\n",
    "    print(column)"
   ]
  },
  {
   "cell_type": "code",
   "execution_count": null,
   "id": "956c8b50",
   "metadata": {},
   "outputs": [],
   "source": []
  },
  {
   "cell_type": "code",
   "execution_count": null,
   "id": "229096dd",
   "metadata": {},
   "outputs": [],
   "source": []
  },
  {
   "cell_type": "markdown",
   "id": "92ca60d5-e273-44e1-b84c-912f5220523a",
   "metadata": {},
   "source": [
    "### 2.2. Wrapper methods\n",
    "\n",
    "Choose one (you may do more, one is required) of the wrapper methods to conduct variable selection. Report your findings."
   ]
  },
  {
   "cell_type": "markdown",
   "id": "4df3af2a",
   "metadata": {},
   "source": [
    "### Forward selection "
   ]
  },
  {
   "cell_type": "code",
   "execution_count": 96,
   "id": "d8484623",
   "metadata": {},
   "outputs": [],
   "source": [
    "from mlxtend.feature_selection import SequentialFeatureSelector as sfs"
   ]
  },
  {
   "cell_type": "code",
   "execution_count": 97,
   "id": "9a0f97f0",
   "metadata": {},
   "outputs": [],
   "source": [
    "lreg = LinearRegression()\n",
    "sfs1 = sfs(lreg, k_features=7, forward=True, verbose=2, scoring='neg_mean_squared_error')"
   ]
  },
  {
   "cell_type": "code",
   "execution_count": 98,
   "id": "18596cdd",
   "metadata": {},
   "outputs": [
    {
     "name": "stderr",
     "output_type": "stream",
     "text": [
      "[Parallel(n_jobs=1)]: Using backend SequentialBackend with 1 concurrent workers.\n",
      "[Parallel(n_jobs=1)]: Done   1 out of   1 | elapsed:    0.0s remaining:    0.0s\n",
      "[Parallel(n_jobs=1)]: Done  14 out of  14 | elapsed:    0.0s finished\n",
      "\n",
      "[2022-11-10 01:11:44] Features: 1/7 -- score: -7342388.215165639[Parallel(n_jobs=1)]: Using backend SequentialBackend with 1 concurrent workers.\n",
      "[Parallel(n_jobs=1)]: Done   1 out of   1 | elapsed:    0.0s remaining:    0.0s\n",
      "[Parallel(n_jobs=1)]: Done  13 out of  13 | elapsed:    0.0s finished\n",
      "\n",
      "[2022-11-10 01:11:44] Features: 2/7 -- score: -6437058.016983976[Parallel(n_jobs=1)]: Using backend SequentialBackend with 1 concurrent workers.\n",
      "[Parallel(n_jobs=1)]: Done   1 out of   1 | elapsed:    0.0s remaining:    0.0s\n",
      "[Parallel(n_jobs=1)]: Done  12 out of  12 | elapsed:    0.0s finished\n",
      "\n",
      "[2022-11-10 01:11:44] Features: 3/7 -- score: -5963881.550470811[Parallel(n_jobs=1)]: Using backend SequentialBackend with 1 concurrent workers.\n",
      "[Parallel(n_jobs=1)]: Done   1 out of   1 | elapsed:    0.0s remaining:    0.0s\n",
      "[Parallel(n_jobs=1)]: Done  11 out of  11 | elapsed:    0.0s finished\n",
      "\n",
      "[2022-11-10 01:11:44] Features: 4/7 -- score: -5653424.028943908[Parallel(n_jobs=1)]: Using backend SequentialBackend with 1 concurrent workers.\n",
      "[Parallel(n_jobs=1)]: Done   1 out of   1 | elapsed:    0.0s remaining:    0.0s\n",
      "[Parallel(n_jobs=1)]: Done  10 out of  10 | elapsed:    0.0s finished\n",
      "\n",
      "[2022-11-10 01:11:44] Features: 5/7 -- score: -5184056.595924793[Parallel(n_jobs=1)]: Using backend SequentialBackend with 1 concurrent workers.\n",
      "[Parallel(n_jobs=1)]: Done   1 out of   1 | elapsed:    0.0s remaining:    0.0s\n",
      "[Parallel(n_jobs=1)]: Done   9 out of   9 | elapsed:    0.0s finished\n",
      "\n",
      "[2022-11-10 01:11:44] Features: 6/7 -- score: -4952684.008086496[Parallel(n_jobs=1)]: Using backend SequentialBackend with 1 concurrent workers.\n",
      "[Parallel(n_jobs=1)]: Done   1 out of   1 | elapsed:    0.0s remaining:    0.0s\n",
      "[Parallel(n_jobs=1)]: Done   8 out of   8 | elapsed:    0.0s finished\n",
      "\n",
      "[2022-11-10 01:11:44] Features: 7/7 -- score: -4898580.372723182"
     ]
    }
   ],
   "source": [
    "sfs1 = sfs1.fit(X, y)"
   ]
  },
  {
   "cell_type": "code",
   "execution_count": 99,
   "id": "5df296d8",
   "metadata": {},
   "outputs": [
    {
     "name": "stdout",
     "output_type": "stream",
     "text": [
      "['wheel_base', 'heights', 'curb_weight', 'stroke', 'comprassion', 'horse_power', 'city_mpg']\n"
     ]
    }
   ],
   "source": [
    "feat_names = list(sfs1.k_feature_names_)\n",
    "print(feat_names)"
   ]
  },
  {
   "cell_type": "code",
   "execution_count": 100,
   "id": "426cf450",
   "metadata": {},
   "outputs": [
    {
     "name": "stderr",
     "output_type": "stream",
     "text": [
      "C:\\Users\\arjul\\AppData\\Local\\Temp\\ipykernel_12520\\655913355.py:2: SettingWithCopyWarning: \n",
      "A value is trying to be set on a copy of a slice from a DataFrame.\n",
      "Try using .loc[row_indexer,col_indexer] = value instead\n",
      "\n",
      "See the caveats in the documentation: https://pandas.pydata.org/pandas-docs/stable/user_guide/indexing.html#returning-a-view-versus-a-copy\n",
      "  ff_data['price'] = df2['price']\n"
     ]
    }
   ],
   "source": [
    "ff_data = df2[feat_names]\n",
    "ff_data['price'] = df2['price']"
   ]
  },
  {
   "cell_type": "code",
   "execution_count": 101,
   "id": "e37bb3ee",
   "metadata": {},
   "outputs": [
    {
     "data": {
      "text/plain": [
       "((133, 8), (133, 15))"
      ]
     },
     "execution_count": 101,
     "metadata": {},
     "output_type": "execute_result"
    }
   ],
   "source": [
    "ff_data.shape, df2.shape"
   ]
  },
  {
   "cell_type": "code",
   "execution_count": 102,
   "id": "382ba6c3",
   "metadata": {},
   "outputs": [
    {
     "data": {
      "text/html": [
       "<div>\n",
       "<style scoped>\n",
       "    .dataframe tbody tr th:only-of-type {\n",
       "        vertical-align: middle;\n",
       "    }\n",
       "\n",
       "    .dataframe tbody tr th {\n",
       "        vertical-align: top;\n",
       "    }\n",
       "\n",
       "    .dataframe thead th {\n",
       "        text-align: right;\n",
       "    }\n",
       "</style>\n",
       "<table border=\"1\" class=\"dataframe\">\n",
       "  <thead>\n",
       "    <tr style=\"text-align: right;\">\n",
       "      <th></th>\n",
       "      <th>wheel_base</th>\n",
       "      <th>heights</th>\n",
       "      <th>curb_weight</th>\n",
       "      <th>stroke</th>\n",
       "      <th>comprassion</th>\n",
       "      <th>horse_power</th>\n",
       "      <th>city_mpg</th>\n",
       "      <th>price</th>\n",
       "    </tr>\n",
       "  </thead>\n",
       "  <tbody>\n",
       "    <tr>\n",
       "      <th>0</th>\n",
       "      <td>88.6</td>\n",
       "      <td>48.8</td>\n",
       "      <td>2548.0</td>\n",
       "      <td>2.68</td>\n",
       "      <td>9.0</td>\n",
       "      <td>111.0</td>\n",
       "      <td>21.0</td>\n",
       "      <td>13495.0</td>\n",
       "    </tr>\n",
       "    <tr>\n",
       "      <th>1</th>\n",
       "      <td>88.6</td>\n",
       "      <td>48.8</td>\n",
       "      <td>2548.0</td>\n",
       "      <td>2.68</td>\n",
       "      <td>9.0</td>\n",
       "      <td>111.0</td>\n",
       "      <td>21.0</td>\n",
       "      <td>16500.0</td>\n",
       "    </tr>\n",
       "    <tr>\n",
       "      <th>2</th>\n",
       "      <td>94.5</td>\n",
       "      <td>52.4</td>\n",
       "      <td>2823.0</td>\n",
       "      <td>3.47</td>\n",
       "      <td>9.0</td>\n",
       "      <td>154.0</td>\n",
       "      <td>19.0</td>\n",
       "      <td>16500.0</td>\n",
       "    </tr>\n",
       "    <tr>\n",
       "      <th>3</th>\n",
       "      <td>99.8</td>\n",
       "      <td>54.3</td>\n",
       "      <td>2337.0</td>\n",
       "      <td>3.40</td>\n",
       "      <td>10.0</td>\n",
       "      <td>102.0</td>\n",
       "      <td>24.0</td>\n",
       "      <td>13950.0</td>\n",
       "    </tr>\n",
       "    <tr>\n",
       "      <th>4</th>\n",
       "      <td>99.4</td>\n",
       "      <td>54.3</td>\n",
       "      <td>2824.0</td>\n",
       "      <td>3.40</td>\n",
       "      <td>8.0</td>\n",
       "      <td>115.0</td>\n",
       "      <td>18.0</td>\n",
       "      <td>17450.0</td>\n",
       "    </tr>\n",
       "  </tbody>\n",
       "</table>\n",
       "</div>"
      ],
      "text/plain": [
       "   wheel_base  heights  curb_weight  stroke  comprassion  horse_power  \\\n",
       "0        88.6     48.8       2548.0    2.68          9.0        111.0   \n",
       "1        88.6     48.8       2548.0    2.68          9.0        111.0   \n",
       "2        94.5     52.4       2823.0    3.47          9.0        154.0   \n",
       "3        99.8     54.3       2337.0    3.40         10.0        102.0   \n",
       "4        99.4     54.3       2824.0    3.40          8.0        115.0   \n",
       "\n",
       "   city_mpg    price  \n",
       "0      21.0  13495.0  \n",
       "1      21.0  16500.0  \n",
       "2      19.0  16500.0  \n",
       "3      24.0  13950.0  \n",
       "4      18.0  17450.0  "
      ]
     },
     "execution_count": 102,
     "metadata": {},
     "output_type": "execute_result"
    }
   ],
   "source": [
    "ff_data.head()"
   ]
  },
  {
   "cell_type": "code",
   "execution_count": 103,
   "id": "d094c0cd",
   "metadata": {},
   "outputs": [],
   "source": [
    "x3 = ff_data.drop(['price'],axis =1)\n",
    "y3 = ff_data['price']"
   ]
  },
  {
   "cell_type": "code",
   "execution_count": 104,
   "id": "1aacd1de",
   "metadata": {},
   "outputs": [
    {
     "name": "stdout",
     "output_type": "stream",
     "text": [
      "                            OLS Regression Results                            \n",
      "==============================================================================\n",
      "Dep. Variable:                  price   R-squared:                       0.754\n",
      "Model:                            OLS   Adj. R-squared:                  0.740\n",
      "Method:                 Least Squares   F-statistic:                     54.59\n",
      "Date:                Thu, 10 Nov 2022   Prob (F-statistic):           4.83e-35\n",
      "Time:                        01:11:45   Log-Likelihood:                -1215.9\n",
      "No. Observations:                 133   AIC:                             2448.\n",
      "Df Residuals:                     125   BIC:                             2471.\n",
      "Df Model:                           7                                         \n",
      "Covariance Type:            nonrobust                                         \n",
      "===============================================================================\n",
      "                  coef    std err          t      P>|t|      [0.025      0.975]\n",
      "-------------------------------------------------------------------------------\n",
      "wheel_base     81.9059     89.892      0.911      0.364     -96.001     259.813\n",
      "length        -22.7871     48.781     -0.467      0.641    -119.331      73.757\n",
      "width         146.3556    275.410      0.531      0.596    -398.715     691.426\n",
      "curb_weight     3.9235      1.473      2.664      0.009       1.009       6.838\n",
      "engine_size     9.1632     17.880      0.512      0.609     -26.224      44.550\n",
      "bore         2200.2902   1337.953      1.645      0.103    -447.684    4848.265\n",
      "horse_power    55.4011     14.783      3.748      0.000      26.144      84.658\n",
      "dummy_gas   -2.588e+04   1.35e+04     -1.916      0.058   -5.26e+04     852.608\n",
      "==============================================================================\n",
      "Omnibus:                       31.244   Durbin-Watson:                   0.830\n",
      "Prob(Omnibus):                  0.000   Jarque-Bera (JB):               55.752\n",
      "Skew:                           1.066   Prob(JB):                     7.83e-13\n",
      "Kurtosis:                       5.348   Cond. No.                     1.65e+05\n",
      "==============================================================================\n",
      "\n",
      "Notes:\n",
      "[1] Standard Errors assume that the covariance matrix of the errors is correctly specified.\n",
      "[2] The condition number is large, 1.65e+05. This might indicate that there are\n",
      "strong multicollinearity or other numerical problems.\n"
     ]
    }
   ],
   "source": [
    "ols2 = sm.OLS(y2, x2)\n",
    "model2_ols = ols2.fit()\n",
    "print(model2_ols.summary())"
   ]
  },
  {
   "cell_type": "code",
   "execution_count": 105,
   "id": "1255754e",
   "metadata": {},
   "outputs": [],
   "source": [
    "X3_train,X3_test,y3_train,y3_test = train_test_split(x3,y3,random_state=25)"
   ]
  },
  {
   "cell_type": "code",
   "execution_count": 106,
   "id": "034c219e",
   "metadata": {},
   "outputs": [
    {
     "data": {
      "text/html": [
       "<style>#sk-container-id-6 {color: black;background-color: white;}#sk-container-id-6 pre{padding: 0;}#sk-container-id-6 div.sk-toggleable {background-color: white;}#sk-container-id-6 label.sk-toggleable__label {cursor: pointer;display: block;width: 100%;margin-bottom: 0;padding: 0.3em;box-sizing: border-box;text-align: center;}#sk-container-id-6 label.sk-toggleable__label-arrow:before {content: \"▸\";float: left;margin-right: 0.25em;color: #696969;}#sk-container-id-6 label.sk-toggleable__label-arrow:hover:before {color: black;}#sk-container-id-6 div.sk-estimator:hover label.sk-toggleable__label-arrow:before {color: black;}#sk-container-id-6 div.sk-toggleable__content {max-height: 0;max-width: 0;overflow: hidden;text-align: left;background-color: #f0f8ff;}#sk-container-id-6 div.sk-toggleable__content pre {margin: 0.2em;color: black;border-radius: 0.25em;background-color: #f0f8ff;}#sk-container-id-6 input.sk-toggleable__control:checked~div.sk-toggleable__content {max-height: 200px;max-width: 100%;overflow: auto;}#sk-container-id-6 input.sk-toggleable__control:checked~label.sk-toggleable__label-arrow:before {content: \"▾\";}#sk-container-id-6 div.sk-estimator input.sk-toggleable__control:checked~label.sk-toggleable__label {background-color: #d4ebff;}#sk-container-id-6 div.sk-label input.sk-toggleable__control:checked~label.sk-toggleable__label {background-color: #d4ebff;}#sk-container-id-6 input.sk-hidden--visually {border: 0;clip: rect(1px 1px 1px 1px);clip: rect(1px, 1px, 1px, 1px);height: 1px;margin: -1px;overflow: hidden;padding: 0;position: absolute;width: 1px;}#sk-container-id-6 div.sk-estimator {font-family: monospace;background-color: #f0f8ff;border: 1px dotted black;border-radius: 0.25em;box-sizing: border-box;margin-bottom: 0.5em;}#sk-container-id-6 div.sk-estimator:hover {background-color: #d4ebff;}#sk-container-id-6 div.sk-parallel-item::after {content: \"\";width: 100%;border-bottom: 1px solid gray;flex-grow: 1;}#sk-container-id-6 div.sk-label:hover label.sk-toggleable__label {background-color: #d4ebff;}#sk-container-id-6 div.sk-serial::before {content: \"\";position: absolute;border-left: 1px solid gray;box-sizing: border-box;top: 0;bottom: 0;left: 50%;z-index: 0;}#sk-container-id-6 div.sk-serial {display: flex;flex-direction: column;align-items: center;background-color: white;padding-right: 0.2em;padding-left: 0.2em;position: relative;}#sk-container-id-6 div.sk-item {position: relative;z-index: 1;}#sk-container-id-6 div.sk-parallel {display: flex;align-items: stretch;justify-content: center;background-color: white;position: relative;}#sk-container-id-6 div.sk-item::before, #sk-container-id-6 div.sk-parallel-item::before {content: \"\";position: absolute;border-left: 1px solid gray;box-sizing: border-box;top: 0;bottom: 0;left: 50%;z-index: -1;}#sk-container-id-6 div.sk-parallel-item {display: flex;flex-direction: column;z-index: 1;position: relative;background-color: white;}#sk-container-id-6 div.sk-parallel-item:first-child::after {align-self: flex-end;width: 50%;}#sk-container-id-6 div.sk-parallel-item:last-child::after {align-self: flex-start;width: 50%;}#sk-container-id-6 div.sk-parallel-item:only-child::after {width: 0;}#sk-container-id-6 div.sk-dashed-wrapped {border: 1px dashed gray;margin: 0 0.4em 0.5em 0.4em;box-sizing: border-box;padding-bottom: 0.4em;background-color: white;}#sk-container-id-6 div.sk-label label {font-family: monospace;font-weight: bold;display: inline-block;line-height: 1.2em;}#sk-container-id-6 div.sk-label-container {text-align: center;}#sk-container-id-6 div.sk-container {/* jupyter's `normalize.less` sets `[hidden] { display: none; }` but bootstrap.min.css set `[hidden] { display: none !important; }` so we also need the `!important` here to be able to override the default hidden behavior on the sphinx rendered scikit-learn.org. See: https://github.com/scikit-learn/scikit-learn/issues/21755 */display: inline-block !important;position: relative;}#sk-container-id-6 div.sk-text-repr-fallback {display: none;}</style><div id=\"sk-container-id-6\" class=\"sk-top-container\"><div class=\"sk-text-repr-fallback\"><pre>LinearRegression()</pre><b>In a Jupyter environment, please rerun this cell to show the HTML representation or trust the notebook. <br />On GitHub, the HTML representation is unable to render, please try loading this page with nbviewer.org.</b></div><div class=\"sk-container\" hidden><div class=\"sk-item\"><div class=\"sk-estimator sk-toggleable\"><input class=\"sk-toggleable__control sk-hidden--visually\" id=\"sk-estimator-id-6\" type=\"checkbox\" checked><label for=\"sk-estimator-id-6\" class=\"sk-toggleable__label sk-toggleable__label-arrow\">LinearRegression</label><div class=\"sk-toggleable__content\"><pre>LinearRegression()</pre></div></div></div></div></div>"
      ],
      "text/plain": [
       "LinearRegression()"
      ]
     },
     "execution_count": 106,
     "metadata": {},
     "output_type": "execute_result"
    }
   ],
   "source": [
    "model3 = LinearRegression()\n",
    "model3.fit(X3_train,y3_train)"
   ]
  },
  {
   "cell_type": "code",
   "execution_count": 107,
   "id": "297ae05d",
   "metadata": {},
   "outputs": [],
   "source": [
    "y_predict3 =  model3.predict(X3_test)"
   ]
  },
  {
   "cell_type": "code",
   "execution_count": 108,
   "id": "f31cfbf8",
   "metadata": {},
   "outputs": [
    {
     "name": "stdout",
     "output_type": "stream",
     "text": [
      "Mean absolute error = 1424.26\n",
      "Mean squared error = 3532266.46\n",
      "Median absolute error = 1037.67\n",
      "variance score = 0.72\n",
      "R2 score = 0.72\n",
      "Adjusted R2 score = 0.8028503378389616\n",
      "Intercept: 6309.18725255633\n"
     ]
    }
   ],
   "source": [
    "print(\"Mean absolute error =\", round(met.mean_absolute_error(y3_test,y_predict3), 2)) \n",
    "print(\"Mean squared error =\", round(met.mean_squared_error(y3_test, y_predict3), 2)) \n",
    "print(\"Median absolute error =\", round(met.median_absolute_error(y3_test, y_predict3), 2)) \n",
    "print(\"variance score =\", round(met.explained_variance_score(y3_test,y_predict3), 2)) \n",
    "print(\"R2 score =\", round(met.r2_score(y3_test, y_predict3), 2))\n",
    "print(\"Adjusted R2 score =\",1 - (1-model3.score(x3, y3))*(len(y3)-1)/(len(y3)-x3.shape[1]-1))\n",
    "print('Intercept:', model3.intercept_)"
   ]
  },
  {
   "cell_type": "code",
   "execution_count": 109,
   "id": "4fe9fb6d",
   "metadata": {},
   "outputs": [],
   "source": [
    "MAE_2 = round(met.mean_absolute_error(y3_test,y_predict3), 2) \n",
    "MSE_2 = round(met.mean_squared_error(y3_test, y_predict3), 2) \n",
    "MeAE_2 = round(met.median_absolute_error(y3_test, y_predict3), 2) \n",
    "VS_2 = round(met.explained_variance_score(y3_test,y_predict3), 2) \n",
    "R2_2 = round(met.r2_score(y3_test, y_predict3), 2)\n",
    "AR2_2 = 1 - (1-model3.score(x3, y3))*(len(y3)-1)/(len(y3)-x3.shape[1]-1)\n",
    "Inter_2 = model3.intercept_"
   ]
  },
  {
   "cell_type": "markdown",
   "id": "517f70b3",
   "metadata": {},
   "source": [
    "### Backward elimination"
   ]
  },
  {
   "cell_type": "code",
   "execution_count": 110,
   "id": "9d032cd5",
   "metadata": {},
   "outputs": [],
   "source": [
    "sfs2 = sfs(lreg, k_features=7, forward=False, verbose=2, scoring='neg_mean_squared_error')"
   ]
  },
  {
   "cell_type": "code",
   "execution_count": 111,
   "id": "be5c2b9a",
   "metadata": {},
   "outputs": [
    {
     "name": "stderr",
     "output_type": "stream",
     "text": [
      "[Parallel(n_jobs=1)]: Using backend SequentialBackend with 1 concurrent workers.\n",
      "[Parallel(n_jobs=1)]: Done   1 out of   1 | elapsed:    0.0s remaining:    0.0s\n",
      "[Parallel(n_jobs=1)]: Done  14 out of  14 | elapsed:    0.0s finished\n",
      "\n",
      "[2022-11-10 01:11:48] Features: 13/7 -- score: -6466738.966745781[Parallel(n_jobs=1)]: Using backend SequentialBackend with 1 concurrent workers.\n",
      "[Parallel(n_jobs=1)]: Done   1 out of   1 | elapsed:    0.0s remaining:    0.0s\n",
      "[Parallel(n_jobs=1)]: Done  13 out of  13 | elapsed:    0.0s finished\n",
      "\n",
      "[2022-11-10 01:11:48] Features: 12/7 -- score: -5809518.206848724[Parallel(n_jobs=1)]: Using backend SequentialBackend with 1 concurrent workers.\n",
      "[Parallel(n_jobs=1)]: Done   1 out of   1 | elapsed:    0.0s remaining:    0.0s\n",
      "[Parallel(n_jobs=1)]: Done  12 out of  12 | elapsed:    0.0s finished\n",
      "\n",
      "[2022-11-10 01:11:48] Features: 11/7 -- score: -5455017.706685113[Parallel(n_jobs=1)]: Using backend SequentialBackend with 1 concurrent workers.\n",
      "[Parallel(n_jobs=1)]: Done   1 out of   1 | elapsed:    0.0s remaining:    0.0s\n",
      "[Parallel(n_jobs=1)]: Done  11 out of  11 | elapsed:    0.0s finished\n",
      "\n",
      "[2022-11-10 01:11:48] Features: 10/7 -- score: -5044030.511435605[Parallel(n_jobs=1)]: Using backend SequentialBackend with 1 concurrent workers.\n",
      "[Parallel(n_jobs=1)]: Done   1 out of   1 | elapsed:    0.0s remaining:    0.0s\n",
      "[Parallel(n_jobs=1)]: Done  10 out of  10 | elapsed:    0.0s finished\n",
      "\n",
      "[2022-11-10 01:11:49] Features: 9/7 -- score: -4795092.091017606[Parallel(n_jobs=1)]: Using backend SequentialBackend with 1 concurrent workers.\n",
      "[Parallel(n_jobs=1)]: Done   1 out of   1 | elapsed:    0.0s remaining:    0.0s\n",
      "[Parallel(n_jobs=1)]: Done   9 out of   9 | elapsed:    0.0s finished\n",
      "\n",
      "[2022-11-10 01:11:49] Features: 8/7 -- score: -4738392.152498038[Parallel(n_jobs=1)]: Using backend SequentialBackend with 1 concurrent workers.\n",
      "[Parallel(n_jobs=1)]: Done   1 out of   1 | elapsed:    0.0s remaining:    0.0s\n",
      "[Parallel(n_jobs=1)]: Done   8 out of   8 | elapsed:    0.0s finished\n",
      "\n",
      "[2022-11-10 01:11:49] Features: 7/7 -- score: -4738392.152498037"
     ]
    }
   ],
   "source": [
    "sfs2 = sfs2.fit(X, y)"
   ]
  },
  {
   "cell_type": "code",
   "execution_count": 112,
   "id": "c19cb08f",
   "metadata": {},
   "outputs": [
    {
     "name": "stdout",
     "output_type": "stream",
     "text": [
      "['wheel_base', 'heights', 'curb_weight', 'stroke', 'comprassion', 'horse_power', 'city_mpg']\n"
     ]
    }
   ],
   "source": [
    "feat_names2 = list(sfs2.k_feature_names_)\n",
    "print(feat_names)"
   ]
  },
  {
   "cell_type": "code",
   "execution_count": 113,
   "id": "aa157c58",
   "metadata": {},
   "outputs": [
    {
     "name": "stderr",
     "output_type": "stream",
     "text": [
      "C:\\Users\\arjul\\AppData\\Local\\Temp\\ipykernel_12520\\69076340.py:2: SettingWithCopyWarning: \n",
      "A value is trying to be set on a copy of a slice from a DataFrame.\n",
      "Try using .loc[row_indexer,col_indexer] = value instead\n",
      "\n",
      "See the caveats in the documentation: https://pandas.pydata.org/pandas-docs/stable/user_guide/indexing.html#returning-a-view-versus-a-copy\n",
      "  bb_data['price'] = df2['price']\n"
     ]
    }
   ],
   "source": [
    "bb_data = df2[feat_names2]\n",
    "bb_data['price'] = df2['price']"
   ]
  },
  {
   "cell_type": "code",
   "execution_count": 114,
   "id": "8693b9cb",
   "metadata": {},
   "outputs": [],
   "source": [
    "x4 = ff_data.drop(['price'],axis =1)\n",
    "y4 = ff_data['price']"
   ]
  },
  {
   "cell_type": "code",
   "execution_count": 115,
   "id": "4e0b887c",
   "metadata": {
    "scrolled": true
   },
   "outputs": [
    {
     "name": "stdout",
     "output_type": "stream",
     "text": [
      "                                 OLS Regression Results                                \n",
      "=======================================================================================\n",
      "Dep. Variable:                  price   R-squared (uncentered):                   0.972\n",
      "Model:                            OLS   Adj. R-squared (uncentered):              0.971\n",
      "Method:                 Least Squares   F-statistic:                              631.9\n",
      "Date:                Thu, 10 Nov 2022   Prob (F-statistic):                    7.09e-95\n",
      "Time:                        01:11:50   Log-Likelihood:                         -1197.2\n",
      "No. Observations:                 133   AIC:                                      2408.\n",
      "Df Residuals:                     126   BIC:                                      2429.\n",
      "Df Model:                           7                                                  \n",
      "Covariance Type:            nonrobust                                                  \n",
      "===============================================================================\n",
      "                  coef    std err          t      P>|t|      [0.025      0.975]\n",
      "-------------------------------------------------------------------------------\n",
      "wheel_base    231.0201     63.543      3.636      0.000     105.271     356.769\n",
      "heights      -121.2702     92.929     -1.305      0.194    -305.174      62.634\n",
      "curb_weight     0.8766      1.235      0.710      0.479      -1.567       3.320\n",
      "stroke      -4487.9012    851.518     -5.270      0.000   -6173.031   -2802.771\n",
      "comprassion  1322.4078    374.699      3.529      0.001     580.889    2063.927\n",
      "horse_power    50.2322     12.427      4.042      0.000      25.640      74.825\n",
      "city_mpg     -361.7313     83.447     -4.335      0.000    -526.870    -196.593\n",
      "==============================================================================\n",
      "Omnibus:                       27.349   Durbin-Watson:                   1.146\n",
      "Prob(Omnibus):                  0.000   Jarque-Bera (JB):               55.986\n",
      "Skew:                           0.870   Prob(JB):                     6.96e-13\n",
      "Kurtosis:                       5.660   Cond. No.                     1.20e+04\n",
      "==============================================================================\n",
      "\n",
      "Notes:\n",
      "[1] R² is computed without centering (uncentered) since the model does not contain a constant.\n",
      "[2] Standard Errors assume that the covariance matrix of the errors is correctly specified.\n",
      "[3] The condition number is large, 1.2e+04. This might indicate that there are\n",
      "strong multicollinearity or other numerical problems.\n"
     ]
    }
   ],
   "source": [
    "ols4 = sm.OLS(y4, x4)\n",
    "model4_ols = ols4.fit()\n",
    "print(model4_ols.summary())"
   ]
  },
  {
   "cell_type": "code",
   "execution_count": 116,
   "id": "79a38d7a",
   "metadata": {},
   "outputs": [],
   "source": [
    "X4_train,X4_test,y4_train,y4_test = train_test_split(x4,y4,random_state=25)"
   ]
  },
  {
   "cell_type": "code",
   "execution_count": 117,
   "id": "80bba177",
   "metadata": {},
   "outputs": [
    {
     "data": {
      "text/html": [
       "<style>#sk-container-id-7 {color: black;background-color: white;}#sk-container-id-7 pre{padding: 0;}#sk-container-id-7 div.sk-toggleable {background-color: white;}#sk-container-id-7 label.sk-toggleable__label {cursor: pointer;display: block;width: 100%;margin-bottom: 0;padding: 0.3em;box-sizing: border-box;text-align: center;}#sk-container-id-7 label.sk-toggleable__label-arrow:before {content: \"▸\";float: left;margin-right: 0.25em;color: #696969;}#sk-container-id-7 label.sk-toggleable__label-arrow:hover:before {color: black;}#sk-container-id-7 div.sk-estimator:hover label.sk-toggleable__label-arrow:before {color: black;}#sk-container-id-7 div.sk-toggleable__content {max-height: 0;max-width: 0;overflow: hidden;text-align: left;background-color: #f0f8ff;}#sk-container-id-7 div.sk-toggleable__content pre {margin: 0.2em;color: black;border-radius: 0.25em;background-color: #f0f8ff;}#sk-container-id-7 input.sk-toggleable__control:checked~div.sk-toggleable__content {max-height: 200px;max-width: 100%;overflow: auto;}#sk-container-id-7 input.sk-toggleable__control:checked~label.sk-toggleable__label-arrow:before {content: \"▾\";}#sk-container-id-7 div.sk-estimator input.sk-toggleable__control:checked~label.sk-toggleable__label {background-color: #d4ebff;}#sk-container-id-7 div.sk-label input.sk-toggleable__control:checked~label.sk-toggleable__label {background-color: #d4ebff;}#sk-container-id-7 input.sk-hidden--visually {border: 0;clip: rect(1px 1px 1px 1px);clip: rect(1px, 1px, 1px, 1px);height: 1px;margin: -1px;overflow: hidden;padding: 0;position: absolute;width: 1px;}#sk-container-id-7 div.sk-estimator {font-family: monospace;background-color: #f0f8ff;border: 1px dotted black;border-radius: 0.25em;box-sizing: border-box;margin-bottom: 0.5em;}#sk-container-id-7 div.sk-estimator:hover {background-color: #d4ebff;}#sk-container-id-7 div.sk-parallel-item::after {content: \"\";width: 100%;border-bottom: 1px solid gray;flex-grow: 1;}#sk-container-id-7 div.sk-label:hover label.sk-toggleable__label {background-color: #d4ebff;}#sk-container-id-7 div.sk-serial::before {content: \"\";position: absolute;border-left: 1px solid gray;box-sizing: border-box;top: 0;bottom: 0;left: 50%;z-index: 0;}#sk-container-id-7 div.sk-serial {display: flex;flex-direction: column;align-items: center;background-color: white;padding-right: 0.2em;padding-left: 0.2em;position: relative;}#sk-container-id-7 div.sk-item {position: relative;z-index: 1;}#sk-container-id-7 div.sk-parallel {display: flex;align-items: stretch;justify-content: center;background-color: white;position: relative;}#sk-container-id-7 div.sk-item::before, #sk-container-id-7 div.sk-parallel-item::before {content: \"\";position: absolute;border-left: 1px solid gray;box-sizing: border-box;top: 0;bottom: 0;left: 50%;z-index: -1;}#sk-container-id-7 div.sk-parallel-item {display: flex;flex-direction: column;z-index: 1;position: relative;background-color: white;}#sk-container-id-7 div.sk-parallel-item:first-child::after {align-self: flex-end;width: 50%;}#sk-container-id-7 div.sk-parallel-item:last-child::after {align-self: flex-start;width: 50%;}#sk-container-id-7 div.sk-parallel-item:only-child::after {width: 0;}#sk-container-id-7 div.sk-dashed-wrapped {border: 1px dashed gray;margin: 0 0.4em 0.5em 0.4em;box-sizing: border-box;padding-bottom: 0.4em;background-color: white;}#sk-container-id-7 div.sk-label label {font-family: monospace;font-weight: bold;display: inline-block;line-height: 1.2em;}#sk-container-id-7 div.sk-label-container {text-align: center;}#sk-container-id-7 div.sk-container {/* jupyter's `normalize.less` sets `[hidden] { display: none; }` but bootstrap.min.css set `[hidden] { display: none !important; }` so we also need the `!important` here to be able to override the default hidden behavior on the sphinx rendered scikit-learn.org. See: https://github.com/scikit-learn/scikit-learn/issues/21755 */display: inline-block !important;position: relative;}#sk-container-id-7 div.sk-text-repr-fallback {display: none;}</style><div id=\"sk-container-id-7\" class=\"sk-top-container\"><div class=\"sk-text-repr-fallback\"><pre>LinearRegression()</pre><b>In a Jupyter environment, please rerun this cell to show the HTML representation or trust the notebook. <br />On GitHub, the HTML representation is unable to render, please try loading this page with nbviewer.org.</b></div><div class=\"sk-container\" hidden><div class=\"sk-item\"><div class=\"sk-estimator sk-toggleable\"><input class=\"sk-toggleable__control sk-hidden--visually\" id=\"sk-estimator-id-7\" type=\"checkbox\" checked><label for=\"sk-estimator-id-7\" class=\"sk-toggleable__label sk-toggleable__label-arrow\">LinearRegression</label><div class=\"sk-toggleable__content\"><pre>LinearRegression()</pre></div></div></div></div></div>"
      ],
      "text/plain": [
       "LinearRegression()"
      ]
     },
     "execution_count": 117,
     "metadata": {},
     "output_type": "execute_result"
    }
   ],
   "source": [
    "model4 = LinearRegression()\n",
    "model4.fit(X4_train,y4_train)"
   ]
  },
  {
   "cell_type": "code",
   "execution_count": 118,
   "id": "92aba3d7",
   "metadata": {},
   "outputs": [],
   "source": [
    "y_predict4 =  model4.predict(X4_test)"
   ]
  },
  {
   "cell_type": "code",
   "execution_count": 119,
   "id": "fe7a3dc4",
   "metadata": {},
   "outputs": [
    {
     "name": "stdout",
     "output_type": "stream",
     "text": [
      "Mean absolute error = 1424.26\n",
      "Mean squared error = 3532266.46\n",
      "Median absolute error = 1037.67\n",
      "variance score = 0.72\n",
      "R2 score = 0.72\n",
      "Adjusted R2 score = 0.8028503378389616\n",
      "Intercept: 6309.18725255633\n"
     ]
    }
   ],
   "source": [
    "print(\"Mean absolute error =\", round(met.mean_absolute_error(y4_test,y_predict4), 2)) \n",
    "print(\"Mean squared error =\", round(met.mean_squared_error(y4_test, y_predict4), 2)) \n",
    "print(\"Median absolute error =\", round(met.median_absolute_error(y4_test, y_predict4), 2)) \n",
    "print(\"variance score =\", round(met.explained_variance_score(y4_test,y_predict4), 2)) \n",
    "print(\"R2 score =\", round(met.r2_score(y4_test, y_predict4), 2))\n",
    "print(\"Adjusted R2 score =\",1 - (1-model4.score(x4, y4))*(len(y4)-1)/(len(y4)-x4.shape[1]-1))\n",
    "print('Intercept:', model4.intercept_)"
   ]
  },
  {
   "cell_type": "markdown",
   "id": "8eab4dd6-c32f-47e5-a80e-214ce165c840",
   "metadata": {},
   "source": [
    "### 2.3. Embedded methods\n",
    "\n",
    "Choose one (you may do more, one is required) of the embedded methods to conduct variable selection. Report your findings."
   ]
  },
  {
   "cell_type": "code",
   "execution_count": 120,
   "id": "6d12d8ec",
   "metadata": {},
   "outputs": [],
   "source": [
    "from sklearn.linear_model import Lasso, LogisticRegression\n",
    "from sklearn.feature_selection import SelectFromModel\n"
   ]
  },
  {
   "cell_type": "code",
   "execution_count": 121,
   "id": "bdb8f6a4",
   "metadata": {},
   "outputs": [],
   "source": [
    "X_train, X_test, Y_train, Y_test = train_test_split(X, y, test_size=0.4, random_state=0)"
   ]
  },
  {
   "cell_type": "code",
   "execution_count": 122,
   "id": "62a63d05",
   "metadata": {},
   "outputs": [
    {
     "data": {
      "text/plain": [
       "((79, 14), (54, 14))"
      ]
     },
     "execution_count": 122,
     "metadata": {},
     "output_type": "execute_result"
    }
   ],
   "source": [
    "X_train.shape, X_test.shape"
   ]
  },
  {
   "cell_type": "code",
   "execution_count": 123,
   "id": "6f6fa76d",
   "metadata": {},
   "outputs": [
    {
     "name": "stderr",
     "output_type": "stream",
     "text": [
      "C:\\Users\\arjul\\.conda\\envs\\data_science\\lib\\site-packages\\sklearn\\svm\\_base.py:1225: ConvergenceWarning: Liblinear failed to converge, increase the number of iterations.\n",
      "  warnings.warn(\n"
     ]
    }
   ],
   "source": [
    "sel_ = SelectFromModel(LogisticRegression(C=1, penalty='l1', solver='liblinear'))\n",
    "sel_.fit(X_train, np.ravel(Y_train,order='C'))\n",
    "sel_.get_support()\n",
    "X_train = pd.DataFrame(X_train)"
   ]
  },
  {
   "cell_type": "code",
   "execution_count": 124,
   "id": "39537ae9",
   "metadata": {},
   "outputs": [
    {
     "name": "stdout",
     "output_type": "stream",
     "text": [
      "total features: 14\n",
      "selected features: 11\n",
      "features with coefficients shrank to zero: 620\n"
     ]
    }
   ],
   "source": [
    "selected_feat = X_train.columns[(sel_.get_support())]\n",
    "print('total features: {}'.format((X_train.shape[1])))\n",
    "print('selected features: {}'.format(len(selected_feat)))\n",
    "print('features with coefficients shrank to zero: {}'.format(\n",
    "np.sum(sel_.estimator_.coef_ == 0)))"
   ]
  },
  {
   "cell_type": "code",
   "execution_count": 125,
   "id": "4c41cc18",
   "metadata": {},
   "outputs": [
    {
     "data": {
      "text/plain": [
       "Index(['wheel_base', 'length', 'width', 'heights', 'curb_weight',\n",
       "       'engine_size', 'comprassion', 'horse_power', 'peak_rpm', 'city_mpg',\n",
       "       'highway_mpg'],\n",
       "      dtype='object')"
      ]
     },
     "execution_count": 125,
     "metadata": {},
     "output_type": "execute_result"
    }
   ],
   "source": [
    "selected_feat"
   ]
  },
  {
   "cell_type": "code",
   "execution_count": 126,
   "id": "8b1f970c",
   "metadata": {},
   "outputs": [
    {
     "name": "stderr",
     "output_type": "stream",
     "text": [
      "C:\\Users\\arjul\\AppData\\Local\\Temp\\ipykernel_12520\\1522224492.py:2: SettingWithCopyWarning: \n",
      "A value is trying to be set on a copy of a slice from a DataFrame.\n",
      "Try using .loc[row_indexer,col_indexer] = value instead\n",
      "\n",
      "See the caveats in the documentation: https://pandas.pydata.org/pandas-docs/stable/user_guide/indexing.html#returning-a-view-versus-a-copy\n",
      "  df4['price'] = df2['price']\n"
     ]
    }
   ],
   "source": [
    "df4 = df2[selected_feat]\n",
    "df4['price'] = df2['price']"
   ]
  },
  {
   "cell_type": "code",
   "execution_count": 127,
   "id": "91639bf6",
   "metadata": {},
   "outputs": [
    {
     "data": {
      "text/html": [
       "<div>\n",
       "<style scoped>\n",
       "    .dataframe tbody tr th:only-of-type {\n",
       "        vertical-align: middle;\n",
       "    }\n",
       "\n",
       "    .dataframe tbody tr th {\n",
       "        vertical-align: top;\n",
       "    }\n",
       "\n",
       "    .dataframe thead th {\n",
       "        text-align: right;\n",
       "    }\n",
       "</style>\n",
       "<table border=\"1\" class=\"dataframe\">\n",
       "  <thead>\n",
       "    <tr style=\"text-align: right;\">\n",
       "      <th></th>\n",
       "      <th>wheel_base</th>\n",
       "      <th>length</th>\n",
       "      <th>width</th>\n",
       "      <th>heights</th>\n",
       "      <th>curb_weight</th>\n",
       "      <th>engine_size</th>\n",
       "      <th>comprassion</th>\n",
       "      <th>horse_power</th>\n",
       "      <th>peak_rpm</th>\n",
       "      <th>city_mpg</th>\n",
       "      <th>highway_mpg</th>\n",
       "      <th>price</th>\n",
       "    </tr>\n",
       "  </thead>\n",
       "  <tbody>\n",
       "    <tr>\n",
       "      <th>0</th>\n",
       "      <td>88.6</td>\n",
       "      <td>168.8</td>\n",
       "      <td>64.1</td>\n",
       "      <td>48.8</td>\n",
       "      <td>2548.0</td>\n",
       "      <td>130.0</td>\n",
       "      <td>9.0</td>\n",
       "      <td>111.0</td>\n",
       "      <td>5000.0</td>\n",
       "      <td>21.0</td>\n",
       "      <td>27.0</td>\n",
       "      <td>13495.0</td>\n",
       "    </tr>\n",
       "    <tr>\n",
       "      <th>1</th>\n",
       "      <td>88.6</td>\n",
       "      <td>168.8</td>\n",
       "      <td>64.1</td>\n",
       "      <td>48.8</td>\n",
       "      <td>2548.0</td>\n",
       "      <td>130.0</td>\n",
       "      <td>9.0</td>\n",
       "      <td>111.0</td>\n",
       "      <td>5000.0</td>\n",
       "      <td>21.0</td>\n",
       "      <td>27.0</td>\n",
       "      <td>16500.0</td>\n",
       "    </tr>\n",
       "    <tr>\n",
       "      <th>2</th>\n",
       "      <td>94.5</td>\n",
       "      <td>171.2</td>\n",
       "      <td>65.5</td>\n",
       "      <td>52.4</td>\n",
       "      <td>2823.0</td>\n",
       "      <td>152.0</td>\n",
       "      <td>9.0</td>\n",
       "      <td>154.0</td>\n",
       "      <td>5000.0</td>\n",
       "      <td>19.0</td>\n",
       "      <td>26.0</td>\n",
       "      <td>16500.0</td>\n",
       "    </tr>\n",
       "    <tr>\n",
       "      <th>3</th>\n",
       "      <td>99.8</td>\n",
       "      <td>176.6</td>\n",
       "      <td>66.2</td>\n",
       "      <td>54.3</td>\n",
       "      <td>2337.0</td>\n",
       "      <td>109.0</td>\n",
       "      <td>10.0</td>\n",
       "      <td>102.0</td>\n",
       "      <td>5500.0</td>\n",
       "      <td>24.0</td>\n",
       "      <td>30.0</td>\n",
       "      <td>13950.0</td>\n",
       "    </tr>\n",
       "    <tr>\n",
       "      <th>4</th>\n",
       "      <td>99.4</td>\n",
       "      <td>176.6</td>\n",
       "      <td>66.4</td>\n",
       "      <td>54.3</td>\n",
       "      <td>2824.0</td>\n",
       "      <td>136.0</td>\n",
       "      <td>8.0</td>\n",
       "      <td>115.0</td>\n",
       "      <td>5500.0</td>\n",
       "      <td>18.0</td>\n",
       "      <td>22.0</td>\n",
       "      <td>17450.0</td>\n",
       "    </tr>\n",
       "  </tbody>\n",
       "</table>\n",
       "</div>"
      ],
      "text/plain": [
       "   wheel_base  length  width  heights  curb_weight  engine_size  comprassion  \\\n",
       "0        88.6   168.8   64.1     48.8       2548.0        130.0          9.0   \n",
       "1        88.6   168.8   64.1     48.8       2548.0        130.0          9.0   \n",
       "2        94.5   171.2   65.5     52.4       2823.0        152.0          9.0   \n",
       "3        99.8   176.6   66.2     54.3       2337.0        109.0         10.0   \n",
       "4        99.4   176.6   66.4     54.3       2824.0        136.0          8.0   \n",
       "\n",
       "   horse_power  peak_rpm  city_mpg  highway_mpg    price  \n",
       "0        111.0    5000.0      21.0         27.0  13495.0  \n",
       "1        111.0    5000.0      21.0         27.0  16500.0  \n",
       "2        154.0    5000.0      19.0         26.0  16500.0  \n",
       "3        102.0    5500.0      24.0         30.0  13950.0  \n",
       "4        115.0    5500.0      18.0         22.0  17450.0  "
      ]
     },
     "execution_count": 127,
     "metadata": {},
     "output_type": "execute_result"
    }
   ],
   "source": [
    "df4.head()"
   ]
  },
  {
   "cell_type": "code",
   "execution_count": 128,
   "id": "2d7de521",
   "metadata": {},
   "outputs": [],
   "source": [
    "x5 = df4.drop(['price'],axis =1)\n",
    "y5 = df4['price']"
   ]
  },
  {
   "cell_type": "code",
   "execution_count": 129,
   "id": "77faff79",
   "metadata": {
    "scrolled": true
   },
   "outputs": [
    {
     "name": "stdout",
     "output_type": "stream",
     "text": [
      "                                 OLS Regression Results                                \n",
      "=======================================================================================\n",
      "Dep. Variable:                  price   R-squared (uncentered):                   0.968\n",
      "Model:                            OLS   Adj. R-squared (uncentered):              0.965\n",
      "Method:                 Least Squares   F-statistic:                              332.1\n",
      "Date:                Thu, 10 Nov 2022   Prob (F-statistic):                    2.57e-85\n",
      "Time:                        01:11:54   Log-Likelihood:                         -1207.5\n",
      "No. Observations:                 133   AIC:                                      2437.\n",
      "Df Residuals:                     122   BIC:                                      2469.\n",
      "Df Model:                          11                                                  \n",
      "Covariance Type:            nonrobust                                                  \n",
      "===============================================================================\n",
      "                  coef    std err          t      P>|t|      [0.025      0.975]\n",
      "-------------------------------------------------------------------------------\n",
      "wheel_base    243.8590     94.093      2.592      0.011      57.592     430.126\n",
      "length        -55.9735     48.302     -1.159      0.249    -151.593      39.646\n",
      "width        -117.2598    163.450     -0.717      0.474    -440.825     206.305\n",
      "heights      -135.3857    109.919     -1.232      0.220    -352.982      82.211\n",
      "curb_weight     2.7953      1.561      1.790      0.076      -0.296       5.886\n",
      "engine_size   -20.0128     20.692     -0.967      0.335     -60.975      20.949\n",
      "comprassion  1831.7018    500.345      3.661      0.000     841.218    2822.185\n",
      "horse_power    50.5385     16.896      2.991      0.003      17.091      83.986\n",
      "peak_rpm       -0.7820      0.603     -1.296      0.197      -1.976       0.412\n",
      "city_mpg     -618.9931    200.889     -3.081      0.003   -1016.673    -221.314\n",
      "highway_mpg   187.6282    187.305      1.002      0.318    -183.160     558.417\n",
      "==============================================================================\n",
      "Omnibus:                       17.429   Durbin-Watson:                   0.979\n",
      "Prob(Omnibus):                  0.000   Jarque-Bera (JB):               24.530\n",
      "Skew:                           0.700   Prob(JB):                     4.71e-06\n",
      "Kurtosis:                       4.570   Cond. No.                     1.51e+04\n",
      "==============================================================================\n",
      "\n",
      "Notes:\n",
      "[1] R² is computed without centering (uncentered) since the model does not contain a constant.\n",
      "[2] Standard Errors assume that the covariance matrix of the errors is correctly specified.\n",
      "[3] The condition number is large, 1.51e+04. This might indicate that there are\n",
      "strong multicollinearity or other numerical problems.\n"
     ]
    }
   ],
   "source": [
    "ols4 = sm.OLS(y5, x5)\n",
    "model4_ols = ols4.fit()\n",
    "print(model4_ols.summary())"
   ]
  },
  {
   "cell_type": "code",
   "execution_count": 130,
   "id": "e8d6fa22",
   "metadata": {},
   "outputs": [],
   "source": [
    "X5_train, X5_test, Y5_train, Y5_test = train_test_split(x5,y5, test_size=0.4, random_state=0)"
   ]
  },
  {
   "cell_type": "code",
   "execution_count": 131,
   "id": "65f0981b",
   "metadata": {},
   "outputs": [
    {
     "data": {
      "text/html": [
       "<style>#sk-container-id-8 {color: black;background-color: white;}#sk-container-id-8 pre{padding: 0;}#sk-container-id-8 div.sk-toggleable {background-color: white;}#sk-container-id-8 label.sk-toggleable__label {cursor: pointer;display: block;width: 100%;margin-bottom: 0;padding: 0.3em;box-sizing: border-box;text-align: center;}#sk-container-id-8 label.sk-toggleable__label-arrow:before {content: \"▸\";float: left;margin-right: 0.25em;color: #696969;}#sk-container-id-8 label.sk-toggleable__label-arrow:hover:before {color: black;}#sk-container-id-8 div.sk-estimator:hover label.sk-toggleable__label-arrow:before {color: black;}#sk-container-id-8 div.sk-toggleable__content {max-height: 0;max-width: 0;overflow: hidden;text-align: left;background-color: #f0f8ff;}#sk-container-id-8 div.sk-toggleable__content pre {margin: 0.2em;color: black;border-radius: 0.25em;background-color: #f0f8ff;}#sk-container-id-8 input.sk-toggleable__control:checked~div.sk-toggleable__content {max-height: 200px;max-width: 100%;overflow: auto;}#sk-container-id-8 input.sk-toggleable__control:checked~label.sk-toggleable__label-arrow:before {content: \"▾\";}#sk-container-id-8 div.sk-estimator input.sk-toggleable__control:checked~label.sk-toggleable__label {background-color: #d4ebff;}#sk-container-id-8 div.sk-label input.sk-toggleable__control:checked~label.sk-toggleable__label {background-color: #d4ebff;}#sk-container-id-8 input.sk-hidden--visually {border: 0;clip: rect(1px 1px 1px 1px);clip: rect(1px, 1px, 1px, 1px);height: 1px;margin: -1px;overflow: hidden;padding: 0;position: absolute;width: 1px;}#sk-container-id-8 div.sk-estimator {font-family: monospace;background-color: #f0f8ff;border: 1px dotted black;border-radius: 0.25em;box-sizing: border-box;margin-bottom: 0.5em;}#sk-container-id-8 div.sk-estimator:hover {background-color: #d4ebff;}#sk-container-id-8 div.sk-parallel-item::after {content: \"\";width: 100%;border-bottom: 1px solid gray;flex-grow: 1;}#sk-container-id-8 div.sk-label:hover label.sk-toggleable__label {background-color: #d4ebff;}#sk-container-id-8 div.sk-serial::before {content: \"\";position: absolute;border-left: 1px solid gray;box-sizing: border-box;top: 0;bottom: 0;left: 50%;z-index: 0;}#sk-container-id-8 div.sk-serial {display: flex;flex-direction: column;align-items: center;background-color: white;padding-right: 0.2em;padding-left: 0.2em;position: relative;}#sk-container-id-8 div.sk-item {position: relative;z-index: 1;}#sk-container-id-8 div.sk-parallel {display: flex;align-items: stretch;justify-content: center;background-color: white;position: relative;}#sk-container-id-8 div.sk-item::before, #sk-container-id-8 div.sk-parallel-item::before {content: \"\";position: absolute;border-left: 1px solid gray;box-sizing: border-box;top: 0;bottom: 0;left: 50%;z-index: -1;}#sk-container-id-8 div.sk-parallel-item {display: flex;flex-direction: column;z-index: 1;position: relative;background-color: white;}#sk-container-id-8 div.sk-parallel-item:first-child::after {align-self: flex-end;width: 50%;}#sk-container-id-8 div.sk-parallel-item:last-child::after {align-self: flex-start;width: 50%;}#sk-container-id-8 div.sk-parallel-item:only-child::after {width: 0;}#sk-container-id-8 div.sk-dashed-wrapped {border: 1px dashed gray;margin: 0 0.4em 0.5em 0.4em;box-sizing: border-box;padding-bottom: 0.4em;background-color: white;}#sk-container-id-8 div.sk-label label {font-family: monospace;font-weight: bold;display: inline-block;line-height: 1.2em;}#sk-container-id-8 div.sk-label-container {text-align: center;}#sk-container-id-8 div.sk-container {/* jupyter's `normalize.less` sets `[hidden] { display: none; }` but bootstrap.min.css set `[hidden] { display: none !important; }` so we also need the `!important` here to be able to override the default hidden behavior on the sphinx rendered scikit-learn.org. See: https://github.com/scikit-learn/scikit-learn/issues/21755 */display: inline-block !important;position: relative;}#sk-container-id-8 div.sk-text-repr-fallback {display: none;}</style><div id=\"sk-container-id-8\" class=\"sk-top-container\"><div class=\"sk-text-repr-fallback\"><pre>LinearRegression()</pre><b>In a Jupyter environment, please rerun this cell to show the HTML representation or trust the notebook. <br />On GitHub, the HTML representation is unable to render, please try loading this page with nbviewer.org.</b></div><div class=\"sk-container\" hidden><div class=\"sk-item\"><div class=\"sk-estimator sk-toggleable\"><input class=\"sk-toggleable__control sk-hidden--visually\" id=\"sk-estimator-id-8\" type=\"checkbox\" checked><label for=\"sk-estimator-id-8\" class=\"sk-toggleable__label sk-toggleable__label-arrow\">LinearRegression</label><div class=\"sk-toggleable__content\"><pre>LinearRegression()</pre></div></div></div></div></div>"
      ],
      "text/plain": [
       "LinearRegression()"
      ]
     },
     "execution_count": 131,
     "metadata": {},
     "output_type": "execute_result"
    }
   ],
   "source": [
    "model5 = LinearRegression()\n",
    "model5.fit(X5_train,Y5_train)"
   ]
  },
  {
   "cell_type": "code",
   "execution_count": 132,
   "id": "82808d5e",
   "metadata": {},
   "outputs": [],
   "source": [
    "y_predict5 = model5.predict(X5_test)"
   ]
  },
  {
   "cell_type": "code",
   "execution_count": 133,
   "id": "1ff7b858",
   "metadata": {},
   "outputs": [
    {
     "name": "stdout",
     "output_type": "stream",
     "text": [
      "Mean absolute error = 1781.34\n",
      "Mean squared error = 6307584.96\n",
      "Median absolute error = 1298.51\n",
      "variance score = 0.69\n",
      "R2 score = 0.67\n",
      "Adjusted R2 score = 0.7471969078130218\n",
      "Intercept: -8056.680937648285\n"
     ]
    }
   ],
   "source": [
    "MAE_3 = print(\"Mean absolute error =\", round(met.mean_absolute_error(Y5_test,y_predict5), 2)) \n",
    "MSE_3 = print(\"Mean squared error =\", round(met.mean_squared_error(Y5_test, y_predict5), 2)) \n",
    "MeAE_3 = print(\"Median absolute error =\", round(met.median_absolute_error(Y5_test, y_predict5), 2)) \n",
    "VS_3 = print(\"variance score =\", round(met.explained_variance_score(Y5_test,y_predict5), 2)) \n",
    "R2_3 = print(\"R2 score =\", round(met.r2_score(Y5_test, y_predict5), 2))\n",
    "AR2_3 = print(\"Adjusted R2 score =\",1 - (1-model5.score(x5,y5))*(len(y5)-1)/(len(y5)-x5.shape[1]-1))\n",
    "Inter_3 = print('Intercept:', model1.intercept_)"
   ]
  },
  {
   "cell_type": "code",
   "execution_count": 134,
   "id": "03278711",
   "metadata": {},
   "outputs": [],
   "source": [
    "MAE_3 = round(met.mean_absolute_error(Y5_test,y_predict5), 2)\n",
    "MSE_3 = round(met.mean_squared_error(Y5_test, y_predict5), 2)\n",
    "MeAE_3 = round(met.median_absolute_error(Y5_test, y_predict5), 2)\n",
    "VS_3 = round(met.explained_variance_score(Y5_test,y_predict5), 2)\n",
    "R2_3 = round(met.r2_score(Y5_test, y_predict5), 2)\n",
    "AR2_3 = 1 - (1-model5.score(x5,y5))*(len(y5)-1)/(len(y5)-x5.shape[1]-1)\n",
    "Inter_3 = model1.intercept_"
   ]
  },
  {
   "cell_type": "markdown",
   "id": "219bb6ad-a428-4270-8226-e438c03f6b42",
   "metadata": {
    "tags": []
   },
   "source": [
    "### 2.4. Compare your results\n",
    "Compare your results from the three methods and also compare the coefficients to the full linear regression model (model1) from the previous homework."
   ]
  },
  {
   "cell_type": "code",
   "execution_count": 135,
   "id": "ef2fc672",
   "metadata": {},
   "outputs": [
    {
     "data": {
      "text/html": [
       "<div>\n",
       "<style scoped>\n",
       "    .dataframe tbody tr th:only-of-type {\n",
       "        vertical-align: middle;\n",
       "    }\n",
       "\n",
       "    .dataframe tbody tr th {\n",
       "        vertical-align: top;\n",
       "    }\n",
       "\n",
       "    .dataframe thead th {\n",
       "        text-align: right;\n",
       "    }\n",
       "</style>\n",
       "<table border=\"1\" class=\"dataframe\">\n",
       "  <thead>\n",
       "    <tr style=\"text-align: right;\">\n",
       "      <th></th>\n",
       "      <th>Mean absolute error</th>\n",
       "      <th>Mean squared error</th>\n",
       "      <th>Median absolute error</th>\n",
       "      <th>variance score</th>\n",
       "      <th>R2 score</th>\n",
       "      <th>Adjusted R2 score</th>\n",
       "      <th>Intercept</th>\n",
       "    </tr>\n",
       "  </thead>\n",
       "  <tbody>\n",
       "    <tr>\n",
       "      <th>Model-1</th>\n",
       "      <td>1555.42</td>\n",
       "      <td>4009966.49</td>\n",
       "      <td>1214.43</td>\n",
       "      <td>0.68</td>\n",
       "      <td>0.68</td>\n",
       "      <td>0.791414</td>\n",
       "      <td>-8056.680938</td>\n",
       "    </tr>\n",
       "    <tr>\n",
       "      <th>Filter method--&gt;Correlation method</th>\n",
       "      <td>1692.62</td>\n",
       "      <td>5354904.73</td>\n",
       "      <td>1323.95</td>\n",
       "      <td>0.71</td>\n",
       "      <td>0.71</td>\n",
       "      <td>0.731858</td>\n",
       "      <td>-24006.634748</td>\n",
       "    </tr>\n",
       "    <tr>\n",
       "      <th>Wrapper method--&gt;Forward Elimination</th>\n",
       "      <td>1424.26</td>\n",
       "      <td>3532266.46</td>\n",
       "      <td>1037.67</td>\n",
       "      <td>0.72</td>\n",
       "      <td>0.72</td>\n",
       "      <td>0.802850</td>\n",
       "      <td>6309.187253</td>\n",
       "    </tr>\n",
       "    <tr>\n",
       "      <th>Embedded method--&gt;Lasso regression</th>\n",
       "      <td>1781.34</td>\n",
       "      <td>6307584.96</td>\n",
       "      <td>1298.51</td>\n",
       "      <td>0.69</td>\n",
       "      <td>0.67</td>\n",
       "      <td>0.747197</td>\n",
       "      <td>-8056.680938</td>\n",
       "    </tr>\n",
       "  </tbody>\n",
       "</table>\n",
       "</div>"
      ],
      "text/plain": [
       "                                      Mean absolute error  Mean squared error  \\\n",
       "Model-1                                           1555.42          4009966.49   \n",
       "Filter method-->Correlation method                1692.62          5354904.73   \n",
       "Wrapper method-->Forward Elimination              1424.26          3532266.46   \n",
       "Embedded method-->Lasso regression                1781.34          6307584.96   \n",
       "\n",
       "                                      Median absolute error  variance score  \\\n",
       "Model-1                                             1214.43            0.68   \n",
       "Filter method-->Correlation method                  1323.95            0.71   \n",
       "Wrapper method-->Forward Elimination                1037.67            0.72   \n",
       "Embedded method-->Lasso regression                  1298.51            0.69   \n",
       "\n",
       "                                      R2 score  Adjusted R2 score  \\\n",
       "Model-1                                   0.68           0.791414   \n",
       "Filter method-->Correlation method        0.71           0.731858   \n",
       "Wrapper method-->Forward Elimination      0.72           0.802850   \n",
       "Embedded method-->Lasso regression        0.67           0.747197   \n",
       "\n",
       "                                         Intercept  \n",
       "Model-1                               -8056.680938  \n",
       "Filter method-->Correlation method   -24006.634748  \n",
       "Wrapper method-->Forward Elimination   6309.187253  \n",
       "Embedded method-->Lasso regression    -8056.680938  "
      ]
     },
     "execution_count": 135,
     "metadata": {},
     "output_type": "execute_result"
    }
   ],
   "source": [
    "from pandas import DataFrame\n",
    "MAE = [MAE_0,MAE_1,MAE_2,MAE_3]\n",
    "MSE = [MSE_0,MSE_1,MSE_2,MSE_3]\n",
    "MeAE = [MeAE_0,MeAE_1,MeAE_2,MeAE_3]\n",
    "VS = [VS_0,VS_1,VS_2,VS_3]\n",
    "R2 = [R2_0,R2_1,R2_2,R2_3]\n",
    "AR2 = [AR2_0,AR2_1,AR2_2,AR2_3]\n",
    "Inter = [Inter_0,Inter_1,Inter_2,Inter_3]\n",
    "\n",
    "col={'Mean absolute error':MAE,'Mean squared error':MSE,'Median absolute error':MeAE,'variance score':VS,'R2 score':R2,'Adjusted R2 score':AR2,'Intercept':Inter}\n",
    "models=['Model-1','Filter method-->Correlation method','Wrapper method-->Forward Elimination','Embedded method-->Lasso regression']\n",
    "df=DataFrame(data=col,index=models)\n",
    "df"
   ]
  },
  {
   "cell_type": "markdown",
   "id": "010a8ea5-95e7-4a45-bc4e-e1d599f7a091",
   "metadata": {},
   "source": [
    "# 3. Bonus Question"
   ]
  },
  {
   "cell_type": "markdown",
   "id": "a405e180-3b4d-43ea-a069-65529a00f7b5",
   "metadata": {
    "tags": []
   },
   "source": [
    "### 3.1. Feature reduction with PCA (bonus question)."
   ]
  },
  {
   "cell_type": "markdown",
   "id": "8a03d112",
   "metadata": {},
   "source": [
    "Reduce your features with PCA. Run a regression with the chosen number of PCA's, report your findings."
   ]
  },
  {
   "cell_type": "code",
   "execution_count": 136,
   "id": "2cff055c",
   "metadata": {},
   "outputs": [],
   "source": [
    "Xp_train,Xp_test,yP_train,yp_test = train_test_split(X,y,random_state=25)"
   ]
  },
  {
   "cell_type": "code",
   "execution_count": 137,
   "id": "5f750b04",
   "metadata": {},
   "outputs": [],
   "source": [
    "from sklearn.preprocessing import StandardScaler\n",
    "from sklearn import decomposition"
   ]
  },
  {
   "cell_type": "code",
   "execution_count": 138,
   "id": "3d247627",
   "metadata": {},
   "outputs": [],
   "source": [
    "ss = StandardScaler()"
   ]
  },
  {
   "cell_type": "code",
   "execution_count": 139,
   "id": "2100fde4",
   "metadata": {},
   "outputs": [],
   "source": [
    "Xp1_train = ss.fit_transform(Xp_train)\n"
   ]
  },
  {
   "cell_type": "code",
   "execution_count": 140,
   "id": "5b1b44b7",
   "metadata": {},
   "outputs": [],
   "source": [
    "Xp1_test = ss.transform(Xp_test)"
   ]
  },
  {
   "cell_type": "code",
   "execution_count": 141,
   "id": "0c61998d",
   "metadata": {},
   "outputs": [
    {
     "data": {
      "text/plain": [
       "array([[-0.74741966, -0.6550333 , -0.9890259 ,  0.31981664, -1.23525977,\n",
       "        -0.79978038, -0.47913178,  0.18215255,  0.76469837, -0.9481689 ,\n",
       "         0.01505319,  0.95774696,  0.93947139,  0.        ],\n",
       "       [-0.43432567,  0.00714682, -0.13441873, -1.00835287,  0.66889673,\n",
       "         0.04010471,  0.57328763, -0.14873006,  0.39799874, -0.2790436 ,\n",
       "        -0.52686167, -0.31131354, -0.46177407,  0.        ],\n",
       "       [-0.49694446, -0.5643237 , -0.62276569, -0.32284603, -0.85489518,\n",
       "        -0.76160378, -0.32878615, -1.2516721 ,  0.03129911, -0.91630579,\n",
       "        -1.06877654,  0.7764526 ,  0.93947139,  0.        ],\n",
       "       [-0.18385048,  0.0797145 , -0.13441873,  0.405505  , -0.28784857,\n",
       "         0.0782813 ,  0.19742355,  1.17480038, -0.88544996, -0.05600183,\n",
       "         0.01505319,  0.23256953,  0.41400434,  0.        ],\n",
       "       [ 1.00590668,  0.99588152,  1.3916655 , -0.7512878 ,  1.23360981,\n",
       "         2.02528763, -0.02809489,  0.51303516,  0.58134855,  1.9832372 ,\n",
       "         0.01505319, -1.03649097, -1.33755249,  0.        ],\n",
       "       [ 1.08939841,  0.18856603, -0.50067895,  2.59055806,  0.20452523,\n",
       "         0.15463449,  0.27259637,  1.11965328, -0.88544996, -0.34276982,\n",
       "        -0.52686167, -0.31131354, -0.28661839,  0.        ],\n",
       "       [-0.37170687, -0.0109951 , -0.01233199, -0.92266452, -0.10350009,\n",
       "        -0.30348465, -0.40395896,  1.11965328, -2.7189481 ,  0.54939726,\n",
       "         0.82792549, -0.4926079 , -0.28661839,  0.        ],\n",
       "       [ 0.65106683,  0.38812716, -0.37859221,  0.23412828, -0.12216829,\n",
       "        -0.37983784,  0.83639248, -2.52005545, -0.33540052,  0.07145061,\n",
       "         1.64079778, -0.4926079 , -0.46177407,  0.        ],\n",
       "       [-0.74741966, -0.6550333 , -0.9890259 ,  0.31981664, -1.18858927,\n",
       "        -0.79978038, -0.47913178,  0.18215255,  0.76469837, -0.9481689 ,\n",
       "         0.01505319,  0.95774696,  0.93947139,  0.        ],\n",
       "       [-0.74741966, -0.34662065, -0.86693916, -0.49422274, -0.64954497,\n",
       "        -0.76160378, -0.32878615, -1.2516721 ,  0.03129911, -0.91630579,\n",
       "        -1.06877654,  0.59515824,  0.41400434,  0.        ],\n",
       "       [-0.37170687, -0.0109951 , -0.01233199, -0.92266452, -0.09883304,\n",
       "         0.15463449,  0.27259637,  1.11965328, -0.88544996, -0.34276982,\n",
       "        -0.52686167, -0.13001919,  0.06369298,  0.        ],\n",
       "       [-0.329961  , -1.39885207, -0.92798253,  1.9478954 , -0.98790611,\n",
       "        -0.99066335, -1.34361915,  0.84391777,  0.39799874, -0.72512714,\n",
       "         2.18271265,  0.7764526 ,  0.41400434,  0.        ],\n",
       "       [ 0.15011644,  0.47883677,  0.65914507, -0.02293678, -0.14550354,\n",
       "         0.15463449,  0.422942  ,  0.73362357, -0.70210015, -0.47022226,\n",
       "        -1.06877654,  0.05127517,  0.06369298,  0.        ],\n",
       "       [-1.03964071, -1.21743286, -0.74485242,  0.14843993, -1.30059848,\n",
       "        -1.02883995, -0.93016867, -0.58990688,  0.03129911, -0.98003201,\n",
       "        -0.52686167,  0.7764526 , -0.11146271,  0.        ],\n",
       "       [-0.91440312, -1.38071015, -0.9890259 , -1.26541794, -1.23525977,\n",
       "        -1.06701654, -1.15568711, -0.14873006,  0.76469837, -0.98003201,\n",
       "         0.82792549,  2.04551311,  1.64009412,  0.        ],\n",
       "       [-2.39638133, -2.53272215, -0.92798253, -1.26541794, -1.46627876,\n",
       "        -0.99066335, -1.38120556,  0.84391777,  0.39799874, -0.72512714,\n",
       "         2.18271265,  0.95774696,  1.11462707,  0.        ],\n",
       "       [ 0.21273524,  1.2770813 ,  0.65914507,  1.00532348,  0.49154882,\n",
       "         0.11645789,  0.98673811, -1.03108369,  0.59968353,  0.3582186 ,\n",
       "         0.15053191, -0.85519662, -0.63692976,  0.        ],\n",
       "       [ 0.15011644,  0.47883677,  0.65914507, -0.02293678, -0.14550354,\n",
       "         0.15463449,  0.422942  ,  0.73362357, -0.70210015, -0.47022226,\n",
       "        -1.06877654,  0.05127517,  0.06369298,  0.        ],\n",
       "       [-0.91440312, -1.38071015, -0.9890259 , -1.26541794, -0.7452195 ,\n",
       "        -0.76160378, -0.93016867,  0.73362357, -2.53559829,  0.10331372,\n",
       "         0.82792549, -0.31131354, -0.28661839,  0.        ],\n",
       "       [-0.49694446, -0.5643237 , -0.62276569, -0.40853438, -0.75922065,\n",
       "        -0.76160378, -0.32878615, -1.2516721 ,  0.03129911, -0.91630579,\n",
       "        -1.06877654,  0.41386389,  0.41400434,  0.        ],\n",
       "       [ 0.15011644,  0.47883677,  0.65914507,  0.74825842, -0.08716541,\n",
       "         0.15463449,  0.422942  ,  0.73362357, -0.70210015, -0.47022226,\n",
       "        -1.06877654,  0.05127517,  0.06369298,  0.        ],\n",
       "       [ 0.27535404,  0.36998524,  0.5981017 ,  0.23412828,  0.87891399,\n",
       "         0.68910682, -0.32878615,  0.78877067, -1.80219903,  0.51753415,\n",
       "         0.82792549, -1.39907969, -1.68786385,  0.        ],\n",
       "       [ 1.08939841,  0.18856603, -0.50067895,  2.59055806,  0.20452523,\n",
       "         0.15463449,  0.23500996,  1.11965328, -0.88544996, -0.34276982,\n",
       "        -0.52686167, -0.31131354, -0.28661839,  0.        ],\n",
       "       [ 0.48408336,  1.09566209,  0.65914507,  0.57688171,  1.42962592,\n",
       "         2.40705358,  0.57328763,  0.07185834,  0.03129911,  1.69646921,\n",
       "         0.01505319, -1.21778533, -1.1623968 ,  0.        ],\n",
       "       [-0.37170687,  0.04343066, -0.01233199, -1.86523643, -0.27851447,\n",
       "         0.15463449,  0.27259637,  1.11965328, -0.88544996, -0.34276982,\n",
       "        -0.52686167, -0.13001919,  0.06369298,  0.        ],\n",
       "       [-0.329961  , -0.45547217, -0.13441873, -0.19431349, -0.36952195,\n",
       "        -0.30348465, -0.47913178,  1.78141851,  0.03129911, -0.40649604,\n",
       "         1.64079778,  0.23256953,  0.23884866,  0.        ],\n",
       "       [-0.91440312, -2.04289027, -0.86693916, -0.49422274, -1.18392222,\n",
       "        -0.99066335, -1.38120556,  0.84391777,  0.39799874, -0.72512714,\n",
       "         2.18271265,  0.7764526 ,  0.41400434,  0.        ],\n",
       "       [-0.74741966, -0.21055624, -0.9890259 , -0.10862514, -0.95757028,\n",
       "        -0.79978038, -0.47913178,  0.18215255,  0.76469837, -0.9481689 ,\n",
       "         0.01505319,  0.95774696,  0.93947139,  0.        ],\n",
       "       [ 0.90154202,  0.27927563,  0.65914507,  0.06275157, -0.07783131,\n",
       "         0.15463449,  0.12225074,  1.5608301 , -0.51875033, -0.21531738,\n",
       "        -2.69452113,  0.23256953,  0.06369298,  0.        ],\n",
       "       [-1.97892268, -0.33754968, -0.80589579, -2.12230149,  0.23486105,\n",
       "         0.46004725,  0.72363326, -3.18182067,  0.03129911,  0.39008171,\n",
       "        -0.52686167, -0.85519662, -0.81208544,  0.        ],\n",
       "       [ 0.65106683,  0.38812716, -0.37859221,  0.23412828,  0.61289212,\n",
       "         1.75805147,  0.12225074, -0.36931847,  0.03129911,  0.70871281,\n",
       "        -2.55904242, -0.85519662, -0.63692976,  0.        ],\n",
       "       [-0.329961  , -0.82738156, -0.86693916,  0.31981664, -1.02057546,\n",
       "        -0.99066335, -1.38120556,  0.84391777,  0.39799874, -0.72512714,\n",
       "         2.18271265,  0.7764526 ,  0.41400434,  0.        ],\n",
       "       [-0.74741966, -1.19929094, -0.74485242,  0.7911026 , -0.45119533,\n",
       "        -0.34166124, -0.32878615,  0.78877067, -0.88544996, -0.2790436 ,\n",
       "         0.82792549, -0.31131354, -0.46177407,  0.        ],\n",
       "       [ 0.06662471,  0.3337014 ,  0.10975474, -0.7512878 ,  0.20685875,\n",
       "         1.07087276,  1.28742937,  1.34024169,  0.58134855,  0.54939726,\n",
       "        -1.06877654, -0.31131354, -0.28661839,  0.        ]])"
      ]
     },
     "execution_count": 141,
     "metadata": {},
     "output_type": "execute_result"
    }
   ],
   "source": [
    "Xp1_test"
   ]
  },
  {
   "cell_type": "code",
   "execution_count": 142,
   "id": "bac170bf",
   "metadata": {},
   "outputs": [],
   "source": [
    "pca_cmp = decomposition.PCA(n_components=5)"
   ]
  },
  {
   "cell_type": "code",
   "execution_count": 143,
   "id": "a667b768",
   "metadata": {},
   "outputs": [],
   "source": [
    "X_p = pca_cmp.fit_transform(Xp1_train)"
   ]
  },
  {
   "cell_type": "code",
   "execution_count": 144,
   "id": "aceb6418",
   "metadata": {},
   "outputs": [],
   "source": [
    "X_t_p = pca_cmp.transform(Xp1_test)"
   ]
  },
  {
   "cell_type": "code",
   "execution_count": 145,
   "id": "c3e044a9",
   "metadata": {
    "scrolled": false
   },
   "outputs": [
    {
     "data": {
      "text/plain": [
       "(99, 5)"
      ]
     },
     "execution_count": 145,
     "metadata": {},
     "output_type": "execute_result"
    }
   ],
   "source": [
    "X_p.shape"
   ]
  },
  {
   "cell_type": "code",
   "execution_count": 146,
   "id": "eca57253",
   "metadata": {},
   "outputs": [
    {
     "data": {
      "text/plain": [
       "(99, 14)"
      ]
     },
     "execution_count": 146,
     "metadata": {},
     "output_type": "execute_result"
    }
   ],
   "source": [
    "Xp1_train.shape"
   ]
  },
  {
   "cell_type": "code",
   "execution_count": 147,
   "id": "af71e2cc",
   "metadata": {},
   "outputs": [
    {
     "data": {
      "text/html": [
       "<style>#sk-container-id-9 {color: black;background-color: white;}#sk-container-id-9 pre{padding: 0;}#sk-container-id-9 div.sk-toggleable {background-color: white;}#sk-container-id-9 label.sk-toggleable__label {cursor: pointer;display: block;width: 100%;margin-bottom: 0;padding: 0.3em;box-sizing: border-box;text-align: center;}#sk-container-id-9 label.sk-toggleable__label-arrow:before {content: \"▸\";float: left;margin-right: 0.25em;color: #696969;}#sk-container-id-9 label.sk-toggleable__label-arrow:hover:before {color: black;}#sk-container-id-9 div.sk-estimator:hover label.sk-toggleable__label-arrow:before {color: black;}#sk-container-id-9 div.sk-toggleable__content {max-height: 0;max-width: 0;overflow: hidden;text-align: left;background-color: #f0f8ff;}#sk-container-id-9 div.sk-toggleable__content pre {margin: 0.2em;color: black;border-radius: 0.25em;background-color: #f0f8ff;}#sk-container-id-9 input.sk-toggleable__control:checked~div.sk-toggleable__content {max-height: 200px;max-width: 100%;overflow: auto;}#sk-container-id-9 input.sk-toggleable__control:checked~label.sk-toggleable__label-arrow:before {content: \"▾\";}#sk-container-id-9 div.sk-estimator input.sk-toggleable__control:checked~label.sk-toggleable__label {background-color: #d4ebff;}#sk-container-id-9 div.sk-label input.sk-toggleable__control:checked~label.sk-toggleable__label {background-color: #d4ebff;}#sk-container-id-9 input.sk-hidden--visually {border: 0;clip: rect(1px 1px 1px 1px);clip: rect(1px, 1px, 1px, 1px);height: 1px;margin: -1px;overflow: hidden;padding: 0;position: absolute;width: 1px;}#sk-container-id-9 div.sk-estimator {font-family: monospace;background-color: #f0f8ff;border: 1px dotted black;border-radius: 0.25em;box-sizing: border-box;margin-bottom: 0.5em;}#sk-container-id-9 div.sk-estimator:hover {background-color: #d4ebff;}#sk-container-id-9 div.sk-parallel-item::after {content: \"\";width: 100%;border-bottom: 1px solid gray;flex-grow: 1;}#sk-container-id-9 div.sk-label:hover label.sk-toggleable__label {background-color: #d4ebff;}#sk-container-id-9 div.sk-serial::before {content: \"\";position: absolute;border-left: 1px solid gray;box-sizing: border-box;top: 0;bottom: 0;left: 50%;z-index: 0;}#sk-container-id-9 div.sk-serial {display: flex;flex-direction: column;align-items: center;background-color: white;padding-right: 0.2em;padding-left: 0.2em;position: relative;}#sk-container-id-9 div.sk-item {position: relative;z-index: 1;}#sk-container-id-9 div.sk-parallel {display: flex;align-items: stretch;justify-content: center;background-color: white;position: relative;}#sk-container-id-9 div.sk-item::before, #sk-container-id-9 div.sk-parallel-item::before {content: \"\";position: absolute;border-left: 1px solid gray;box-sizing: border-box;top: 0;bottom: 0;left: 50%;z-index: -1;}#sk-container-id-9 div.sk-parallel-item {display: flex;flex-direction: column;z-index: 1;position: relative;background-color: white;}#sk-container-id-9 div.sk-parallel-item:first-child::after {align-self: flex-end;width: 50%;}#sk-container-id-9 div.sk-parallel-item:last-child::after {align-self: flex-start;width: 50%;}#sk-container-id-9 div.sk-parallel-item:only-child::after {width: 0;}#sk-container-id-9 div.sk-dashed-wrapped {border: 1px dashed gray;margin: 0 0.4em 0.5em 0.4em;box-sizing: border-box;padding-bottom: 0.4em;background-color: white;}#sk-container-id-9 div.sk-label label {font-family: monospace;font-weight: bold;display: inline-block;line-height: 1.2em;}#sk-container-id-9 div.sk-label-container {text-align: center;}#sk-container-id-9 div.sk-container {/* jupyter's `normalize.less` sets `[hidden] { display: none; }` but bootstrap.min.css set `[hidden] { display: none !important; }` so we also need the `!important` here to be able to override the default hidden behavior on the sphinx rendered scikit-learn.org. See: https://github.com/scikit-learn/scikit-learn/issues/21755 */display: inline-block !important;position: relative;}#sk-container-id-9 div.sk-text-repr-fallback {display: none;}</style><div id=\"sk-container-id-9\" class=\"sk-top-container\"><div class=\"sk-text-repr-fallback\"><pre>LinearRegression()</pre><b>In a Jupyter environment, please rerun this cell to show the HTML representation or trust the notebook. <br />On GitHub, the HTML representation is unable to render, please try loading this page with nbviewer.org.</b></div><div class=\"sk-container\" hidden><div class=\"sk-item\"><div class=\"sk-estimator sk-toggleable\"><input class=\"sk-toggleable__control sk-hidden--visually\" id=\"sk-estimator-id-9\" type=\"checkbox\" checked><label for=\"sk-estimator-id-9\" class=\"sk-toggleable__label sk-toggleable__label-arrow\">LinearRegression</label><div class=\"sk-toggleable__content\"><pre>LinearRegression()</pre></div></div></div></div></div>"
      ],
      "text/plain": [
       "LinearRegression()"
      ]
     },
     "execution_count": 147,
     "metadata": {},
     "output_type": "execute_result"
    }
   ],
   "source": [
    "model_pca = LinearRegression()\n",
    "model_pca.fit(X_p,yP_train)"
   ]
  },
  {
   "cell_type": "code",
   "execution_count": 148,
   "id": "85b844e8",
   "metadata": {},
   "outputs": [
    {
     "data": {
      "text/plain": [
       "array([ 6793.02011968, 12710.82808602,  8770.40427971,  9446.60732578,\n",
       "       17526.8428626 ,  9650.95802507, 10386.41922442, 14328.51395479,\n",
       "        6822.66125794,  9285.74046216, 10306.86522825,  5643.46109603,\n",
       "       10735.86125742,  7397.02007714,  5694.87711228,  5267.34137126,\n",
       "       14942.80954935, 10735.86125742,  8335.68064784,  9373.73332234,\n",
       "       10518.22001547, 13699.70318694,  9625.17115383, 17596.42208081,\n",
       "       10521.13107349,  8262.03917077,  6056.69982723,  7250.47522527,\n",
       "        9826.64274802, 16279.24697384, 14546.34584666,  6343.09583174,\n",
       "        8833.5344144 , 13118.95614962])"
      ]
     },
     "execution_count": 148,
     "metadata": {},
     "output_type": "execute_result"
    }
   ],
   "source": [
    "pred = model_pca.predict(X_t_p)\n",
    "pred"
   ]
  },
  {
   "cell_type": "code",
   "execution_count": 149,
   "id": "59566d01",
   "metadata": {},
   "outputs": [
    {
     "name": "stdout",
     "output_type": "stream",
     "text": [
      "Mean absolute error = 1638.62\n",
      "Mean squared error = 4548204.55\n",
      "Median absolute error = 1407.7\n",
      "variance score = 0.65\n",
      "R2 score = 0.64\n",
      "Adjusted R2 score = 0.7905976008983329\n",
      "Intercept: 11257.141414141413\n"
     ]
    }
   ],
   "source": [
    "MAE_p = print(\"Mean absolute error =\", round(met.mean_absolute_error(yp_test,pred), 2)) \n",
    "MSE_p = print(\"Mean squared error =\", round(met.mean_squared_error(yp_test, pred), 2)) \n",
    "MeAE_p = print(\"Median absolute error =\", round(met.median_absolute_error(yp_test, pred), 2)) \n",
    "VS_p = print(\"variance score =\", round(met.explained_variance_score(yp_test,pred), 2)) \n",
    "R2_p = print(\"R2 score =\", round(met.r2_score(yp_test, pred), 2))\n",
    "AR2_p = print(\"Adjusted R2 score =\",1 - (1-model_pca.score(X_p,yP_train))*(len(yP_train)-1)/(len(yP_train)-X.shape[1]-1))\n",
    "Inter_p = print('Intercept:', model_pca.intercept_)"
   ]
  },
  {
   "cell_type": "code",
   "execution_count": 150,
   "id": "bbb5a2cb",
   "metadata": {},
   "outputs": [],
   "source": [
    "MAE_p =  round(met.mean_absolute_error(yp_test,pred), 2)\n",
    "MSE_p =round(met.mean_squared_error(yp_test, pred), 2)\n",
    "MeAE_p = round(met.median_absolute_error(yp_test, pred), 2)\n",
    "VS_p = round(met.explained_variance_score(yp_test,pred), 2)\n",
    "R2_p = round(met.r2_score(yp_test, pred), 2)\n",
    "AR2_p = 1 - (1-model_pca.score(X_p,yP_train))*(len(yP_train)-1)/(len(yP_train)-X.shape[1]-1)\n",
    "Inter_p = model_pca.intercept_"
   ]
  },
  {
   "cell_type": "markdown",
   "id": "bf89de9b-a55c-4808-b0c2-c44dd9816343",
   "metadata": {},
   "source": [
    "### 3.2. Compare your results\n",
    "Compare the result of PCA with the Feature Selection techniques. What are the advantages and drawbacks of PCA vs. individual Feature Selection?"
   ]
  },
  {
   "cell_type": "code",
   "execution_count": 151,
   "id": "770cdd54",
   "metadata": {},
   "outputs": [
    {
     "data": {
      "text/html": [
       "<div>\n",
       "<style scoped>\n",
       "    .dataframe tbody tr th:only-of-type {\n",
       "        vertical-align: middle;\n",
       "    }\n",
       "\n",
       "    .dataframe tbody tr th {\n",
       "        vertical-align: top;\n",
       "    }\n",
       "\n",
       "    .dataframe thead th {\n",
       "        text-align: right;\n",
       "    }\n",
       "</style>\n",
       "<table border=\"1\" class=\"dataframe\">\n",
       "  <thead>\n",
       "    <tr style=\"text-align: right;\">\n",
       "      <th></th>\n",
       "      <th>Mean absolute error</th>\n",
       "      <th>Mean squared error</th>\n",
       "      <th>Median absolute error</th>\n",
       "      <th>variance score</th>\n",
       "      <th>R2 score</th>\n",
       "      <th>Adjusted R2 score</th>\n",
       "      <th>Intercept</th>\n",
       "    </tr>\n",
       "  </thead>\n",
       "  <tbody>\n",
       "    <tr>\n",
       "      <th>Model-1</th>\n",
       "      <td>1555.42</td>\n",
       "      <td>4009966.49</td>\n",
       "      <td>1214.43</td>\n",
       "      <td>0.68</td>\n",
       "      <td>0.68</td>\n",
       "      <td>0.791414</td>\n",
       "      <td>-8056.680938</td>\n",
       "    </tr>\n",
       "    <tr>\n",
       "      <th>Filter method--&gt;Correlation method</th>\n",
       "      <td>1692.62</td>\n",
       "      <td>5354904.73</td>\n",
       "      <td>1323.95</td>\n",
       "      <td>0.71</td>\n",
       "      <td>0.71</td>\n",
       "      <td>0.731858</td>\n",
       "      <td>-24006.634748</td>\n",
       "    </tr>\n",
       "    <tr>\n",
       "      <th>Wrapper method--&gt;Forward Elimination</th>\n",
       "      <td>1424.26</td>\n",
       "      <td>3532266.46</td>\n",
       "      <td>1037.67</td>\n",
       "      <td>0.72</td>\n",
       "      <td>0.72</td>\n",
       "      <td>0.802850</td>\n",
       "      <td>6309.187253</td>\n",
       "    </tr>\n",
       "    <tr>\n",
       "      <th>Embedded method--&gt;Lasso regression</th>\n",
       "      <td>1781.34</td>\n",
       "      <td>6307584.96</td>\n",
       "      <td>1298.51</td>\n",
       "      <td>0.69</td>\n",
       "      <td>0.67</td>\n",
       "      <td>0.747197</td>\n",
       "      <td>-8056.680938</td>\n",
       "    </tr>\n",
       "    <tr>\n",
       "      <th>PCA Model</th>\n",
       "      <td>1638.62</td>\n",
       "      <td>4548204.55</td>\n",
       "      <td>1407.70</td>\n",
       "      <td>0.65</td>\n",
       "      <td>0.64</td>\n",
       "      <td>0.790598</td>\n",
       "      <td>11257.141414</td>\n",
       "    </tr>\n",
       "  </tbody>\n",
       "</table>\n",
       "</div>"
      ],
      "text/plain": [
       "                                      Mean absolute error  Mean squared error  \\\n",
       "Model-1                                           1555.42          4009966.49   \n",
       "Filter method-->Correlation method                1692.62          5354904.73   \n",
       "Wrapper method-->Forward Elimination              1424.26          3532266.46   \n",
       "Embedded method-->Lasso regression                1781.34          6307584.96   \n",
       "PCA Model                                         1638.62          4548204.55   \n",
       "\n",
       "                                      Median absolute error  variance score  \\\n",
       "Model-1                                             1214.43            0.68   \n",
       "Filter method-->Correlation method                  1323.95            0.71   \n",
       "Wrapper method-->Forward Elimination                1037.67            0.72   \n",
       "Embedded method-->Lasso regression                  1298.51            0.69   \n",
       "PCA Model                                           1407.70            0.65   \n",
       "\n",
       "                                      R2 score  Adjusted R2 score  \\\n",
       "Model-1                                   0.68           0.791414   \n",
       "Filter method-->Correlation method        0.71           0.731858   \n",
       "Wrapper method-->Forward Elimination      0.72           0.802850   \n",
       "Embedded method-->Lasso regression        0.67           0.747197   \n",
       "PCA Model                                 0.64           0.790598   \n",
       "\n",
       "                                         Intercept  \n",
       "Model-1                               -8056.680938  \n",
       "Filter method-->Correlation method   -24006.634748  \n",
       "Wrapper method-->Forward Elimination   6309.187253  \n",
       "Embedded method-->Lasso regression    -8056.680938  \n",
       "PCA Model                             11257.141414  "
      ]
     },
     "execution_count": 151,
     "metadata": {},
     "output_type": "execute_result"
    }
   ],
   "source": [
    "MAE = [MAE_0,MAE_1,MAE_2,MAE_3,MAE_p]\n",
    "MSE = [MSE_0,MSE_1,MSE_2,MSE_3,MSE_p]\n",
    "MeAE = [MeAE_0,MeAE_1,MeAE_2,MeAE_3,MeAE_p]\n",
    "VS = [VS_0,VS_1,VS_2,VS_3,VS_p]\n",
    "R2 = [R2_0,R2_1,R2_2,R2_3,R2_p]\n",
    "AR2 = [AR2_0,AR2_1,AR2_2,AR2_3,AR2_p]\n",
    "Inter = [Inter_0,Inter_1,Inter_2,Inter_3,Inter_p]\n",
    "\n",
    "col={'Mean absolute error':MAE,'Mean squared error':MSE,'Median absolute error':MeAE,'variance score':VS,'R2 score':R2,'Adjusted R2 score':AR2,'Intercept':Inter}\n",
    "models=['Model-1','Filter method-->Correlation method','Wrapper method-->Forward Elimination','Embedded method-->Lasso regression','PCA Model']\n",
    "df=DataFrame(data=col,index=models)\n",
    "df"
   ]
  }
 ],
 "metadata": {
  "kernelspec": {
   "display_name": "Python 3 (ipykernel)",
   "language": "python",
   "name": "python3"
  },
  "language_info": {
   "codemirror_mode": {
    "name": "ipython",
    "version": 3
   },
   "file_extension": ".py",
   "mimetype": "text/x-python",
   "name": "python",
   "nbconvert_exporter": "python",
   "pygments_lexer": "ipython3",
   "version": "3.9.13"
  }
 },
 "nbformat": 4,
 "nbformat_minor": 5
}
