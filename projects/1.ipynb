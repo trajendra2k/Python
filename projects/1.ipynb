{
 "cells": [
  {
   "cell_type": "code",
   "execution_count": 11,
   "id": "4108c709",
   "metadata": {
    "id": "4108c709"
   },
   "outputs": [],
   "source": [
    "def generate_tables():\n",
    "    polynomial = 0x43 # 2**8 + 2**4 + 2**3 + 2**2 + 1 =  1 0001 1101 binary\n",
    "    s = 6\n",
    "    gf_table_size = 1 << s # 1<<8 = 0x100 = 256 = 2**8\n",
    "\n",
    "    # Initialize \n",
    "    gflog = gf_table_size * [0]\n",
    "    gfilog = gf_table_size * [0]\n",
    "\n",
    "    b = 1\n",
    "    for i in range(0, gf_table_size):\n",
    "        gflog[b] = i    # & 255\n",
    "        gfilog[i] = b   # & 255 \n",
    "        b <<= 1\n",
    "        # Following line is could also be expressed as \"if b >= gf_table_size\"\n",
    "        if b & gf_table_size:\n",
    "            b ^= polynomial\n",
    "\n",
    "    gflog[1] = 0; # Q for students: Why do you think is this needed? Try printing it out and see.\n",
    "    return (gflog, gfilog)\n",
    "\n",
    "def dump_table(caption, tab):\n",
    "    item = 0\n",
    "    print(\"--- {} ---\".format(caption))\n",
    "    for i in tab:\n",
    "        print(\"0x{:02x}, \".format(i), end=\"\")\n",
    "        item += 1\n",
    "        if item % 16 == 0:\n",
    "            item = 0\n",
    "            print()\n",
    "    print(\"\")\n",
    "\n",
    "def qdump(tab):\n",
    "    item = 0\n",
    "    for i in tab:\n",
    "        print(\"0x{:02x}, \".format(i), end=\"\")\n",
    "        item += 1\n",
    "        if item % 16 == 0:\n",
    "            item = 0\n",
    "            print()\n",
    "    print(\"\")\n",
    "\n",
    "(gflog, gfilog) = generate_tables()\n"
   ]
  },
  {
   "cell_type": "code",
   "execution_count": 2,
   "id": "baa3368a",
   "metadata": {
    "colab": {
     "base_uri": "https://localhost:8080/"
    },
    "id": "baa3368a",
    "outputId": "a377dae9-61c7-4785-b71f-489d1bde750d"
   },
   "outputs": [
    {
     "name": "stdout",
     "output_type": "stream",
     "text": [
      "--- gflog ---\n",
      "0x00, 0x00, 0x01, 0x19, 0x02, 0x32, 0x1a, 0x1e, 0x03, 0x37, 0x33, 0x13, 0x1b, 0x09, 0x1f, 0x0c, \n",
      "0x04, 0x25, 0x38, 0x2e, 0x34, 0x3c, 0x14, 0x22, 0x1c, 0x17, 0x0a, 0x11, 0x20, 0x2c, 0x0d, 0x0f, \n",
      "0x05, 0x28, 0x26, 0x27, 0x39, 0x29, 0x2f, 0x06, 0x35, 0x07, 0x3d, 0x30, 0x15, 0x2a, 0x23, 0x3a, \n",
      "0x1d, 0x31, 0x18, 0x3e, 0x0b, 0x08, 0x12, 0x36, 0x21, 0x3b, 0x2d, 0x24, 0x0e, 0x2b, 0x10, 0x16, \n",
      "\n",
      "--- gfilog ---\n",
      "0x01, 0x02, 0x04, 0x08, 0x10, 0x20, 0x27, 0x29, 0x35, 0x0d, 0x1a, 0x34, 0x0f, 0x1e, 0x3c, 0x1f, \n",
      "0x3e, 0x1b, 0x36, 0x0b, 0x16, 0x2c, 0x3f, 0x19, 0x32, 0x03, 0x06, 0x0c, 0x18, 0x30, 0x07, 0x0e, \n",
      "0x1c, 0x38, 0x17, 0x2e, 0x3b, 0x11, 0x22, 0x23, 0x21, 0x25, 0x2d, 0x3d, 0x1d, 0x3a, 0x13, 0x26, \n",
      "0x2b, 0x31, 0x05, 0x0a, 0x14, 0x28, 0x37, 0x09, 0x12, 0x24, 0x2f, 0x39, 0x15, 0x2a, 0x33, 0x01, \n",
      "\n"
     ]
    }
   ],
   "source": [
    "dump_table(\"gflog\",gflog)\n",
    "dump_table(\"gfilog\",gfilog)"
   ]
  },
  {
   "cell_type": "code",
   "execution_count": 12,
   "id": "2fb81ebd",
   "metadata": {
    "colab": {
     "base_uri": "https://localhost:8080/"
    },
    "id": "2fb81ebd",
    "outputId": "805d7d65-f269-4dd7-838f-26e544b80883"
   },
   "outputs": [
    {
     "name": "stdout",
     "output_type": "stream",
     "text": [
      "gflog[0x00]  is 0x00, but gfilog[0x00] is 0x01\n",
      "gfilog[0x3f] is 0x01, but gflog[0x01]  is 0x00\n"
     ]
    }
   ],
   "source": [
    "# A check to prove the tables really are inverses of each other (almost)\n",
    "gf_num_elements = 0x40\n",
    "for i in range (0, gf_num_elements):\n",
    "    a = gflog[i]\n",
    "    b = gfilog[i]\n",
    "    if gfilog[a] != i:\n",
    "        print (\"gflog[0x{:02x}]  is 0x{:02x}, but gfilog[0x{:02x}] is 0x{:02x}\".format(i,a,a,gfilog[a]))\n",
    "    if gflog[b] != i:\n",
    "        print (\"gfilog[0x{:02x}] is 0x{:02x}, but gflog[0x{:02x}]  is 0x{:02x}\".format(i,b,b,gflog[b]))"
   ]
  },
  {
   "cell_type": "code",
   "execution_count": 14,
   "id": "bf8a64d7",
   "metadata": {
    "id": "bf8a64d7"
   },
   "outputs": [],
   "source": [
    "# rs_functions.py\n",
    "\n",
    "#from gflog_tables import *\n",
    "\n",
    "# Addition\n",
    "# Under a Galois Field 2^n, addition is always a simple XOR.\n",
    "def gf_add(*args):\n",
    "    result = 0\n",
    "    for arg in args:\n",
    "        result ^= arg\n",
    "\n",
    "    return result\n",
    "\n",
    "# Multiplication\n",
    "def gf_mul(a, b):\n",
    "    global gflog\n",
    "    global gfilog\n",
    "\n",
    "    if a == 0 or b == 0:\n",
    "        return 0\n",
    "    else:\n",
    "        return gfilog[(gflog[a] + gflog[b]) % 63]\n",
    "\n",
    "# Subtraction (Division helper)\n",
    "def sub_gf8(a, b):\n",
    "    if a > b:\n",
    "        return a - b\n",
    "    else:\n",
    "        return (63 - (0 - (a - b)))  # Weird way to do modulus. \n",
    "\n",
    "# Division\n",
    "def gf_div(a, b):\n",
    "    global gfilog\n",
    "    global gflog\n",
    "\n",
    "    return gfilog[sub_gf8(gflog[a], gflog[b])]\n"
   ]
  },
  {
   "cell_type": "code",
   "execution_count": 13,
   "id": "561c10d6",
   "metadata": {
    "colab": {
     "base_uri": "https://localhost:8080/"
    },
    "id": "561c10d6",
    "outputId": "5aaf5968-ca28-4726-fc8c-b5dae8e2cd36"
   },
   "outputs": [
    {
     "name": "stdout",
     "output_type": "stream",
     "text": [
      "   | 00 01 02 03 04 05 06 07 08 09 0a 0b 0c 0d 0e 0f 10 11 12 13 14 15 16 17 18 19 1a 1b 1c 1d 1e 1f\n",
      "---+------------------------------------------------------------------------------------------------\n",
      "00 | 00 00 00 00 00 00 00 00 00 00 00 00 00 00 00 00 00 00 00 00 00 00 00 00 00 00 00 00 00 00 00 00\n",
      "01 | 00 01 02 03 04 05 06 07 08 09 0a 0b 0c 0d 0e 0f 10 11 12 13 14 15 16 17 18 19 1a 1b 1c 1d 1e 1f\n",
      "02 | 00 02 04 06 08 0a 0c 0e 10 12 14 16 18 1a 1c 1e 20 22 24 26 28 2a 2c 2e 30 32 34 36 38 3a 3c 3e\n",
      "03 | 00 03 06 05 0c 0f 0a 09 18 1b 1e 1d 14 17 12 11 30 33 36 35 3c 3f 3a 39 28 2b 2e 2d 24 27 22 21\n",
      "04 | 00 04 08 0c 10 14 18 1c 20 24 28 2c 30 34 38 3c 03 07 0b 0f 13 17 1b 1f 23 27 2b 2f 33 37 3b 3f\n",
      "05 | 00 05 0a 0f 14 11 1e 1b 28 2d 22 27 3c 39 36 33 13 16 19 1c 07 02 0d 08 3b 3e 31 34 2f 2a 25 20\n",
      "06 | 00 06 0c 0a 18 1e 14 12 30 36 3c 3a 28 2e 24 22 23 25 2f 29 3b 3d 37 31 13 15 1f 19 0b 0d 07 01\n",
      "07 | 00 07 0e 09 1c 1b 12 15 38 3f 36 31 24 23 2a 2d 33 34 3d 3a 2f 28 21 26 0b 0c 05 02 17 10 19 1e\n",
      "08 | 00 08 10 18 20 28 30 38 03 0b 13 1b 23 2b 33 3b 06 0e 16 1e 26 2e 36 3e 05 0d 15 1d 25 2d 35 3d\n",
      "09 | 00 09 12 1b 24 2d 36 3f 0b 02 19 10 2f 26 3d 34 16 1f 04 0d 32 3b 20 29 1d 14 0f 06 39 30 2b 22\n",
      "0a | 00 0a 14 1e 28 22 3c 36 13 19 07 0d 3b 31 2f 25 26 2c 32 38 0e 04 1a 10 35 3f 21 2b 1d 17 09 03\n",
      "0b | 00 0b 16 1d 2c 27 3a 31 1b 10 0d 06 37 3c 21 2a 36 3d 20 2b 1a 11 0c 07 2d 26 3b 30 01 0a 17 1c\n",
      "0c | 00 0c 18 14 30 3c 28 24 23 2f 3b 37 13 1f 0b 07 05 09 1d 11 35 39 2d 21 26 2a 3e 32 16 1a 0e 02\n",
      "0d | 00 0d 1a 17 34 39 2e 23 2b 26 31 3c 1f 12 05 08 15 18 0f 02 21 2c 3b 36 3e 33 24 29 0a 07 10 1d\n",
      "0e | 00 0e 1c 12 38 36 24 2a 33 3d 2f 21 0b 05 17 19 25 2b 39 37 1d 13 01 0f 16 18 0a 04 2e 20 32 3c\n",
      "0f | 00 0f 1e 11 3c 33 22 2d 3b 34 25 2a 07 08 19 16 35 3a 2b 24 09 06 17 18 0e 01 10 1f 32 3d 2c 23\n",
      "10 | 00 10 20 30 03 13 23 33 06 16 26 36 05 15 25 35 0c 1c 2c 3c 0f 1f 2f 3f 0a 1a 2a 3a 09 19 29 39\n",
      "11 | 00 11 22 33 07 16 25 34 0e 1f 2c 3d 09 18 2b 3a 1c 0d 3e 2f 1b 0a 39 28 12 03 30 21 15 04 37 26\n",
      "12 | 00 12 24 36 0b 19 2f 3d 16 04 32 20 1d 0f 39 2b 2c 3e 08 1a 27 35 03 11 3a 28 1e 0c 31 23 15 07\n",
      "13 | 00 13 26 35 0f 1c 29 3a 1e 0d 38 2b 11 02 37 24 3c 2f 1a 09 33 20 15 06 22 31 04 17 2d 3e 0b 18\n",
      "14 | 00 14 28 3c 13 07 3b 2f 26 32 0e 1a 35 21 1d 09 0f 1b 27 33 1c 08 34 20 29 3d 01 15 3a 2e 12 06\n",
      "15 | 00 15 2a 3f 17 02 3d 28 2e 3b 04 11 39 2c 13 06 1f 0a 35 20 08 1d 22 37 31 24 1b 0e 26 33 0c 19\n",
      "16 | 00 16 2c 3a 1b 0d 37 21 36 20 1a 0c 2d 3b 01 17 2f 39 03 15 34 22 18 0e 19 0f 35 23 02 14 2e 38\n",
      "17 | 00 17 2e 39 1f 08 31 26 3e 29 10 07 21 36 0f 18 3f 28 11 06 20 37 0e 19 01 16 2f 38 1e 09 30 27\n",
      "18 | 00 18 30 28 23 3b 13 0b 05 1d 35 2d 26 3e 16 0e 0a 12 3a 22 29 31 19 01 0f 17 3f 27 2c 34 1c 04\n",
      "19 | 00 19 32 2b 27 3e 15 0c 0d 14 3f 26 2a 33 18 01 1a 03 28 31 3d 24 0f 16 17 0e 25 3c 30 29 02 1b\n",
      "1a | 00 1a 34 2e 2b 31 1f 05 15 0f 21 3b 3e 24 0a 10 2a 30 1e 04 01 1b 35 2f 3f 25 0b 11 14 0e 20 3a\n",
      "1b | 00 1b 36 2d 2f 34 19 02 1d 06 2b 30 32 29 04 1f 3a 21 0c 17 15 0e 23 38 27 3c 11 0a 08 13 3e 25\n",
      "1c | 00 1c 38 24 33 2f 0b 17 25 39 1d 01 16 0a 2e 32 09 15 31 2d 3a 26 02 1e 2c 30 14 08 1f 03 27 3b\n",
      "1d | 00 1d 3a 27 37 2a 0d 10 2d 30 17 0a 1a 07 20 3d 19 04 23 3e 2e 33 14 09 34 29 0e 13 03 1e 39 24\n",
      "1e | 00 1e 3c 22 3b 25 07 19 35 2b 09 17 0e 10 32 2c 29 37 15 0b 12 0c 2e 30 1c 02 20 3e 27 39 1b 05\n",
      "1f | 00 1f 3e 21 3f 20 01 1e 3d 22 03 1c 02 1d 3c 23 39 26 07 18 06 19 38 27 04 1b 3a 25 3b 24 05 1a\n"
     ]
    }
   ],
   "source": [
    "#Print a portion of the gf(256) Multiplication Table\n",
    "startx=0x0\n",
    "starty=0x0\n",
    "\n",
    "numrows=32\n",
    "numcols=32\n",
    "\n",
    "endx=startx+numcols\n",
    "endy=starty+numrows\n",
    "\n",
    "print (\"   |\", end=\"\")\n",
    "for x in range(startx,endx):\n",
    "    print(\" {:02x}\".format(x), end=\"\")\n",
    "print(\"\")\n",
    "print (\"---+\", end=\"\")\n",
    "for x in range(startx,endx):\n",
    "    print(\"---\",end=\"\")\n",
    "print(\"\")\n",
    "\n",
    "for y in range(starty,endy):\n",
    "    print(\"{:02x} |\".format(y), end=\"\")\n",
    "    for x in range(startx,endx):\n",
    "        print(\" {:02x}\".format(gf_mul(x,y)), end=\"\")\n",
    "    print(\"\")\n",
    "        \n"
   ]
  },
  {
   "cell_type": "code",
   "execution_count": 15,
   "id": "aab78598",
   "metadata": {
    "colab": {
     "base_uri": "https://localhost:8080/"
    },
    "id": "aab78598",
    "outputId": "bc34737c-6a48-4785-b714-661058644ec5"
   },
   "outputs": [
    {
     "name": "stdout",
     "output_type": "stream",
     "text": [
      "gflog(n) n   gfilog(n)  1/gfilog(n)\n",
      "00       00  01         01\n",
      "00       01  02         21\n",
      "01       02  04         31\n",
      "06       03  08         39\n",
      "02       04  10         3d\n",
      "0c       05  20         3f\n",
      "07       06  03         3e\n",
      "1a       07  06         1f\n",
      "03       08  0c         2e\n",
      "20       09  18         17\n",
      "0d       0a  30         2a\n",
      "23       0b  23         15\n",
      "08       0c  05         2b\n",
      "30       0d  0a         34\n",
      "1b       0e  14         1a\n",
      "12       0f  28         0d\n",
      "04       10  13         27\n",
      "18       11  26         32\n",
      "21       12  0f         19\n",
      "10       13  1e         2d\n",
      "0e       14  3c         37\n",
      "34       15  3b         3a\n",
      "24       16  35         1d\n",
      "36       17  29         2f\n",
      "09       18  11         36\n",
      "2d       19  22         1b\n",
      "31       1a  07         2c\n",
      "26       1b  0e         16\n",
      "1c       1c  1c         0b\n",
      "29       1d  38         24\n",
      "13       1e  33         12\n",
      "38       1f  25         09\n",
      "05       20  09         25\n",
      "3e       21  12         33\n",
      "19       22  24         38\n",
      "0b       23  0b         1c\n",
      "22       24  16         0e\n",
      "1f       25  2c         07\n",
      "11       26  1b         22\n",
      "2f       27  36         11\n",
      "0f       28  2f         29\n",
      "17       29  1d         35\n",
      "35       2a  3a         3b\n",
      "33       2b  37         3c\n",
      "25       2c  2d         1e\n",
      "2c       2d  19         0f\n",
      "37       2e  32         26\n",
      "28       2f  27         13\n",
      "0a       30  0d         28\n",
      "3d       31  1a         14\n",
      "2e       32  34         0a\n",
      "1e       33  2b         05\n",
      "32       34  15         23\n",
      "16       35  2a         30\n",
      "27       36  17         18\n",
      "2b       37  2e         0c\n",
      "1d       38  1f         06\n",
      "3c       39  3e         03\n",
      "2a       3a  3f         20\n",
      "15       3b  3d         10\n",
      "14       3c  39         08\n",
      "3b       3d  31         04\n",
      "39       3e  21         02\n",
      "3a       3f  01         01\n"
     ]
    }
   ],
   "source": [
    "\n",
    "print (\"gflog(n) n   gfilog(n)  1/gfilog(n)\")\n",
    "for index in range(64):\n",
    "    print (\"{:02x}       {:02x}  {:02x}         {:02x}\".format(gflog[index],index, gfilog[index],gf_div(1,gfilog[index])))\n",
    "    "
   ]
  },
  {
   "cell_type": "code",
   "execution_count": null,
   "id": "5f16d741",
   "metadata": {
    "id": "5f16d741"
   },
   "outputs": [],
   "source": []
  }
 ],
 "metadata": {
  "colab": {
   "provenance": []
  },
  "kernelspec": {
   "display_name": "Python 3 (ipykernel)",
   "language": "python",
   "name": "python3"
  },
  "language_info": {
   "codemirror_mode": {
    "name": "ipython",
    "version": 3
   },
   "file_extension": ".py",
   "mimetype": "text/x-python",
   "name": "python",
   "nbconvert_exporter": "python",
   "pygments_lexer": "ipython3",
   "version": "3.9.13"
  }
 },
 "nbformat": 4,
 "nbformat_minor": 5
}
